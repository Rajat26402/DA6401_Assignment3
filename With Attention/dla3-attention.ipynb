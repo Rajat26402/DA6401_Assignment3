{
 "cells": [
  {
   "cell_type": "code",
   "execution_count": null,
   "metadata": {
    "_cell_guid": "b1076dfc-b9ad-4769-8c92-a6c4dae69d19",
    "_uuid": "8f2839f25d086af736a60e9eeb907d3b93b6e0e5",
    "trusted": true
   },
   "outputs": [],
   "source": [
    "# This Python 3 environment comes with many helpful analytics libraries installed\n",
    "# It is defined by the kaggle/python Docker image: https://github.com/kaggle/docker-python\n",
    "# For example, here's several helpful packages to load\n",
    "\n",
    "import numpy as np # linear algebra\n",
    "import pandas as pd # data processing, CSV file I/O (e.g. pd.read_csv)\n",
    "\n",
    "# Input data files are available in the read-only \"../input/\" directory\n",
    "# For example, running this (by clicking run or pressing Shift+Enter) will list all files under the input directory\n",
    "\n",
    "import os\n",
    "for dirname, _, filenames in os.walk('/kaggle/input'):\n",
    "    for filename in filenames:\n",
    "        print(os.path.join(dirname, filename))\n",
    "\n",
    "# You can write up to 20GB to the current directory (/kaggle/working/) that gets preserved as output when you create a version using \"Save & Run All\" \n",
    "# You can also write temporary files to /kaggle/temp/, but they won't be saved outside of the current session"
   ]
  },
  {
   "cell_type": "code",
   "execution_count": 1,
   "metadata": {
    "execution": {
     "iopub.execute_input": "2025-05-20T03:29:14.986620Z",
     "iopub.status.busy": "2025-05-20T03:29:14.986363Z",
     "iopub.status.idle": "2025-05-20T03:29:22.437902Z",
     "shell.execute_reply": "2025-05-20T03:29:22.437203Z",
     "shell.execute_reply.started": "2025-05-20T03:29:14.986601Z"
    },
    "trusted": true
   },
   "outputs": [],
   "source": [
    "import os\n",
    "import json\n",
    "import torch\n",
    "import torch.nn as nn\n",
    "import torch.optim as optim\n",
    "import torch.nn.functional as F\n",
    "import pandas as pd\n",
    "from torch.utils.data import DataLoader, Dataset\n",
    "import wandb\n",
    "import matplotlib.pyplot as plt\n",
    "import seaborn as sns\n",
    "import numpy as np\n",
    "import matplotlib.gridspec as gridspec\n",
    "from matplotlib.figure import Figure\n",
    "from matplotlib.backends.backend_agg import FigureCanvasAgg as FigureCanvas"
   ]
  },
  {
   "cell_type": "code",
   "execution_count": 2,
   "metadata": {
    "execution": {
     "iopub.execute_input": "2025-05-20T03:29:25.995291Z",
     "iopub.status.busy": "2025-05-20T03:29:25.994816Z",
     "iopub.status.idle": "2025-05-20T03:29:26.007002Z",
     "shell.execute_reply": "2025-05-20T03:29:26.006339Z",
     "shell.execute_reply.started": "2025-05-20T03:29:25.995265Z"
    },
    "trusted": true
   },
   "outputs": [],
   "source": [
    "class TransliterationDataset(Dataset):\n",
    "    def __init__(self, file_path, source_vocab=None, target_vocab=None, max_length=32, create_vocab=False):\n",
    "        # Attempt to read tab-separated file containing native and romanized text\n",
    "        try:\n",
    "            data = pd.read_csv(file_path, sep='\\t', header=None,\n",
    "                               names=['native', 'roman', 'freq'],\n",
    "                               usecols=[0, 1], dtype=str)\n",
    "            print(f\"Loaded {len(data)} records from {file_path}\")\n",
    "\n",
    "            # Replace missing entries with empty strings\n",
    "            data['native'] = data['native'].fillna('')\n",
    "            data['roman'] = data['roman'].fillna('')\n",
    "\n",
    "            # Create input-output text pairs for transliteration\n",
    "            self.data_pairs = list(zip(data['roman'], data['native']))\n",
    "            print(f\"Example pairs: {self.data_pairs[:2]}\")\n",
    "        except Exception as err:\n",
    "            print(f\"Failed to load data: {err}\")\n",
    "            self.data_pairs = [('', '')]  # Fallback entry\n",
    "\n",
    "        self.max_length = max_length\n",
    "\n",
    "        # Initialize or use existing vocabulary mappings\n",
    "        if create_vocab:\n",
    "            self.source_vocab = {'<pad>': 0, '<unk>': 1, '<sos>':2, '<eos>':3}\n",
    "            self.target_vocab = {'<pad>': 0, '<unk>': 1, '<sos>':2, '<eos>':3}\n",
    "            self._generate_vocab_function()\n",
    "        else:\n",
    "            self.source_vocab, self.target_vocab = source_vocab, target_vocab\n",
    "            if '<eos>' not in self.source_vocab:\n",
    "                self.source_vocab['<eos>'] = len(self.source_vocab)\n",
    "            if '<eos>' not in self.target_vocab:\n",
    "                self.target_vocab['<eos>'] = len(self.target_vocab)\n",
    "\n",
    "    def _generate_vocab_function(self):\n",
    "        # Create vocabularies at the character level from the dataset\n",
    "        for src_text, tgt_text in self.data_pairs:\n",
    "            for char in src_text:\n",
    "                if char not in self.source_vocab:\n",
    "                    self.source_vocab[char] = len(self.source_vocab)\n",
    "            for char in tgt_text:\n",
    "                if char not in self.target_vocab:\n",
    "                    self.target_vocab[char] = len(self.target_vocab)\n",
    "        print(f\"Vocab sizes — Source: {len(self.source_vocab)}, Target: {len(self.target_vocab)}\")\n",
    "\n",
    "    def __len__(self):\n",
    "        return len(self.data_pairs)\n",
    "\n",
    "    def __getitem__(self, idx):\n",
    "        src_seq, tgt_seq = self.data_pairs[idx]\n",
    "        \n",
    "        # Convert characters to indices with bounds checking\n",
    "        src_idxs = [self.source_vocab['<sos>']]  # Start with SOS token\n",
    "        for ch in src_seq:\n",
    "            idx = self.source_vocab.get(ch, self.source_vocab['<unk>'])\n",
    "            if idx >= len(self.source_vocab):\n",
    "                idx = self.source_vocab['<unk>']  # Safety check\n",
    "            src_idxs.append(idx)\n",
    "            \n",
    "        tgt_idxs = [self.target_vocab['<sos>']]  # Start with SOS token\n",
    "        for ch in tgt_seq:\n",
    "            idx = self.target_vocab.get(ch, self.target_vocab['<unk>'])\n",
    "            if idx >= len(self.target_vocab):\n",
    "                idx = self.target_vocab['<unk>']  # Safety check\n",
    "            tgt_idxs.append(idx)\n",
    "        \n",
    "        # Add end-of-sequence token\n",
    "        src_idxs.append(self.source_vocab['<eos>'])\n",
    "        tgt_idxs.append(self.target_vocab['<eos>'])\n",
    "        \n",
    "        # Add padding\n",
    "        pad_src = [self.source_vocab['<pad>']] * max(0, self.max_length - len(src_idxs))\n",
    "        pad_tgt = [self.target_vocab['<pad>']] * max(0, self.max_length - len(tgt_idxs))\n",
    "        \n",
    "        # Truncate if necessary and convert to tensor\n",
    "        src_idxs = (src_idxs + pad_src)[:self.max_length]\n",
    "        tgt_idxs = (tgt_idxs + pad_tgt)[:self.max_length]\n",
    "        \n",
    "        # Make sure padding index is valid\n",
    "        assert self.source_vocab['<pad>'] < len(self.source_vocab), \"Padding index out of bounds for source vocab\"\n",
    "        assert self.target_vocab['<pad>'] < len(self.target_vocab), \"Padding index out of bounds for target vocab\"\n",
    "        \n",
    "        return torch.tensor(src_idxs, dtype=torch.long), torch.tensor(tgt_idxs, dtype=torch.long)"
   ]
  },
  {
   "cell_type": "code",
   "execution_count": 3,
   "metadata": {
    "execution": {
     "iopub.execute_input": "2025-05-20T03:29:27.399824Z",
     "iopub.status.busy": "2025-05-20T03:29:27.399560Z",
     "iopub.status.idle": "2025-05-20T03:29:27.406005Z",
     "shell.execute_reply": "2025-05-20T03:29:27.405296Z",
     "shell.execute_reply.started": "2025-05-20T03:29:27.399803Z"
    },
    "trusted": true
   },
   "outputs": [],
   "source": [
    "class BahdanauAttention(nn.Module):\n",
    "    \"\"\"Bahdanau attention mechanism (additive attention)\"\"\"\n",
    "    def __init__(self, hidden_size):\n",
    "        super().__init__()\n",
    "        self.hidden_size = hidden_size\n",
    "        \n",
    "        # Define trainable parameters for attention mechanism\n",
    "        self.W_a = nn.Linear(hidden_size * 2, hidden_size)\n",
    "        self.v_a = nn.Linear(hidden_size, 1, bias=False)\n",
    "        \n",
    "    def forward(self, query, keys):\n",
    "        \"\"\"\n",
    "        Args:\n",
    "            query: decoder hidden state [batch_size, hidden_size]\n",
    "            keys: encoder outputs [batch_size, src_len, hidden_size]\n",
    "        Returns:\n",
    "            context: context vector [batch_size, hidden_size]\n",
    "            attention_weights: attention weights [batch_size, src_len]\n",
    "        \"\"\"\n",
    "        batch_size, src_len, _ = keys.size()\n",
    "        \n",
    "        # Reshape query to [batch_size, 1, hidden_size] to match keys dimensions\n",
    "        query = query.unsqueeze(1).repeat(1, src_len, 1)\n",
    "        \n",
    "        # Concatenate query and keys\n",
    "        # [batch_size, src_len, hidden_size * 2]\n",
    "        energy_input = torch.cat((query, keys), dim=2)\n",
    "        \n",
    "        # Calculate energy [batch_size, src_len, hidden_size]\n",
    "        energy = torch.tanh(self.W_a(energy_input))\n",
    "        \n",
    "        # Calculate attention scores [batch_size, src_len, 1]\n",
    "        attention = self.v_a(energy)\n",
    "        \n",
    "        # Remove last dimension and apply softmax\n",
    "        # [batch_size, src_len]\n",
    "        attention_weights = F.softmax(attention.squeeze(2), dim=1)\n",
    "        \n",
    "        # Calculate weighted sum of encoder outputs (context vector)\n",
    "        # [batch_size, 1, src_len] x [batch_size, src_len, hidden_size] -> [batch_size, 1, hidden_size]\n",
    "        context = torch.bmm(attention_weights.unsqueeze(1), keys)\n",
    "        \n",
    "        # Remove dimension 1 -> [batch_size, hidden_size]\n",
    "        context = context.squeeze(1)\n",
    "        \n",
    "        return context, attention_weights"
   ]
  },
  {
   "cell_type": "code",
   "execution_count": 4,
   "metadata": {
    "execution": {
     "iopub.execute_input": "2025-05-20T03:29:29.130181Z",
     "iopub.status.busy": "2025-05-20T03:29:29.129450Z",
     "iopub.status.idle": "2025-05-20T03:29:29.135658Z",
     "shell.execute_reply": "2025-05-20T03:29:29.134950Z",
     "shell.execute_reply.started": "2025-05-20T03:29:29.130156Z"
    },
    "trusted": true
   },
   "outputs": [],
   "source": [
    "class EncoderRNN(nn.Module):\n",
    "    def __init__(self, input_vocab_size, embedding_size, hidden_size, num_layers, dropout=0.0, cell_type='GRU'):\n",
    "        super().__init__()\n",
    "        self.embedding = nn.Embedding(input_vocab_size, embedding_size, padding_idx=0)\n",
    "        self.hidden_size = hidden_size\n",
    "        self.num_layers = num_layers\n",
    "        self.cell_type = cell_type\n",
    "        \n",
    "        # Choose appropriate RNN cell\n",
    "        if cell_type == 'RNN':\n",
    "            rnn_cell = nn.RNN\n",
    "        elif cell_type == 'GRU':\n",
    "            rnn_cell = nn.GRU\n",
    "        elif cell_type == 'LSTM':\n",
    "            rnn_cell = nn.LSTM\n",
    "        else:\n",
    "            raise ValueError(f\"RNN type not recognized: {cell_type}\")\n",
    "        \n",
    "        self.rnn = rnn_cell(\n",
    "            embedding_size, \n",
    "            hidden_size, \n",
    "            num_layers=num_layers, \n",
    "            batch_first=True,\n",
    "            dropout=dropout if num_layers > 1 else 0.0\n",
    "        )\n",
    "    \n",
    "    def forward(self, x):\n",
    "        \"\"\"\n",
    "        Args:\n",
    "            x: input sequence [batch_size, seq_len]\n",
    "        Returns:\n",
    "            outputs: encoder outputs [batch_size, seq_len, hidden_size]\n",
    "            hidden: final hidden state [num_layers, batch_size, hidden_size]\n",
    "        \"\"\"\n",
    "        # Apply embedding layer: [batch_size, seq_len] -> [batch_size, seq_len, embedding_size]\n",
    "        embedded = self.embedding(x)\n",
    "        \n",
    "        # Pass through RNN\n",
    "        outputs, hidden = self.rnn(embedded)\n",
    "        \n",
    "        return outputs, hidden"
   ]
  },
  {
   "cell_type": "code",
   "execution_count": 5,
   "metadata": {
    "execution": {
     "iopub.execute_input": "2025-05-20T03:29:30.823412Z",
     "iopub.status.busy": "2025-05-20T03:29:30.823159Z",
     "iopub.status.idle": "2025-05-20T03:29:30.831484Z",
     "shell.execute_reply": "2025-05-20T03:29:30.830801Z",
     "shell.execute_reply.started": "2025-05-20T03:29:30.823393Z"
    },
    "trusted": true
   },
   "outputs": [],
   "source": [
    "class DecoderRNN(nn.Module):\n",
    "    def __init__(self, output_vocab_size, embedding_size, hidden_size, num_layers, dropout=0.0, cell_type='GRU'):\n",
    "        super().__init__()\n",
    "        self.output_vocab_size = output_vocab_size\n",
    "        self.embedding_size = embedding_size\n",
    "        self.hidden_size = hidden_size\n",
    "        self.num_layers = num_layers\n",
    "        self.cell_type = cell_type\n",
    "        \n",
    "        self.embedding = nn.Embedding(output_vocab_size, embedding_size, padding_idx=0)\n",
    "        \n",
    "        # Attention mechanism\n",
    "        self.attention = BahdanauAttention(hidden_size)\n",
    "        \n",
    "        # For concatenating embedding and context vector\n",
    "        self.rnn_input_size = embedding_size + hidden_size\n",
    "        \n",
    "        # Choose appropriate RNN cell\n",
    "        if cell_type == 'RNN':\n",
    "            rnn_cell = nn.RNN\n",
    "        elif cell_type == 'GRU':\n",
    "            rnn_cell = nn.GRU\n",
    "        elif cell_type == 'LSTM':\n",
    "            rnn_cell = nn.LSTM\n",
    "        else:\n",
    "            raise ValueError(f\"RNN type not recognized: {cell_type}\")\n",
    "        \n",
    "        self.rnn = rnn_cell(\n",
    "            self.rnn_input_size, \n",
    "            hidden_size, \n",
    "            num_layers=num_layers, \n",
    "            batch_first=True,\n",
    "            dropout=dropout if num_layers > 1 else 0.0\n",
    "        )\n",
    "        \n",
    "        # Linear layer to produce output logits\n",
    "        self.output_projection = nn.Linear(hidden_size * 2, output_vocab_size)\n",
    "    \n",
    "    def forward(self, input_token, last_hidden, encoder_outputs):\n",
    "        \"\"\"\n",
    "        Args:\n",
    "            input_token: input token indices [batch_size, 1]\n",
    "            last_hidden: previous decoder hidden state\n",
    "            encoder_outputs: encoder outputs [batch_size, src_len, hidden_size]\n",
    "        Returns:\n",
    "            output: output logits [batch_size, output_vocab_size]\n",
    "            hidden: new hidden state\n",
    "            attn_weights: attention weights [batch_size, src_len]\n",
    "        \"\"\"\n",
    "        # Get embedding for input token [batch_size, 1, embedding_size]\n",
    "        embedded = self.embedding(input_token)\n",
    "        \n",
    "        # Get current hidden state to use for attention\n",
    "        if self.cell_type == 'LSTM':\n",
    "            current_hidden = last_hidden[0][-1]  # Use the last layer's hidden state\n",
    "        else:\n",
    "            current_hidden = last_hidden[-1]  # Use the last layer's hidden state\n",
    "        \n",
    "        # Apply attention mechanism\n",
    "        context, attn_weights = self.attention(current_hidden, encoder_outputs)\n",
    "        \n",
    "        # Combine embedding and context vector [batch_size, 1, embedding_size + hidden_size]\n",
    "        rnn_input = torch.cat((embedded, context.unsqueeze(1)), dim=2)\n",
    "        \n",
    "        # Pass through RNN\n",
    "        output, hidden = self.rnn(rnn_input, last_hidden)\n",
    "        \n",
    "        # Combine RNN output with context vector for better prediction\n",
    "        output = torch.cat((output.squeeze(1), context), dim=1)\n",
    "        \n",
    "        # Project to vocabulary space [batch_size, output_vocab_size]\n",
    "        output = self.output_projection(output)\n",
    "        \n",
    "        return output, hidden, attn_weights"
   ]
  },
  {
   "cell_type": "code",
   "execution_count": 6,
   "metadata": {
    "execution": {
     "iopub.execute_input": "2025-05-20T03:29:32.880011Z",
     "iopub.status.busy": "2025-05-20T03:29:32.879699Z",
     "iopub.status.idle": "2025-05-20T03:29:32.892624Z",
     "shell.execute_reply": "2025-05-20T03:29:32.891972Z",
     "shell.execute_reply.started": "2025-05-20T03:29:32.879987Z"
    },
    "trusted": true
   },
   "outputs": [],
   "source": [
    "class Seq2SeqWithAttention(nn.Module):\n",
    "    def __init__(self, config, input_vocab_size, output_vocab_size):\n",
    "        super().__init__()\n",
    "\n",
    "        # Ensure vocabulary sizes are positive\n",
    "        assert input_vocab_size > 0, f\"Source vocab size invalid: {input_vocab_size}\"\n",
    "        assert output_vocab_size > 0, f\"Target vocab size invalid: {output_vocab_size}\"\n",
    "\n",
    "        # Hyperparameter setup\n",
    "        self.embedding_size = config.embed_dim\n",
    "        self.hidden_size = config.hidden_dim\n",
    "        self.rnn_type = config.cell_type\n",
    "        self.encoder_layers = config.num_layers\n",
    "        self.decoder_layers = config.num_layers\n",
    "        \n",
    "        # Initialize encoder and decoder\n",
    "        self.encoder = EncoderRNN(\n",
    "            input_vocab_size, \n",
    "            config.embed_dim, \n",
    "            config.hidden_dim, \n",
    "            config.num_layers, \n",
    "            config.dropout, \n",
    "            config.cell_type\n",
    "        )\n",
    "        \n",
    "        self.decoder = DecoderRNN(\n",
    "            output_vocab_size, \n",
    "            config.embed_dim, \n",
    "            config.hidden_dim, \n",
    "            config.num_layers, \n",
    "            config.dropout, \n",
    "            config.cell_type\n",
    "        )\n",
    "        \n",
    "        # For accessing embeddings in training/inference_function\n",
    "        self.input_embedding = self.encoder.embedding\n",
    "        self.output_embedding = self.decoder.embedding\n",
    "\n",
    "        print(f\"Initialized model with attention: {self.rnn_type}, Encoder layers: {self.encoder_layers}, \"\n",
    "              f\"Decoder layers: {self.decoder_layers}, Embedding: {self.embedding_size}, Hidden: {self.hidden_size}\")\n",
    "\n",
    "    def forward(self, source_seq, target_seq):\n",
    "        \"\"\"\n",
    "        Forward pass through the entire seq2seq model.\n",
    "        \n",
    "        Args:\n",
    "            source_seq: source sequence [batch_size, src_len]\n",
    "            target_seq: target sequence [batch_size, tgt_len]\n",
    "        \n",
    "        Returns:\n",
    "            outputs: output logits [batch_size, tgt_len-1, output_vocab_size]\n",
    "        \"\"\"\n",
    "        batch_size, tgt_len = target_seq.size()\n",
    "        device = source_seq.device\n",
    "\n",
    "        # Index range check and clamping\n",
    "        if source_seq.max() >= self.input_embedding.num_embeddings:\n",
    "            print(\"Warning: Source index out of bounds\")\n",
    "            source_seq = torch.clamp(source_seq, 0, self.input_embedding.num_embeddings - 1)\n",
    "        if target_seq.max() >= self.output_embedding.num_embeddings:\n",
    "            print(\"Warning: Target index out of bounds\")\n",
    "            target_seq = torch.clamp(target_seq, 0, self.output_embedding.num_embeddings - 1)\n",
    "\n",
    "        try:\n",
    "            # Encode source sequence\n",
    "            encoder_outputs, encoder_hidden = self.encoder(source_seq)\n",
    "            \n",
    "            # Initialize decoder hidden state with encoder final state\n",
    "            decoder_hidden = encoder_hidden\n",
    "            \n",
    "            # Teacher forcing: feed target as the next input\n",
    "            decoder_input = target_seq[:, :-1]  # Input: from <sos> to the second-to-last token\n",
    "            # Store all decoder outputs\n",
    "            outputs = torch.zeros(batch_size, tgt_len-1, self.decoder.output_vocab_size, device=device)\n",
    "            \n",
    "            # Process one token at a time\n",
    "            for t in range(tgt_len-1):\n",
    "                # Get token for current timestep\n",
    "                current_input = target_seq[:, t].unsqueeze(1)\n",
    "                \n",
    "                # Forward through decoder\n",
    "                decoder_output, decoder_hidden, _ = self.decoder(\n",
    "                    current_input,\n",
    "                    decoder_hidden,\n",
    "                    encoder_outputs\n",
    "                )\n",
    "                \n",
    "                # Store prediction\n",
    "                outputs[:, t, :] = decoder_output\n",
    "            \n",
    "            return outputs\n",
    "            \n",
    "        except Exception as err:\n",
    "            print(f\"Forward pass exception: {err}\")\n",
    "            return torch.zeros(batch_size, tgt_len-1, self.decoder.output_vocab_size, device=device)\n",
    "\n",
    "    def inference_function(self, source_seq, max_length=50, beam_size=1):\n",
    "        \"\"\"\n",
    "        Generate transliteration using beam search.\n",
    "        \n",
    "        Args:\n",
    "            source_seq: source sequence [batch_size, src_len]\n",
    "            max_length: maximum length of generated sequence\n",
    "            beam_size: beam size for beam search\n",
    "            \n",
    "        Returns:\n",
    "            generated_seq: generated sequence [batch_size, max_length]\n",
    "        \"\"\"\n",
    "        batch_size = source_seq.size(0)\n",
    "        device = source_seq.device\n",
    "        \n",
    "        # Encode source sequence\n",
    "        encoder_outputs, encoder_hidden = self.encoder(source_seq)\n",
    "        \n",
    "        if beam_size == 1:\n",
    "            # Greedy search\n",
    "            decoder_hidden = encoder_hidden\n",
    "            decoder_input = torch.tensor([[2]], device=device).repeat(batch_size, 1)  # Start with <sos> token\n",
    "            generated_tokens = torch.zeros(batch_size, max_length, dtype=torch.long, device=device)\n",
    "\n",
    "            # Store attention weights for each step\n",
    "            attention_weights = torch.zeros(batch_size, max_length, source_seq.size(1), device=device)\n",
    "            \n",
    "            for t in range(max_length):\n",
    "                # Forward through decoder\n",
    "                decoder_output, decoder_hidden, attn_weights = self.decoder(\n",
    "                    decoder_input,\n",
    "                    decoder_hidden,\n",
    "                    encoder_outputs\n",
    "                )\n",
    "                \n",
    "                # Get most likely token\n",
    "                _, topi = decoder_output.topk(1)\n",
    "                decoder_input = topi.view(batch_size, 1)\n",
    "                \n",
    "                # Save generated token\n",
    "                generated_tokens[:, t] = decoder_input.squeeze(1)\n",
    "\n",
    "                # Save attention weights\n",
    "                attention_weights[:, t, :] = attn_weights\n",
    "                \n",
    "                # Stop if all sequences generated <eos>\n",
    "                if (decoder_input == 3).all():  # 3 is <eos> token index\n",
    "                    break\n",
    "            \n",
    "            return generated_tokens, attention_weights\n",
    "        else:\n",
    "            # Implement beam search here (omitted for brevity)\n",
    "            # For now, return greedy search result\n",
    "            return self.inference_function(source_seq, max_length, beam_size=1)"
   ]
  },
  {
   "cell_type": "code",
   "execution_count": 7,
   "metadata": {
    "execution": {
     "iopub.execute_input": "2025-05-20T03:29:35.066786Z",
     "iopub.status.busy": "2025-05-20T03:29:35.066358Z",
     "iopub.status.idle": "2025-05-20T03:29:35.071880Z",
     "shell.execute_reply": "2025-05-20T03:29:35.071128Z",
     "shell.execute_reply.started": "2025-05-20T03:29:35.066752Z"
    },
    "trusted": true
   },
   "outputs": [],
   "source": [
    "def compute_accuracy_function(logits, target, pad_idx=0):\n",
    "    \"\"\"\n",
    "    Computes accuracy excluding padding tokens.\n",
    "    \"\"\"\n",
    "    preds = logits.argmax(dim=-1)\n",
    "    mask = target != pad_idx\n",
    "    correct = (preds == target) & mask\n",
    "    acc = correct.sum().item() / max(mask.sum().item(), 1)  # Avoid division by zero\n",
    "    return acc"
   ]
  },
  {
   "cell_type": "code",
   "execution_count": 8,
   "metadata": {
    "execution": {
     "iopub.execute_input": "2025-05-20T03:29:36.373349Z",
     "iopub.status.busy": "2025-05-20T03:29:36.373065Z",
     "iopub.status.idle": "2025-05-20T03:29:36.380440Z",
     "shell.execute_reply": "2025-05-20T03:29:36.379777Z",
     "shell.execute_reply.started": "2025-05-20T03:29:36.373319Z"
    },
    "trusted": true
   },
   "outputs": [],
   "source": [
    "def run_epoch_function(model, data_loader, loss_fn, optim, device):\n",
    "    model.train()\n",
    "    total_loss = 0.0\n",
    "    total_acc = 0.0\n",
    "    total_batches = len(data_loader)\n",
    "    processed_batches = 0\n",
    "\n",
    "    for i, (inputs, targets) in enumerate(data_loader):\n",
    "        try:\n",
    "            inputs = inputs.to(device)\n",
    "            targets = targets.to(device)\n",
    "\n",
    "            # Check for out-of-vocabulary token indices\n",
    "            if inputs.max().item() >= model.input_embedding.num_embeddings or \\\n",
    "               targets.max().item() >= model.output_embedding.num_embeddings:\n",
    "                print(f\"Skipping batch {i}/{total_batches} - \"\n",
    "                      f\"Input max: {inputs.max().item()}, Target max: {targets.max().item()}, \"\n",
    "                      f\"Input vocab size: {model.input_embedding.num_embeddings}, \"\n",
    "                      f\"Target vocab size: {model.output_embedding.num_embeddings}\")\n",
    "                continue\n",
    "\n",
    "            # Reset gradients\n",
    "            optim.zero_grad()\n",
    "\n",
    "            # Model inference_function\n",
    "            output_logits = model(inputs, targets)\n",
    "\n",
    "            # Flatten predictions and targets for loss function\n",
    "            pred_flat = output_logits.reshape(-1, output_logits.size(-1))\n",
    "            true_flat = targets[:, 1:].reshape(-1)  # Shift targets by one for teacher forcing\n",
    "\n",
    "            # Compute loss and perform optimization\n",
    "            loss = loss_fn(pred_flat, true_flat)\n",
    "            loss.backward()\n",
    "            \n",
    "            # Apply gradient clipping to prevent exploding gradients\n",
    "            torch.nn.utils.clip_grad_norm_(model.parameters(), max_norm=1.0)\n",
    "            \n",
    "            optim.step()\n",
    "\n",
    "            total_loss += loss.item()\n",
    "                \n",
    "            # Accuracy\n",
    "            acc = compute_accuracy_function(output_logits, targets[:, 1:])\n",
    "            total_acc += acc\n",
    "            processed_batches += 1\n",
    "\n",
    "        except Exception as err:\n",
    "            print(f\"Error in batch {i}/{total_batches}: {err}\")\n",
    "            continue\n",
    "\n",
    "    if processed_batches == 0:\n",
    "        return 0.0, 0.0\n",
    "    return total_loss / processed_batches, total_acc / processed_batches"
   ]
  },
  {
   "cell_type": "code",
   "execution_count": 56,
   "metadata": {
    "execution": {
     "iopub.execute_input": "2025-05-20T09:59:56.270418Z",
     "iopub.status.busy": "2025-05-20T09:59:56.270131Z",
     "iopub.status.idle": "2025-05-20T09:59:56.278085Z",
     "shell.execute_reply": "2025-05-20T09:59:56.277403Z",
     "shell.execute_reply.started": "2025-05-20T09:59:56.270396Z"
    },
    "trusted": true
   },
   "outputs": [],
   "source": [
    "def validate_model1(model, data_loader, loss_fn, device):\n",
    "    model.eval()\n",
    "    total_loss = 0.0\n",
    "    total_acc = 0.0\n",
    "    processed_batches = 0\n",
    "\n",
    "    with torch.no_grad():\n",
    "        for inputs, targets in data_loader:\n",
    "            try:\n",
    "                inputs = inputs.to(device)\n",
    "                targets = targets.to(device)\n",
    "\n",
    "                # Ensure token indices are within valid vocabulary range\n",
    "                if inputs.max() >= model.input_embedding.num_embeddings or \\\n",
    "                   targets.max() >= model.output_embedding.num_embeddings:\n",
    "                    continue  # Skip batch if invalid indices found\n",
    "\n",
    "                # Forward propagation\n",
    "                predictions = model(inputs, targets)\n",
    "\n",
    "                # Flatten tensors for loss calculation\n",
    "                pred_flat = predictions.reshape(-1, predictions.size(-1))\n",
    "                target_flat = targets[:, 1:].reshape(-1)  # Shift targets by one for teacher forcing\n",
    "\n",
    "                # Compute batch loss\n",
    "                loss = loss_fn(pred_flat, target_flat)\n",
    "                total_loss += loss.item()\n",
    "                \n",
    "                # Compute accuracy\n",
    "                acc = compute_accuracy_function(predictions, targets[:, 1:])\n",
    "                total_acc += acc\n",
    "                processed_batches += 1\n",
    "\n",
    "            except Exception as ex:\n",
    "                print(f\"Evaluation error: {ex}\")\n",
    "                continue\n",
    "\n",
    "    if processed_batches == 0:\n",
    "        return 0.0, 0.0\n",
    "    return total_loss / processed_batches, total_acc / processed_batches"
   ]
  },
  {
   "cell_type": "code",
   "execution_count": 10,
   "metadata": {
    "execution": {
     "iopub.execute_input": "2025-05-20T03:29:39.858482Z",
     "iopub.status.busy": "2025-05-20T03:29:39.858219Z",
     "iopub.status.idle": "2025-05-20T03:29:39.863995Z",
     "shell.execute_reply": "2025-05-20T03:29:39.863419Z",
     "shell.execute_reply.started": "2025-05-20T03:29:39.858464Z"
    },
    "trusted": true
   },
   "outputs": [],
   "source": [
    "def export_vocabularies_function(directory, source_dict, target_dict):\n",
    "    \"\"\"Export source and target vocabularies to JSON format.\"\"\"\n",
    "    os.makedirs(directory, exist_ok=True)\n",
    "    \n",
    "    src_path = os.path.join(directory, 'src.json')\n",
    "    tgt_path = os.path.join(directory, 'tgt.json')\n",
    "    \n",
    "    with open(src_path, 'w', encoding='utf-8') as src_file:\n",
    "        json.dump(source_dict, src_file, indent=2, ensure_ascii=False)\n",
    "        \n",
    "    with open(tgt_path, 'w', encoding='utf-8') as tgt_file:\n",
    "        json.dump(target_dict, tgt_file, indent=2, ensure_ascii=False)\n",
    "\n",
    "def import_vocabularies_function(directory):\n",
    "    \"\"\"Import source and target vocabularies from JSON files.\"\"\"\n",
    "    with open(os.path.join(directory, 'src.json'), 'r', encoding='utf-8') as src_file:\n",
    "        source_dict = json.load(src_file)\n",
    "        \n",
    "    with open(os.path.join(directory, 'tgt.json'), 'r', encoding='utf-8') as tgt_file:\n",
    "        target_dict = json.load(tgt_file)\n",
    "        \n",
    "    return source_dict, target_dict"
   ]
  },
  {
   "cell_type": "code",
   "execution_count": null,
   "metadata": {
    "execution": {
     "iopub.execute_input": "2025-05-20T03:29:41.324027Z",
     "iopub.status.busy": "2025-05-20T03:29:41.323760Z",
     "iopub.status.idle": "2025-05-20T03:29:41.514241Z",
     "shell.execute_reply": "2025-05-20T03:29:41.513451Z",
     "shell.execute_reply.started": "2025-05-20T03:29:41.324008Z"
    },
    "trusted": true
   },
   "outputs": [],
   "source": [
    "# Dataset paths\n",
    "path_train = '/kaggle/input/dakshina/dakshina_dataset_v1.0/mr/lexicons/mr.translit.sampled.train.tsv'\n",
    "path_dev = '/kaggle/input/dakshina/dakshina_dataset_v1.0/mr/lexicons/mr.translit.sampled.dev.tsv'\n",
    "vocab_dir = '/kaggle/working/vocab'\n",
    "\n",
    "print(\"Generating vocabularies...\")\n",
    "train_data = TransliterationDataset(path_train, create_vocab=True)\n",
    "src_vocab, tgt_vocab = train_data.source_vocab, train_data.target_vocab\n",
    "\n",
    "export_vocabularies_function(vocab_dir, src_vocab, tgt_vocab)\n",
    "print(f\"Source vocab: {len(src_vocab)}, Target vocab: {len(tgt_vocab)}\")\n",
    "\n",
    "# Display sample vocab entries\n",
    "print(\"Source vocab sample:\")\n",
    "for ch, idx in list(src_vocab.items())[:10]:\n",
    "    print(f\"  {repr(ch)} => {idx}\")\n",
    "print(\"Target vocab sample:\")\n",
    "for ch, idx in list(tgt_vocab.items())[:10]:\n",
    "    print(f\"  {repr(ch)} => {idx}\")"
   ]
  },
  {
   "cell_type": "code",
   "execution_count": 12,
   "metadata": {
    "execution": {
     "iopub.execute_input": "2025-05-20T03:29:43.169562Z",
     "iopub.status.busy": "2025-05-20T03:29:43.169301Z",
     "iopub.status.idle": "2025-05-20T03:29:43.179996Z",
     "shell.execute_reply": "2025-05-20T03:29:43.179295Z",
     "shell.execute_reply.started": "2025-05-20T03:29:43.169542Z"
    },
    "trusted": true
   },
   "outputs": [],
   "source": [
    "def run_sweep_function():\n",
    "    \"\"\"Function to run for each sweep configuration\"\"\"\n",
    "    run = wandb.init()\n",
    "    cfg = run.config\n",
    "        \n",
    "    # Create a descriptive run name\n",
    "    run.name = f\"{cfg.cell_type}-e{cfg.embed_dim}-h{cfg.hidden_dim}-enc{cfg.num_layers}-dec{cfg.num_layers}-d{cfg.dropout}-lr{cfg.learning_rate}-b{cfg.batch_size}-beam{cfg.beam_size}\"\n",
    "        \n",
    "    # Set device - force CPU initially if CUDA issues were detected\n",
    "    device = torch.device('cuda' if torch.cuda.is_available() else 'cpu')\n",
    "    epochs = 10\n",
    "    \n",
    "    # Load vocabularies\n",
    "    try:\n",
    "        src_vocab, tgt_vocab = import_vocabularies_function(vocab_dir)\n",
    "        print(f\"Loaded vocabularies: Source: {len(src_vocab)}, Target: {len(tgt_vocab)}\")\n",
    "    except Exception as e:\n",
    "        print(f\"Error loading vocabularies: {e}\")\n",
    "        print(\"Generating vocabularies...\")\n",
    "        train_data = TransliterationDataset(path_train, create_vocab=True)\n",
    "        src_vocab, tgt_vocab = train_data.source_vocab, train_data.target_vocab\n",
    "        export_vocabularies_function(vocab_dir, src_vocab, tgt_vocab)\n",
    "    \n",
    "    # Initialize model\n",
    "    try:\n",
    "        # First create on CPU\n",
    "        model = Seq2SeqWithAttention(cfg, len(src_vocab), len(tgt_vocab))\n",
    "        print(\"Model created on CPU, trying to move to device...\")\n",
    "        # Then try to move to target device\n",
    "        model = model.to(device)\n",
    "        print(\"Model successfully moved to device.\")\n",
    "    except Exception as e:\n",
    "        print(f\"Error initializing model on {device}: {e}\")\n",
    "        print(\"Falling back to CPU\")\n",
    "        device = torch.device('cpu')\n",
    "        model = Seq2SeqWithAttention(cfg, len(src_vocab), len(tgt_vocab)).to(device)\n",
    "        \n",
    "    # Load datasets\n",
    "    try:\n",
    "        print(\"Loading datasets...\")\n",
    "        train_dataset = TransliterationDataset(path_train, src_vocab, tgt_vocab)\n",
    "        dev_dataset = TransliterationDataset(path_dev, src_vocab, tgt_vocab)\n",
    "            \n",
    "        # Create data loaders\n",
    "        train_loader = DataLoader(train_dataset, batch_size=cfg.batch_size, shuffle=True)\n",
    "        dev_loader = DataLoader(dev_dataset, batch_size=cfg.batch_size)\n",
    "    except Exception as e:\n",
    "        print(f\"Error loading datasets: {e}\")\n",
    "        return\n",
    "        \n",
    "    # Initialize loss function and optimizer\n",
    "    try:\n",
    "        criterion = nn.CrossEntropyLoss(ignore_index=0)  # 0 is padding index\n",
    "        optimizer = optim.Adam(model.parameters(), lr=cfg.learning_rate)\n",
    "        \n",
    "        # Learning rate scheduler\n",
    "        scheduler = optim.lr_scheduler.ReduceLROnPlateau(\n",
    "            optimizer, mode='min', factor=0.5, patience=2, verbose=True\n",
    "        )\n",
    "    except Exception as e:\n",
    "        print(f\"Error initializing criterion or optimizer: {e}\")\n",
    "        return\n",
    "        \n",
    "    # Training loop\n",
    "    best_val_acc = 0.0\n",
    "        \n",
    "    try:\n",
    "        for epoch in range(epochs):\n",
    "            print(f\"Epoch {epoch+1}/{epochs}\")\n",
    "                \n",
    "            # Training\n",
    "            train_loss, train_acc = run_epoch_function(model, train_loader, criterion, optimizer, device)\n",
    "            print(f\"Train loss: {train_loss:.4f} Train Accuracy: {train_acc:.4f}\")\n",
    "                \n",
    "            # Validation\n",
    "            val_loss, val_acc = validate_model(model, dev_loader, criterion, device)\n",
    "            print(f\"Validation loss: {val_loss:.4f} Validation Accuracy: {val_acc:.4f} \")\n",
    "            \n",
    "            # Update learning rate\n",
    "            scheduler.step(val_loss)\n",
    "                \n",
    "            # Log metrics\n",
    "            wandb.log({\n",
    "                'train_loss': train_loss, \n",
    "                'val_loss': val_loss, \n",
    "                'train_acc': train_acc, \n",
    "                'val_acc': val_acc, \n",
    "                'epoch': epoch\n",
    "            })\n",
    "                \n",
    "            # Save best model\n",
    "            if val_acc > best_val_acc:\n",
    "                best_val_acc = val_acc\n",
    "                print(f\"New best model with validation accuracy: {best_val_acc:.4f}\")\n",
    "                \n",
    "        wandb.log({'val_accuracy': best_val_acc})\n",
    "        \n",
    "                    \n",
    "    except Exception as e:\n",
    "        print(f\"Error during training: {e}\")\n",
    "        import traceback\n",
    "        traceback.print_exc()"
   ]
  },
  {
   "cell_type": "code",
   "execution_count": 13,
   "metadata": {
    "execution": {
     "iopub.execute_input": "2025-05-20T03:29:45.369620Z",
     "iopub.status.busy": "2025-05-20T03:29:45.369354Z",
     "iopub.status.idle": "2025-05-20T03:29:45.374205Z",
     "shell.execute_reply": "2025-05-20T03:29:45.373497Z",
     "shell.execute_reply.started": "2025-05-20T03:29:45.369601Z"
    },
    "trusted": true
   },
   "outputs": [],
   "source": [
    "# Configure sweep \n",
    "sweep_config = {\n",
    "    'method': 'bayes',\n",
    "    'metric': {'name': 'val_accuracy', 'goal': 'maximize'},\n",
    "    'parameters': {\n",
    "        'cell_type': {'values': ['RNN', 'LSTM', 'GRU']},\n",
    "        'embed_dim': {'values': [64, 128, 256]},\n",
    "        'hidden_dim': {'values': [256, 512]},\n",
    "        'num_layers': {'values': [1, 2, 3]},\n",
    "        'dropout': {'values': [0.0, 0.1, 0.2]},\n",
    "        'learning_rate': {'values': [0.001, 0.0005, 0.0001]},\n",
    "        'batch_size': {'values': [32, 64, 128]},\n",
    "        'beam_size': {'values': [1, 3, 5]}\n",
    "    }\n",
    "}"
   ]
  },
  {
   "cell_type": "code",
   "execution_count": 14,
   "metadata": {
    "execution": {
     "iopub.execute_input": "2025-05-20T03:29:47.048825Z",
     "iopub.status.busy": "2025-05-20T03:29:47.048204Z",
     "iopub.status.idle": "2025-05-20T09:26:43.986658Z",
     "shell.execute_reply": "2025-05-20T09:26:43.985964Z",
     "shell.execute_reply.started": "2025-05-20T03:29:47.048801Z"
    },
    "trusted": true
   },
   "outputs": [
    {
     "name": "stderr",
     "output_type": "stream",
     "text": [
      "\u001b[34m\u001b[1mwandb\u001b[0m: Using wandb-core as the SDK backend.  Please refer to https://wandb.me/wandb-core for more information.\n",
      "\u001b[34m\u001b[1mwandb\u001b[0m: \u001b[33mWARNING\u001b[0m If you're specifying your api key in code, ensure this code is not shared publicly.\n",
      "\u001b[34m\u001b[1mwandb\u001b[0m: \u001b[33mWARNING\u001b[0m Consider setting the WANDB_API_KEY environment variable, or running `wandb login` from the command line.\n",
      "\u001b[34m\u001b[1mwandb\u001b[0m: No netrc file found, creating one.\n",
      "\u001b[34m\u001b[1mwandb\u001b[0m: Appending key for api.wandb.ai to your netrc file: /root/.netrc\n",
      "\u001b[34m\u001b[1mwandb\u001b[0m: Currently logged in as: \u001b[33mda24m014\u001b[0m (\u001b[33mda24m014-iit-madras\u001b[0m) to \u001b[32mhttps://api.wandb.ai\u001b[0m. Use \u001b[1m`wandb login --relogin`\u001b[0m to force relogin\n"
     ]
    },
    {
     "name": "stdout",
     "output_type": "stream",
     "text": [
      "Create sweep with ID: z8hzeqkz\n",
      "Sweep URL: https://wandb.ai/da24m014-iit-madras/DLA3/sweeps/z8hzeqkz\n"
     ]
    },
    {
     "name": "stderr",
     "output_type": "stream",
     "text": [
      "\u001b[34m\u001b[1mwandb\u001b[0m: Agent Starting Run: ncuoq3xs with config:\n",
      "\u001b[34m\u001b[1mwandb\u001b[0m: \tbatch_size: 128\n",
      "\u001b[34m\u001b[1mwandb\u001b[0m: \tbeam_size: 1\n",
      "\u001b[34m\u001b[1mwandb\u001b[0m: \tcell_type: GRU\n",
      "\u001b[34m\u001b[1mwandb\u001b[0m: \tdropout: 0\n",
      "\u001b[34m\u001b[1mwandb\u001b[0m: \tembed_dim: 128\n",
      "\u001b[34m\u001b[1mwandb\u001b[0m: \thidden_dim: 256\n",
      "\u001b[34m\u001b[1mwandb\u001b[0m: \tlearning_rate: 0.0005\n",
      "\u001b[34m\u001b[1mwandb\u001b[0m: \tnum_layers: 2\n"
     ]
    },
    {
     "data": {
      "text/html": [
       "Tracking run with wandb version 0.19.9"
      ],
      "text/plain": [
       "<IPython.core.display.HTML object>"
      ]
     },
     "metadata": {},
     "output_type": "display_data"
    },
    {
     "data": {
      "text/html": [
       "Run data is saved locally in <code>/kaggle/working/wandb/run-20250520_033001-ncuoq3xs</code>"
      ],
      "text/plain": [
       "<IPython.core.display.HTML object>"
      ]
     },
     "metadata": {},
     "output_type": "display_data"
    },
    {
     "data": {
      "text/html": [
       "Syncing run <strong><a href='https://wandb.ai/da24m014-iit-madras/DLA3/runs/ncuoq3xs' target=\"_blank\">wandering-sweep-1</a></strong> to <a href='https://wandb.ai/da24m014-iit-madras/DLA3' target=\"_blank\">Weights & Biases</a> (<a href='https://wandb.me/developer-guide' target=\"_blank\">docs</a>)<br>Sweep page: <a href='https://wandb.ai/da24m014-iit-madras/DLA3/sweeps/z8hzeqkz' target=\"_blank\">https://wandb.ai/da24m014-iit-madras/DLA3/sweeps/z8hzeqkz</a>"
      ],
      "text/plain": [
       "<IPython.core.display.HTML object>"
      ]
     },
     "metadata": {},
     "output_type": "display_data"
    },
    {
     "data": {
      "text/html": [
       " View project at <a href='https://wandb.ai/da24m014-iit-madras/DLA3' target=\"_blank\">https://wandb.ai/da24m014-iit-madras/DLA3</a>"
      ],
      "text/plain": [
       "<IPython.core.display.HTML object>"
      ]
     },
     "metadata": {},
     "output_type": "display_data"
    },
    {
     "data": {
      "text/html": [
       " View sweep at <a href='https://wandb.ai/da24m014-iit-madras/DLA3/sweeps/z8hzeqkz' target=\"_blank\">https://wandb.ai/da24m014-iit-madras/DLA3/sweeps/z8hzeqkz</a>"
      ],
      "text/plain": [
       "<IPython.core.display.HTML object>"
      ]
     },
     "metadata": {},
     "output_type": "display_data"
    },
    {
     "data": {
      "text/html": [
       " View run at <a href='https://wandb.ai/da24m014-iit-madras/DLA3/runs/ncuoq3xs' target=\"_blank\">https://wandb.ai/da24m014-iit-madras/DLA3/runs/ncuoq3xs</a>"
      ],
      "text/plain": [
       "<IPython.core.display.HTML object>"
      ]
     },
     "metadata": {},
     "output_type": "display_data"
    },
    {
     "name": "stdout",
     "output_type": "stream",
     "text": [
      "Loaded vocabularies: Source: 30, Target: 69\n",
      "Initialized model with attention: GRU, Encoder layers: 2, Decoder layers: 2, Embedding: 128, Hidden: 256\n",
      "Model created on CPU, trying to move to device...\n",
      "Model successfully moved to device.\n",
      "Loading datasets...\n",
      "Loaded 56303 records from /kaggle/input/dakshina/dakshina_dataset_v1.0/mr/lexicons/mr.translit.sampled.train.tsv\n",
      "Example pairs: [('angry', 'अँग्री'), ('aengeography', 'अँजिओग्राफी')]\n",
      "Loaded 5658 records from /kaggle/input/dakshina/dakshina_dataset_v1.0/mr/lexicons/mr.translit.sampled.dev.tsv\n",
      "Example pairs: [('aendarsanla', 'अँडरसनला'), ('andersonla', 'अँडरसनला')]\n"
     ]
    },
    {
     "name": "stderr",
     "output_type": "stream",
     "text": [
      "/usr/local/lib/python3.11/dist-packages/torch/optim/lr_scheduler.py:62: UserWarning: The verbose parameter is deprecated. Please use get_last_lr() to access the learning rate.\n",
      "  warnings.warn(\n"
     ]
    },
    {
     "name": "stdout",
     "output_type": "stream",
     "text": [
      "Epoch 1/10\n",
      "Train loss: 1.2510 Train Accuracy: 0.6546\n",
      "Validation loss: 0.5600 Validation Accuracy: 0.8213 \n",
      "New best model with validation accuracy: 0.8213\n",
      "Epoch 2/10\n",
      "Train loss: 0.4251 Train Accuracy: 0.8625\n",
      "Validation loss: 0.4560 Validation Accuracy: 0.8453 \n",
      "New best model with validation accuracy: 0.8453\n",
      "Epoch 3/10\n",
      "Train loss: 0.3292 Train Accuracy: 0.8932\n",
      "Validation loss: 0.4042 Validation Accuracy: 0.8647 \n",
      "New best model with validation accuracy: 0.8647\n",
      "Epoch 4/10\n",
      "Train loss: 0.2752 Train Accuracy: 0.9112\n",
      "Validation loss: 0.3959 Validation Accuracy: 0.8700 \n",
      "New best model with validation accuracy: 0.8700\n",
      "Epoch 5/10\n",
      "Train loss: 0.2363 Train Accuracy: 0.9232\n",
      "Validation loss: 0.3884 Validation Accuracy: 0.8727 \n",
      "New best model with validation accuracy: 0.8727\n",
      "Epoch 6/10\n",
      "Train loss: 0.2056 Train Accuracy: 0.9335\n",
      "Validation loss: 0.3831 Validation Accuracy: 0.8797 \n",
      "New best model with validation accuracy: 0.8797\n",
      "Epoch 7/10\n",
      "Train loss: 0.1816 Train Accuracy: 0.9410\n",
      "Validation loss: 0.3859 Validation Accuracy: 0.8819 \n",
      "New best model with validation accuracy: 0.8819\n",
      "Epoch 8/10\n",
      "Train loss: 0.1614 Train Accuracy: 0.9473\n",
      "Validation loss: 0.3832 Validation Accuracy: 0.8835 \n",
      "New best model with validation accuracy: 0.8835\n",
      "Epoch 9/10\n",
      "Train loss: 0.1454 Train Accuracy: 0.9530\n",
      "Validation loss: 0.4005 Validation Accuracy: 0.8828 \n",
      "Epoch 10/10\n",
      "Train loss: 0.1157 Train Accuracy: 0.9628\n",
      "Validation loss: 0.3926 Validation Accuracy: 0.8836 \n",
      "New best model with validation accuracy: 0.8836\n"
     ]
    },
    {
     "data": {
      "text/html": [],
      "text/plain": [
       "<IPython.core.display.HTML object>"
      ]
     },
     "metadata": {},
     "output_type": "display_data"
    },
    {
     "data": {
      "text/html": [
       "<br>    <style><br>        .wandb-row {<br>            display: flex;<br>            flex-direction: row;<br>            flex-wrap: wrap;<br>            justify-content: flex-start;<br>            width: 100%;<br>        }<br>        .wandb-col {<br>            display: flex;<br>            flex-direction: column;<br>            flex-basis: 100%;<br>            flex: 1;<br>            padding: 10px;<br>        }<br>    </style><br><div class=\"wandb-row\"><div class=\"wandb-col\"><h3>Run history:</h3><br/><table class=\"wandb\"><tr><td>epoch</td><td>▁▂▃▃▄▅▆▆▇█</td></tr><tr><td>train_acc</td><td>▁▆▆▇▇▇████</td></tr><tr><td>train_loss</td><td>█▃▂▂▂▂▁▁▁▁</td></tr><tr><td>val_acc</td><td>▁▄▆▆▇█████</td></tr><tr><td>val_accuracy</td><td>▁</td></tr><tr><td>val_loss</td><td>█▄▂▂▁▁▁▁▂▁</td></tr></table><br/></div><div class=\"wandb-col\"><h3>Run summary:</h3><br/><table class=\"wandb\"><tr><td>epoch</td><td>9</td></tr><tr><td>train_acc</td><td>0.96279</td></tr><tr><td>train_loss</td><td>0.11575</td></tr><tr><td>val_acc</td><td>0.88362</td></tr><tr><td>val_accuracy</td><td>0.88362</td></tr><tr><td>val_loss</td><td>0.39264</td></tr></table><br/></div></div>"
      ],
      "text/plain": [
       "<IPython.core.display.HTML object>"
      ]
     },
     "metadata": {},
     "output_type": "display_data"
    },
    {
     "data": {
      "text/html": [
       " View run <strong style=\"color:#cdcd00\">GRU-e128-h256-enc2-dec2-d0-lr0.0005-b128-beam1</strong> at: <a href='https://wandb.ai/da24m014-iit-madras/DLA3/runs/ncuoq3xs' target=\"_blank\">https://wandb.ai/da24m014-iit-madras/DLA3/runs/ncuoq3xs</a><br> View project at: <a href='https://wandb.ai/da24m014-iit-madras/DLA3' target=\"_blank\">https://wandb.ai/da24m014-iit-madras/DLA3</a><br>Synced 5 W&B file(s), 0 media file(s), 0 artifact file(s) and 0 other file(s)"
      ],
      "text/plain": [
       "<IPython.core.display.HTML object>"
      ]
     },
     "metadata": {},
     "output_type": "display_data"
    },
    {
     "data": {
      "text/html": [
       "Find logs at: <code>./wandb/run-20250520_033001-ncuoq3xs/logs</code>"
      ],
      "text/plain": [
       "<IPython.core.display.HTML object>"
      ]
     },
     "metadata": {},
     "output_type": "display_data"
    },
    {
     "name": "stderr",
     "output_type": "stream",
     "text": [
      "\u001b[34m\u001b[1mwandb\u001b[0m: Agent Starting Run: c6gk46tu with config:\n",
      "\u001b[34m\u001b[1mwandb\u001b[0m: \tbatch_size: 32\n",
      "\u001b[34m\u001b[1mwandb\u001b[0m: \tbeam_size: 5\n",
      "\u001b[34m\u001b[1mwandb\u001b[0m: \tcell_type: LSTM\n",
      "\u001b[34m\u001b[1mwandb\u001b[0m: \tdropout: 0.1\n",
      "\u001b[34m\u001b[1mwandb\u001b[0m: \tembed_dim: 256\n",
      "\u001b[34m\u001b[1mwandb\u001b[0m: \thidden_dim: 512\n",
      "\u001b[34m\u001b[1mwandb\u001b[0m: \tlearning_rate: 0.001\n",
      "\u001b[34m\u001b[1mwandb\u001b[0m: \tnum_layers: 1\n"
     ]
    },
    {
     "data": {
      "text/html": [
       "Tracking run with wandb version 0.19.9"
      ],
      "text/plain": [
       "<IPython.core.display.HTML object>"
      ]
     },
     "metadata": {},
     "output_type": "display_data"
    },
    {
     "data": {
      "text/html": [
       "Run data is saved locally in <code>/kaggle/working/wandb/run-20250520_033626-c6gk46tu</code>"
      ],
      "text/plain": [
       "<IPython.core.display.HTML object>"
      ]
     },
     "metadata": {},
     "output_type": "display_data"
    },
    {
     "data": {
      "text/html": [
       "Syncing run <strong><a href='https://wandb.ai/da24m014-iit-madras/DLA3/runs/c6gk46tu' target=\"_blank\">morning-sweep-2</a></strong> to <a href='https://wandb.ai/da24m014-iit-madras/DLA3' target=\"_blank\">Weights & Biases</a> (<a href='https://wandb.me/developer-guide' target=\"_blank\">docs</a>)<br>Sweep page: <a href='https://wandb.ai/da24m014-iit-madras/DLA3/sweeps/z8hzeqkz' target=\"_blank\">https://wandb.ai/da24m014-iit-madras/DLA3/sweeps/z8hzeqkz</a>"
      ],
      "text/plain": [
       "<IPython.core.display.HTML object>"
      ]
     },
     "metadata": {},
     "output_type": "display_data"
    },
    {
     "data": {
      "text/html": [
       " View project at <a href='https://wandb.ai/da24m014-iit-madras/DLA3' target=\"_blank\">https://wandb.ai/da24m014-iit-madras/DLA3</a>"
      ],
      "text/plain": [
       "<IPython.core.display.HTML object>"
      ]
     },
     "metadata": {},
     "output_type": "display_data"
    },
    {
     "data": {
      "text/html": [
       " View sweep at <a href='https://wandb.ai/da24m014-iit-madras/DLA3/sweeps/z8hzeqkz' target=\"_blank\">https://wandb.ai/da24m014-iit-madras/DLA3/sweeps/z8hzeqkz</a>"
      ],
      "text/plain": [
       "<IPython.core.display.HTML object>"
      ]
     },
     "metadata": {},
     "output_type": "display_data"
    },
    {
     "data": {
      "text/html": [
       " View run at <a href='https://wandb.ai/da24m014-iit-madras/DLA3/runs/c6gk46tu' target=\"_blank\">https://wandb.ai/da24m014-iit-madras/DLA3/runs/c6gk46tu</a>"
      ],
      "text/plain": [
       "<IPython.core.display.HTML object>"
      ]
     },
     "metadata": {},
     "output_type": "display_data"
    },
    {
     "name": "stdout",
     "output_type": "stream",
     "text": [
      "Loaded vocabularies: Source: 30, Target: 69\n",
      "Initialized model with attention: LSTM, Encoder layers: 1, Decoder layers: 1, Embedding: 256, Hidden: 512\n",
      "Model created on CPU, trying to move to device...\n",
      "Model successfully moved to device.\n",
      "Loading datasets...\n",
      "Loaded 56303 records from /kaggle/input/dakshina/dakshina_dataset_v1.0/mr/lexicons/mr.translit.sampled.train.tsv\n",
      "Example pairs: [('angry', 'अँग्री'), ('aengeography', 'अँजिओग्राफी')]\n",
      "Loaded 5658 records from /kaggle/input/dakshina/dakshina_dataset_v1.0/mr/lexicons/mr.translit.sampled.dev.tsv\n",
      "Example pairs: [('aendarsanla', 'अँडरसनला'), ('andersonla', 'अँडरसनला')]\n",
      "Epoch 1/10\n"
     ]
    },
    {
     "name": "stderr",
     "output_type": "stream",
     "text": [
      "/usr/local/lib/python3.11/dist-packages/torch/optim/lr_scheduler.py:62: UserWarning: The verbose parameter is deprecated. Please use get_last_lr() to access the learning rate.\n",
      "  warnings.warn(\n"
     ]
    },
    {
     "name": "stdout",
     "output_type": "stream",
     "text": [
      "Train loss: 0.5368 Train Accuracy: 0.8321\n",
      "Validation loss: 0.4178 Validation Accuracy: 0.8610 \n",
      "New best model with validation accuracy: 0.8610\n",
      "Epoch 2/10\n",
      "Train loss: 0.2574 Train Accuracy: 0.9145\n",
      "Validation loss: 0.3829 Validation Accuracy: 0.8749 \n",
      "New best model with validation accuracy: 0.8749\n",
      "Epoch 3/10\n",
      "Train loss: 0.1956 Train Accuracy: 0.9349\n",
      "Validation loss: 0.4003 Validation Accuracy: 0.8743 \n",
      "Epoch 4/10\n",
      "Train loss: 0.1612 Train Accuracy: 0.9468\n",
      "Validation loss: 0.3974 Validation Accuracy: 0.8786 \n",
      "New best model with validation accuracy: 0.8786\n",
      "Epoch 5/10\n",
      "Train loss: 0.1364 Train Accuracy: 0.9552\n",
      "Validation loss: 0.4137 Validation Accuracy: 0.8788 \n",
      "New best model with validation accuracy: 0.8788\n",
      "Epoch 6/10\n",
      "Train loss: 0.0877 Train Accuracy: 0.9710\n",
      "Validation loss: 0.4044 Validation Accuracy: 0.8877 \n",
      "New best model with validation accuracy: 0.8877\n",
      "Epoch 7/10\n",
      "Train loss: 0.0691 Train Accuracy: 0.9776\n",
      "Validation loss: 0.4206 Validation Accuracy: 0.8862 \n",
      "Epoch 8/10\n",
      "Train loss: 0.0609 Train Accuracy: 0.9802\n",
      "Validation loss: 0.4277 Validation Accuracy: 0.8893 \n",
      "New best model with validation accuracy: 0.8893\n",
      "Epoch 9/10\n",
      "Train loss: 0.0422 Train Accuracy: 0.9862\n",
      "Validation loss: 0.4337 Validation Accuracy: 0.8924 \n",
      "New best model with validation accuracy: 0.8924\n",
      "Epoch 10/10\n",
      "Train loss: 0.0354 Train Accuracy: 0.9881\n",
      "Validation loss: 0.4521 Validation Accuracy: 0.8890 \n"
     ]
    },
    {
     "data": {
      "text/html": [],
      "text/plain": [
       "<IPython.core.display.HTML object>"
      ]
     },
     "metadata": {},
     "output_type": "display_data"
    },
    {
     "data": {
      "text/html": [
       "<br>    <style><br>        .wandb-row {<br>            display: flex;<br>            flex-direction: row;<br>            flex-wrap: wrap;<br>            justify-content: flex-start;<br>            width: 100%;<br>        }<br>        .wandb-col {<br>            display: flex;<br>            flex-direction: column;<br>            flex-basis: 100%;<br>            flex: 1;<br>            padding: 10px;<br>        }<br>    </style><br><div class=\"wandb-row\"><div class=\"wandb-col\"><h3>Run history:</h3><br/><table class=\"wandb\"><tr><td>epoch</td><td>▁▂▃▃▄▅▆▆▇█</td></tr><tr><td>train_acc</td><td>▁▅▆▆▇▇████</td></tr><tr><td>train_loss</td><td>█▄▃▃▂▂▁▁▁▁</td></tr><tr><td>val_acc</td><td>▁▄▄▅▅▇▇▇█▇</td></tr><tr><td>val_accuracy</td><td>▁</td></tr><tr><td>val_loss</td><td>▅▁▃▂▄▃▅▆▆█</td></tr></table><br/></div><div class=\"wandb-col\"><h3>Run summary:</h3><br/><table class=\"wandb\"><tr><td>epoch</td><td>9</td></tr><tr><td>train_acc</td><td>0.9881</td></tr><tr><td>train_loss</td><td>0.03542</td></tr><tr><td>val_acc</td><td>0.88897</td></tr><tr><td>val_accuracy</td><td>0.89236</td></tr><tr><td>val_loss</td><td>0.45206</td></tr></table><br/></div></div>"
      ],
      "text/plain": [
       "<IPython.core.display.HTML object>"
      ]
     },
     "metadata": {},
     "output_type": "display_data"
    },
    {
     "data": {
      "text/html": [
       " View run <strong style=\"color:#cdcd00\">LSTM-e256-h512-enc1-dec1-d0.1-lr0.001-b32-beam5</strong> at: <a href='https://wandb.ai/da24m014-iit-madras/DLA3/runs/c6gk46tu' target=\"_blank\">https://wandb.ai/da24m014-iit-madras/DLA3/runs/c6gk46tu</a><br> View project at: <a href='https://wandb.ai/da24m014-iit-madras/DLA3' target=\"_blank\">https://wandb.ai/da24m014-iit-madras/DLA3</a><br>Synced 5 W&B file(s), 0 media file(s), 0 artifact file(s) and 0 other file(s)"
      ],
      "text/plain": [
       "<IPython.core.display.HTML object>"
      ]
     },
     "metadata": {},
     "output_type": "display_data"
    },
    {
     "data": {
      "text/html": [
       "Find logs at: <code>./wandb/run-20250520_033626-c6gk46tu/logs</code>"
      ],
      "text/plain": [
       "<IPython.core.display.HTML object>"
      ]
     },
     "metadata": {},
     "output_type": "display_data"
    },
    {
     "name": "stderr",
     "output_type": "stream",
     "text": [
      "\u001b[34m\u001b[1mwandb\u001b[0m: Agent Starting Run: lm58nv1i with config:\n",
      "\u001b[34m\u001b[1mwandb\u001b[0m: \tbatch_size: 64\n",
      "\u001b[34m\u001b[1mwandb\u001b[0m: \tbeam_size: 5\n",
      "\u001b[34m\u001b[1mwandb\u001b[0m: \tcell_type: LSTM\n",
      "\u001b[34m\u001b[1mwandb\u001b[0m: \tdropout: 0\n",
      "\u001b[34m\u001b[1mwandb\u001b[0m: \tembed_dim: 64\n",
      "\u001b[34m\u001b[1mwandb\u001b[0m: \thidden_dim: 512\n",
      "\u001b[34m\u001b[1mwandb\u001b[0m: \tlearning_rate: 0.001\n",
      "\u001b[34m\u001b[1mwandb\u001b[0m: \tnum_layers: 3\n"
     ]
    },
    {
     "data": {
      "text/html": [
       "Tracking run with wandb version 0.19.9"
      ],
      "text/plain": [
       "<IPython.core.display.HTML object>"
      ]
     },
     "metadata": {},
     "output_type": "display_data"
    },
    {
     "data": {
      "text/html": [
       "Run data is saved locally in <code>/kaggle/working/wandb/run-20250520_035819-lm58nv1i</code>"
      ],
      "text/plain": [
       "<IPython.core.display.HTML object>"
      ]
     },
     "metadata": {},
     "output_type": "display_data"
    },
    {
     "data": {
      "text/html": [
       "Syncing run <strong><a href='https://wandb.ai/da24m014-iit-madras/DLA3/runs/lm58nv1i' target=\"_blank\">royal-sweep-3</a></strong> to <a href='https://wandb.ai/da24m014-iit-madras/DLA3' target=\"_blank\">Weights & Biases</a> (<a href='https://wandb.me/developer-guide' target=\"_blank\">docs</a>)<br>Sweep page: <a href='https://wandb.ai/da24m014-iit-madras/DLA3/sweeps/z8hzeqkz' target=\"_blank\">https://wandb.ai/da24m014-iit-madras/DLA3/sweeps/z8hzeqkz</a>"
      ],
      "text/plain": [
       "<IPython.core.display.HTML object>"
      ]
     },
     "metadata": {},
     "output_type": "display_data"
    },
    {
     "data": {
      "text/html": [
       " View project at <a href='https://wandb.ai/da24m014-iit-madras/DLA3' target=\"_blank\">https://wandb.ai/da24m014-iit-madras/DLA3</a>"
      ],
      "text/plain": [
       "<IPython.core.display.HTML object>"
      ]
     },
     "metadata": {},
     "output_type": "display_data"
    },
    {
     "data": {
      "text/html": [
       " View sweep at <a href='https://wandb.ai/da24m014-iit-madras/DLA3/sweeps/z8hzeqkz' target=\"_blank\">https://wandb.ai/da24m014-iit-madras/DLA3/sweeps/z8hzeqkz</a>"
      ],
      "text/plain": [
       "<IPython.core.display.HTML object>"
      ]
     },
     "metadata": {},
     "output_type": "display_data"
    },
    {
     "data": {
      "text/html": [
       " View run at <a href='https://wandb.ai/da24m014-iit-madras/DLA3/runs/lm58nv1i' target=\"_blank\">https://wandb.ai/da24m014-iit-madras/DLA3/runs/lm58nv1i</a>"
      ],
      "text/plain": [
       "<IPython.core.display.HTML object>"
      ]
     },
     "metadata": {},
     "output_type": "display_data"
    },
    {
     "name": "stdout",
     "output_type": "stream",
     "text": [
      "Loaded vocabularies: Source: 30, Target: 69\n",
      "Initialized model with attention: LSTM, Encoder layers: 3, Decoder layers: 3, Embedding: 64, Hidden: 512\n",
      "Model created on CPU, trying to move to device...\n",
      "Model successfully moved to device.\n",
      "Loading datasets...\n",
      "Loaded 56303 records from /kaggle/input/dakshina/dakshina_dataset_v1.0/mr/lexicons/mr.translit.sampled.train.tsv\n",
      "Example pairs: [('angry', 'अँग्री'), ('aengeography', 'अँजिओग्राफी')]\n",
      "Loaded 5658 records from /kaggle/input/dakshina/dakshina_dataset_v1.0/mr/lexicons/mr.translit.sampled.dev.tsv\n",
      "Example pairs: [('aendarsanla', 'अँडरसनला'), ('andersonla', 'अँडरसनला')]\n",
      "Epoch 1/10\n"
     ]
    },
    {
     "name": "stderr",
     "output_type": "stream",
     "text": [
      "/usr/local/lib/python3.11/dist-packages/torch/optim/lr_scheduler.py:62: UserWarning: The verbose parameter is deprecated. Please use get_last_lr() to access the learning rate.\n",
      "  warnings.warn(\n"
     ]
    },
    {
     "name": "stdout",
     "output_type": "stream",
     "text": [
      "Train loss: 1.2625 Train Accuracy: 0.6409\n",
      "Validation loss: 0.4942 Validation Accuracy: 0.8404 \n",
      "New best model with validation accuracy: 0.8404\n",
      "Epoch 2/10\n",
      "Train loss: 0.3335 Train Accuracy: 0.8917\n",
      "Validation loss: 0.4397 Validation Accuracy: 0.8604 \n",
      "New best model with validation accuracy: 0.8604\n",
      "Epoch 3/10\n",
      "Train loss: 0.2361 Train Accuracy: 0.9231\n",
      "Validation loss: 0.4065 Validation Accuracy: 0.8728 \n",
      "New best model with validation accuracy: 0.8728\n",
      "Epoch 4/10\n",
      "Train loss: 0.1819 Train Accuracy: 0.9408\n",
      "Validation loss: 0.4048 Validation Accuracy: 0.8778 \n",
      "New best model with validation accuracy: 0.8778\n",
      "Epoch 5/10\n",
      "Train loss: 0.1423 Train Accuracy: 0.9535\n",
      "Validation loss: 0.4146 Validation Accuracy: 0.8794 \n",
      "New best model with validation accuracy: 0.8794\n",
      "Epoch 6/10\n",
      "Train loss: 0.1144 Train Accuracy: 0.9626\n",
      "Validation loss: 0.4327 Validation Accuracy: 0.8806 \n",
      "New best model with validation accuracy: 0.8806\n",
      "Epoch 7/10\n",
      "Train loss: 0.0994 Train Accuracy: 0.9677\n",
      "Validation loss: 0.4477 Validation Accuracy: 0.8807 \n",
      "New best model with validation accuracy: 0.8807\n",
      "Epoch 8/10\n",
      "Train loss: 0.0565 Train Accuracy: 0.9818\n",
      "Validation loss: 0.4458 Validation Accuracy: 0.8892 \n",
      "New best model with validation accuracy: 0.8892\n",
      "Epoch 9/10\n",
      "Train loss: 0.0412 Train Accuracy: 0.9866\n",
      "Validation loss: 0.4674 Validation Accuracy: 0.8892 \n",
      "New best model with validation accuracy: 0.8892\n",
      "Epoch 10/10\n",
      "Train loss: 0.0359 Train Accuracy: 0.9884\n",
      "Validation loss: 0.4884 Validation Accuracy: 0.8879 \n"
     ]
    },
    {
     "data": {
      "text/html": [],
      "text/plain": [
       "<IPython.core.display.HTML object>"
      ]
     },
     "metadata": {},
     "output_type": "display_data"
    },
    {
     "data": {
      "text/html": [
       "<br>    <style><br>        .wandb-row {<br>            display: flex;<br>            flex-direction: row;<br>            flex-wrap: wrap;<br>            justify-content: flex-start;<br>            width: 100%;<br>        }<br>        .wandb-col {<br>            display: flex;<br>            flex-direction: column;<br>            flex-basis: 100%;<br>            flex: 1;<br>            padding: 10px;<br>        }<br>    </style><br><div class=\"wandb-row\"><div class=\"wandb-col\"><h3>Run history:</h3><br/><table class=\"wandb\"><tr><td>epoch</td><td>▁▂▃▃▄▅▆▆▇█</td></tr><tr><td>train_acc</td><td>▁▆▇▇▇▇████</td></tr><tr><td>train_loss</td><td>█▃▂▂▂▁▁▁▁▁</td></tr><tr><td>val_acc</td><td>▁▄▆▆▇▇▇███</td></tr><tr><td>val_accuracy</td><td>▁</td></tr><tr><td>val_loss</td><td>█▄▁▁▂▃▄▄▆█</td></tr></table><br/></div><div class=\"wandb-col\"><h3>Run summary:</h3><br/><table class=\"wandb\"><tr><td>epoch</td><td>9</td></tr><tr><td>train_acc</td><td>0.98841</td></tr><tr><td>train_loss</td><td>0.0359</td></tr><tr><td>val_acc</td><td>0.88791</td></tr><tr><td>val_accuracy</td><td>0.88919</td></tr><tr><td>val_loss</td><td>0.48843</td></tr></table><br/></div></div>"
      ],
      "text/plain": [
       "<IPython.core.display.HTML object>"
      ]
     },
     "metadata": {},
     "output_type": "display_data"
    },
    {
     "data": {
      "text/html": [
       " View run <strong style=\"color:#cdcd00\">LSTM-e64-h512-enc3-dec3-d0-lr0.001-b64-beam5</strong> at: <a href='https://wandb.ai/da24m014-iit-madras/DLA3/runs/lm58nv1i' target=\"_blank\">https://wandb.ai/da24m014-iit-madras/DLA3/runs/lm58nv1i</a><br> View project at: <a href='https://wandb.ai/da24m014-iit-madras/DLA3' target=\"_blank\">https://wandb.ai/da24m014-iit-madras/DLA3</a><br>Synced 5 W&B file(s), 0 media file(s), 0 artifact file(s) and 0 other file(s)"
      ],
      "text/plain": [
       "<IPython.core.display.HTML object>"
      ]
     },
     "metadata": {},
     "output_type": "display_data"
    },
    {
     "data": {
      "text/html": [
       "Find logs at: <code>./wandb/run-20250520_035819-lm58nv1i/logs</code>"
      ],
      "text/plain": [
       "<IPython.core.display.HTML object>"
      ]
     },
     "metadata": {},
     "output_type": "display_data"
    },
    {
     "name": "stderr",
     "output_type": "stream",
     "text": [
      "\u001b[34m\u001b[1mwandb\u001b[0m: Agent Starting Run: 2zmnrupj with config:\n",
      "\u001b[34m\u001b[1mwandb\u001b[0m: \tbatch_size: 64\n",
      "\u001b[34m\u001b[1mwandb\u001b[0m: \tbeam_size: 5\n",
      "\u001b[34m\u001b[1mwandb\u001b[0m: \tcell_type: LSTM\n",
      "\u001b[34m\u001b[1mwandb\u001b[0m: \tdropout: 0.1\n",
      "\u001b[34m\u001b[1mwandb\u001b[0m: \tembed_dim: 256\n",
      "\u001b[34m\u001b[1mwandb\u001b[0m: \thidden_dim: 512\n",
      "\u001b[34m\u001b[1mwandb\u001b[0m: \tlearning_rate: 0.001\n",
      "\u001b[34m\u001b[1mwandb\u001b[0m: \tnum_layers: 1\n"
     ]
    },
    {
     "data": {
      "text/html": [
       "Tracking run with wandb version 0.19.9"
      ],
      "text/plain": [
       "<IPython.core.display.HTML object>"
      ]
     },
     "metadata": {},
     "output_type": "display_data"
    },
    {
     "data": {
      "text/html": [
       "Run data is saved locally in <code>/kaggle/working/wandb/run-20250520_042106-2zmnrupj</code>"
      ],
      "text/plain": [
       "<IPython.core.display.HTML object>"
      ]
     },
     "metadata": {},
     "output_type": "display_data"
    },
    {
     "data": {
      "text/html": [
       "Syncing run <strong><a href='https://wandb.ai/da24m014-iit-madras/DLA3/runs/2zmnrupj' target=\"_blank\">distinctive-sweep-4</a></strong> to <a href='https://wandb.ai/da24m014-iit-madras/DLA3' target=\"_blank\">Weights & Biases</a> (<a href='https://wandb.me/developer-guide' target=\"_blank\">docs</a>)<br>Sweep page: <a href='https://wandb.ai/da24m014-iit-madras/DLA3/sweeps/z8hzeqkz' target=\"_blank\">https://wandb.ai/da24m014-iit-madras/DLA3/sweeps/z8hzeqkz</a>"
      ],
      "text/plain": [
       "<IPython.core.display.HTML object>"
      ]
     },
     "metadata": {},
     "output_type": "display_data"
    },
    {
     "data": {
      "text/html": [
       " View project at <a href='https://wandb.ai/da24m014-iit-madras/DLA3' target=\"_blank\">https://wandb.ai/da24m014-iit-madras/DLA3</a>"
      ],
      "text/plain": [
       "<IPython.core.display.HTML object>"
      ]
     },
     "metadata": {},
     "output_type": "display_data"
    },
    {
     "data": {
      "text/html": [
       " View sweep at <a href='https://wandb.ai/da24m014-iit-madras/DLA3/sweeps/z8hzeqkz' target=\"_blank\">https://wandb.ai/da24m014-iit-madras/DLA3/sweeps/z8hzeqkz</a>"
      ],
      "text/plain": [
       "<IPython.core.display.HTML object>"
      ]
     },
     "metadata": {},
     "output_type": "display_data"
    },
    {
     "data": {
      "text/html": [
       " View run at <a href='https://wandb.ai/da24m014-iit-madras/DLA3/runs/2zmnrupj' target=\"_blank\">https://wandb.ai/da24m014-iit-madras/DLA3/runs/2zmnrupj</a>"
      ],
      "text/plain": [
       "<IPython.core.display.HTML object>"
      ]
     },
     "metadata": {},
     "output_type": "display_data"
    },
    {
     "name": "stdout",
     "output_type": "stream",
     "text": [
      "Loaded vocabularies: Source: 30, Target: 69\n",
      "Initialized model with attention: LSTM, Encoder layers: 1, Decoder layers: 1, Embedding: 256, Hidden: 512\n",
      "Model created on CPU, trying to move to device...\n",
      "Model successfully moved to device.\n",
      "Loading datasets...\n",
      "Loaded 56303 records from /kaggle/input/dakshina/dakshina_dataset_v1.0/mr/lexicons/mr.translit.sampled.train.tsv\n",
      "Example pairs: [('angry', 'अँग्री'), ('aengeography', 'अँजिओग्राफी')]\n",
      "Loaded 5658 records from /kaggle/input/dakshina/dakshina_dataset_v1.0/mr/lexicons/mr.translit.sampled.dev.tsv\n",
      "Example pairs: [('aendarsanla', 'अँडरसनला'), ('andersonla', 'अँडरसनला')]\n",
      "Epoch 1/10\n"
     ]
    },
    {
     "name": "stderr",
     "output_type": "stream",
     "text": [
      "/usr/local/lib/python3.11/dist-packages/torch/optim/lr_scheduler.py:62: UserWarning: The verbose parameter is deprecated. Please use get_last_lr() to access the learning rate.\n",
      "  warnings.warn(\n"
     ]
    },
    {
     "name": "stdout",
     "output_type": "stream",
     "text": [
      "Train loss: 0.6138 Train Accuracy: 0.8132\n",
      "Validation loss: 0.4145 Validation Accuracy: 0.8611 \n",
      "New best model with validation accuracy: 0.8611\n",
      "Epoch 2/10\n",
      "Train loss: 0.2677 Train Accuracy: 0.9117\n",
      "Validation loss: 0.3830 Validation Accuracy: 0.8731 \n",
      "New best model with validation accuracy: 0.8731\n",
      "Epoch 3/10\n",
      "Train loss: 0.2010 Train Accuracy: 0.9336\n",
      "Validation loss: 0.3777 Validation Accuracy: 0.8815 \n",
      "New best model with validation accuracy: 0.8815\n",
      "Epoch 4/10\n",
      "Train loss: 0.1600 Train Accuracy: 0.9470\n",
      "Validation loss: 0.3824 Validation Accuracy: 0.8824 \n",
      "New best model with validation accuracy: 0.8824\n",
      "Epoch 5/10\n",
      "Train loss: 0.1334 Train Accuracy: 0.9558\n",
      "Validation loss: 0.3980 Validation Accuracy: 0.8829 \n",
      "New best model with validation accuracy: 0.8829\n",
      "Epoch 6/10\n",
      "Train loss: 0.1169 Train Accuracy: 0.9611\n",
      "Validation loss: 0.4093 Validation Accuracy: 0.8837 \n",
      "New best model with validation accuracy: 0.8837\n",
      "Epoch 7/10\n",
      "Train loss: 0.0746 Train Accuracy: 0.9754\n",
      "Validation loss: 0.4035 Validation Accuracy: 0.8886 \n",
      "New best model with validation accuracy: 0.8886\n",
      "Epoch 8/10\n",
      "Train loss: 0.0588 Train Accuracy: 0.9804\n",
      "Validation loss: 0.4189 Validation Accuracy: 0.8877 \n",
      "Epoch 9/10\n",
      "Train loss: 0.0545 Train Accuracy: 0.9821\n",
      "Validation loss: 0.4373 Validation Accuracy: 0.8876 \n",
      "Epoch 10/10\n",
      "Train loss: 0.0390 Train Accuracy: 0.9871\n",
      "Validation loss: 0.4372 Validation Accuracy: 0.8913 \n",
      "New best model with validation accuracy: 0.8913\n"
     ]
    },
    {
     "data": {
      "text/html": [],
      "text/plain": [
       "<IPython.core.display.HTML object>"
      ]
     },
     "metadata": {},
     "output_type": "display_data"
    },
    {
     "data": {
      "text/html": [
       "<br>    <style><br>        .wandb-row {<br>            display: flex;<br>            flex-direction: row;<br>            flex-wrap: wrap;<br>            justify-content: flex-start;<br>            width: 100%;<br>        }<br>        .wandb-col {<br>            display: flex;<br>            flex-direction: column;<br>            flex-basis: 100%;<br>            flex: 1;<br>            padding: 10px;<br>        }<br>    </style><br><div class=\"wandb-row\"><div class=\"wandb-col\"><h3>Run history:</h3><br/><table class=\"wandb\"><tr><td>epoch</td><td>▁▂▃▃▄▅▆▆▇█</td></tr><tr><td>train_acc</td><td>▁▅▆▆▇▇████</td></tr><tr><td>train_loss</td><td>█▄▃▂▂▂▁▁▁▁</td></tr><tr><td>val_acc</td><td>▁▄▆▆▆▆▇▇▇█</td></tr><tr><td>val_accuracy</td><td>▁</td></tr><tr><td>val_loss</td><td>▅▂▁▂▃▅▄▆██</td></tr></table><br/></div><div class=\"wandb-col\"><h3>Run summary:</h3><br/><table class=\"wandb\"><tr><td>epoch</td><td>9</td></tr><tr><td>train_acc</td><td>0.98707</td></tr><tr><td>train_loss</td><td>0.03895</td></tr><tr><td>val_acc</td><td>0.8913</td></tr><tr><td>val_accuracy</td><td>0.8913</td></tr><tr><td>val_loss</td><td>0.43718</td></tr></table><br/></div></div>"
      ],
      "text/plain": [
       "<IPython.core.display.HTML object>"
      ]
     },
     "metadata": {},
     "output_type": "display_data"
    },
    {
     "data": {
      "text/html": [
       " View run <strong style=\"color:#cdcd00\">LSTM-e256-h512-enc1-dec1-d0.1-lr0.001-b64-beam5</strong> at: <a href='https://wandb.ai/da24m014-iit-madras/DLA3/runs/2zmnrupj' target=\"_blank\">https://wandb.ai/da24m014-iit-madras/DLA3/runs/2zmnrupj</a><br> View project at: <a href='https://wandb.ai/da24m014-iit-madras/DLA3' target=\"_blank\">https://wandb.ai/da24m014-iit-madras/DLA3</a><br>Synced 5 W&B file(s), 0 media file(s), 0 artifact file(s) and 0 other file(s)"
      ],
      "text/plain": [
       "<IPython.core.display.HTML object>"
      ]
     },
     "metadata": {},
     "output_type": "display_data"
    },
    {
     "data": {
      "text/html": [
       "Find logs at: <code>./wandb/run-20250520_042106-2zmnrupj/logs</code>"
      ],
      "text/plain": [
       "<IPython.core.display.HTML object>"
      ]
     },
     "metadata": {},
     "output_type": "display_data"
    },
    {
     "name": "stderr",
     "output_type": "stream",
     "text": [
      "\u001b[34m\u001b[1mwandb\u001b[0m: Agent Starting Run: i0hhxgxb with config:\n",
      "\u001b[34m\u001b[1mwandb\u001b[0m: \tbatch_size: 64\n",
      "\u001b[34m\u001b[1mwandb\u001b[0m: \tbeam_size: 5\n",
      "\u001b[34m\u001b[1mwandb\u001b[0m: \tcell_type: RNN\n",
      "\u001b[34m\u001b[1mwandb\u001b[0m: \tdropout: 0.2\n",
      "\u001b[34m\u001b[1mwandb\u001b[0m: \tembed_dim: 256\n",
      "\u001b[34m\u001b[1mwandb\u001b[0m: \thidden_dim: 512\n",
      "\u001b[34m\u001b[1mwandb\u001b[0m: \tlearning_rate: 0.0005\n",
      "\u001b[34m\u001b[1mwandb\u001b[0m: \tnum_layers: 2\n"
     ]
    },
    {
     "data": {
      "text/html": [
       "Tracking run with wandb version 0.19.9"
      ],
      "text/plain": [
       "<IPython.core.display.HTML object>"
      ]
     },
     "metadata": {},
     "output_type": "display_data"
    },
    {
     "data": {
      "text/html": [
       "Run data is saved locally in <code>/kaggle/working/wandb/run-20250520_043643-i0hhxgxb</code>"
      ],
      "text/plain": [
       "<IPython.core.display.HTML object>"
      ]
     },
     "metadata": {},
     "output_type": "display_data"
    },
    {
     "data": {
      "text/html": [
       "Syncing run <strong><a href='https://wandb.ai/da24m014-iit-madras/DLA3/runs/i0hhxgxb' target=\"_blank\">devoted-sweep-5</a></strong> to <a href='https://wandb.ai/da24m014-iit-madras/DLA3' target=\"_blank\">Weights & Biases</a> (<a href='https://wandb.me/developer-guide' target=\"_blank\">docs</a>)<br>Sweep page: <a href='https://wandb.ai/da24m014-iit-madras/DLA3/sweeps/z8hzeqkz' target=\"_blank\">https://wandb.ai/da24m014-iit-madras/DLA3/sweeps/z8hzeqkz</a>"
      ],
      "text/plain": [
       "<IPython.core.display.HTML object>"
      ]
     },
     "metadata": {},
     "output_type": "display_data"
    },
    {
     "data": {
      "text/html": [
       " View project at <a href='https://wandb.ai/da24m014-iit-madras/DLA3' target=\"_blank\">https://wandb.ai/da24m014-iit-madras/DLA3</a>"
      ],
      "text/plain": [
       "<IPython.core.display.HTML object>"
      ]
     },
     "metadata": {},
     "output_type": "display_data"
    },
    {
     "data": {
      "text/html": [
       " View sweep at <a href='https://wandb.ai/da24m014-iit-madras/DLA3/sweeps/z8hzeqkz' target=\"_blank\">https://wandb.ai/da24m014-iit-madras/DLA3/sweeps/z8hzeqkz</a>"
      ],
      "text/plain": [
       "<IPython.core.display.HTML object>"
      ]
     },
     "metadata": {},
     "output_type": "display_data"
    },
    {
     "data": {
      "text/html": [
       " View run at <a href='https://wandb.ai/da24m014-iit-madras/DLA3/runs/i0hhxgxb' target=\"_blank\">https://wandb.ai/da24m014-iit-madras/DLA3/runs/i0hhxgxb</a>"
      ],
      "text/plain": [
       "<IPython.core.display.HTML object>"
      ]
     },
     "metadata": {},
     "output_type": "display_data"
    },
    {
     "name": "stdout",
     "output_type": "stream",
     "text": [
      "Loaded vocabularies: Source: 30, Target: 69\n",
      "Initialized model with attention: RNN, Encoder layers: 2, Decoder layers: 2, Embedding: 256, Hidden: 512\n",
      "Model created on CPU, trying to move to device...\n",
      "Model successfully moved to device.\n",
      "Loading datasets...\n",
      "Loaded 56303 records from /kaggle/input/dakshina/dakshina_dataset_v1.0/mr/lexicons/mr.translit.sampled.train.tsv\n",
      "Example pairs: [('angry', 'अँग्री'), ('aengeography', 'अँजिओग्राफी')]\n",
      "Loaded 5658 records from /kaggle/input/dakshina/dakshina_dataset_v1.0/mr/lexicons/mr.translit.sampled.dev.tsv\n",
      "Example pairs: [('aendarsanla', 'अँडरसनला'), ('andersonla', 'अँडरसनला')]\n",
      "Epoch 1/10\n"
     ]
    },
    {
     "name": "stderr",
     "output_type": "stream",
     "text": [
      "/usr/local/lib/python3.11/dist-packages/torch/optim/lr_scheduler.py:62: UserWarning: The verbose parameter is deprecated. Please use get_last_lr() to access the learning rate.\n",
      "  warnings.warn(\n"
     ]
    },
    {
     "name": "stdout",
     "output_type": "stream",
     "text": [
      "Train loss: 0.7550 Train Accuracy: 0.7708\n",
      "Validation loss: 0.4731 Validation Accuracy: 0.8437 \n",
      "New best model with validation accuracy: 0.8437\n",
      "Epoch 2/10\n",
      "Train loss: 0.3517 Train Accuracy: 0.8829\n",
      "Validation loss: 0.4117 Validation Accuracy: 0.8610 \n",
      "New best model with validation accuracy: 0.8610\n",
      "Epoch 3/10\n",
      "Train loss: 0.2815 Train Accuracy: 0.9063\n",
      "Validation loss: 0.4090 Validation Accuracy: 0.8691 \n",
      "New best model with validation accuracy: 0.8691\n",
      "Epoch 4/10\n",
      "Train loss: 0.2422 Train Accuracy: 0.9191\n",
      "Validation loss: 0.3953 Validation Accuracy: 0.8720 \n",
      "New best model with validation accuracy: 0.8720\n",
      "Epoch 5/10\n",
      "Train loss: 0.2148 Train Accuracy: 0.9282\n",
      "Validation loss: 0.4003 Validation Accuracy: 0.8718 \n",
      "Epoch 6/10\n",
      "Train loss: 0.1951 Train Accuracy: 0.9350\n",
      "Validation loss: 0.4048 Validation Accuracy: 0.8744 \n",
      "New best model with validation accuracy: 0.8744\n",
      "Epoch 7/10\n",
      "Train loss: 0.1782 Train Accuracy: 0.9406\n",
      "Validation loss: 0.4024 Validation Accuracy: 0.8789 \n",
      "New best model with validation accuracy: 0.8789\n",
      "Epoch 8/10\n",
      "Train loss: 0.1350 Train Accuracy: 0.9550\n",
      "Validation loss: 0.3863 Validation Accuracy: 0.8843 \n",
      "New best model with validation accuracy: 0.8843\n",
      "Epoch 9/10\n",
      "Train loss: 0.1208 Train Accuracy: 0.9597\n",
      "Validation loss: 0.3974 Validation Accuracy: 0.8842 \n",
      "Epoch 10/10\n",
      "Train loss: 0.1148 Train Accuracy: 0.9616\n",
      "Validation loss: 0.4069 Validation Accuracy: 0.8853 \n",
      "New best model with validation accuracy: 0.8853\n"
     ]
    },
    {
     "data": {
      "text/html": [],
      "text/plain": [
       "<IPython.core.display.HTML object>"
      ]
     },
     "metadata": {},
     "output_type": "display_data"
    },
    {
     "data": {
      "text/html": [
       "<br>    <style><br>        .wandb-row {<br>            display: flex;<br>            flex-direction: row;<br>            flex-wrap: wrap;<br>            justify-content: flex-start;<br>            width: 100%;<br>        }<br>        .wandb-col {<br>            display: flex;<br>            flex-direction: column;<br>            flex-basis: 100%;<br>            flex: 1;<br>            padding: 10px;<br>        }<br>    </style><br><div class=\"wandb-row\"><div class=\"wandb-col\"><h3>Run history:</h3><br/><table class=\"wandb\"><tr><td>epoch</td><td>▁▂▃▃▄▅▆▆▇█</td></tr><tr><td>train_acc</td><td>▁▅▆▆▇▇▇███</td></tr><tr><td>train_loss</td><td>█▄▃▂▂▂▂▁▁▁</td></tr><tr><td>val_acc</td><td>▁▄▅▆▆▆▇███</td></tr><tr><td>val_accuracy</td><td>▁</td></tr><tr><td>val_loss</td><td>█▃▃▂▂▂▂▁▂▃</td></tr></table><br/></div><div class=\"wandb-col\"><h3>Run summary:</h3><br/><table class=\"wandb\"><tr><td>epoch</td><td>9</td></tr><tr><td>train_acc</td><td>0.96165</td></tr><tr><td>train_loss</td><td>0.11481</td></tr><tr><td>val_acc</td><td>0.88531</td></tr><tr><td>val_accuracy</td><td>0.88531</td></tr><tr><td>val_loss</td><td>0.40693</td></tr></table><br/></div></div>"
      ],
      "text/plain": [
       "<IPython.core.display.HTML object>"
      ]
     },
     "metadata": {},
     "output_type": "display_data"
    },
    {
     "data": {
      "text/html": [
       " View run <strong style=\"color:#cdcd00\">RNN-e256-h512-enc2-dec2-d0.2-lr0.0005-b64-beam5</strong> at: <a href='https://wandb.ai/da24m014-iit-madras/DLA3/runs/i0hhxgxb' target=\"_blank\">https://wandb.ai/da24m014-iit-madras/DLA3/runs/i0hhxgxb</a><br> View project at: <a href='https://wandb.ai/da24m014-iit-madras/DLA3' target=\"_blank\">https://wandb.ai/da24m014-iit-madras/DLA3</a><br>Synced 5 W&B file(s), 0 media file(s), 0 artifact file(s) and 0 other file(s)"
      ],
      "text/plain": [
       "<IPython.core.display.HTML object>"
      ]
     },
     "metadata": {},
     "output_type": "display_data"
    },
    {
     "data": {
      "text/html": [
       "Find logs at: <code>./wandb/run-20250520_043643-i0hhxgxb/logs</code>"
      ],
      "text/plain": [
       "<IPython.core.display.HTML object>"
      ]
     },
     "metadata": {},
     "output_type": "display_data"
    },
    {
     "name": "stderr",
     "output_type": "stream",
     "text": [
      "\u001b[34m\u001b[1mwandb\u001b[0m: Agent Starting Run: 56edl2lr with config:\n",
      "\u001b[34m\u001b[1mwandb\u001b[0m: \tbatch_size: 64\n",
      "\u001b[34m\u001b[1mwandb\u001b[0m: \tbeam_size: 5\n",
      "\u001b[34m\u001b[1mwandb\u001b[0m: \tcell_type: LSTM\n",
      "\u001b[34m\u001b[1mwandb\u001b[0m: \tdropout: 0.1\n",
      "\u001b[34m\u001b[1mwandb\u001b[0m: \tembed_dim: 256\n",
      "\u001b[34m\u001b[1mwandb\u001b[0m: \thidden_dim: 512\n",
      "\u001b[34m\u001b[1mwandb\u001b[0m: \tlearning_rate: 0.001\n",
      "\u001b[34m\u001b[1mwandb\u001b[0m: \tnum_layers: 2\n"
     ]
    },
    {
     "data": {
      "text/html": [
       "Tracking run with wandb version 0.19.9"
      ],
      "text/plain": [
       "<IPython.core.display.HTML object>"
      ]
     },
     "metadata": {},
     "output_type": "display_data"
    },
    {
     "data": {
      "text/html": [
       "Run data is saved locally in <code>/kaggle/working/wandb/run-20250520_045054-56edl2lr</code>"
      ],
      "text/plain": [
       "<IPython.core.display.HTML object>"
      ]
     },
     "metadata": {},
     "output_type": "display_data"
    },
    {
     "data": {
      "text/html": [
       "Syncing run <strong><a href='https://wandb.ai/da24m014-iit-madras/DLA3/runs/56edl2lr' target=\"_blank\">stellar-sweep-6</a></strong> to <a href='https://wandb.ai/da24m014-iit-madras/DLA3' target=\"_blank\">Weights & Biases</a> (<a href='https://wandb.me/developer-guide' target=\"_blank\">docs</a>)<br>Sweep page: <a href='https://wandb.ai/da24m014-iit-madras/DLA3/sweeps/z8hzeqkz' target=\"_blank\">https://wandb.ai/da24m014-iit-madras/DLA3/sweeps/z8hzeqkz</a>"
      ],
      "text/plain": [
       "<IPython.core.display.HTML object>"
      ]
     },
     "metadata": {},
     "output_type": "display_data"
    },
    {
     "data": {
      "text/html": [
       " View project at <a href='https://wandb.ai/da24m014-iit-madras/DLA3' target=\"_blank\">https://wandb.ai/da24m014-iit-madras/DLA3</a>"
      ],
      "text/plain": [
       "<IPython.core.display.HTML object>"
      ]
     },
     "metadata": {},
     "output_type": "display_data"
    },
    {
     "data": {
      "text/html": [
       " View sweep at <a href='https://wandb.ai/da24m014-iit-madras/DLA3/sweeps/z8hzeqkz' target=\"_blank\">https://wandb.ai/da24m014-iit-madras/DLA3/sweeps/z8hzeqkz</a>"
      ],
      "text/plain": [
       "<IPython.core.display.HTML object>"
      ]
     },
     "metadata": {},
     "output_type": "display_data"
    },
    {
     "data": {
      "text/html": [
       " View run at <a href='https://wandb.ai/da24m014-iit-madras/DLA3/runs/56edl2lr' target=\"_blank\">https://wandb.ai/da24m014-iit-madras/DLA3/runs/56edl2lr</a>"
      ],
      "text/plain": [
       "<IPython.core.display.HTML object>"
      ]
     },
     "metadata": {},
     "output_type": "display_data"
    },
    {
     "name": "stdout",
     "output_type": "stream",
     "text": [
      "Loaded vocabularies: Source: 30, Target: 69\n",
      "Initialized model with attention: LSTM, Encoder layers: 2, Decoder layers: 2, Embedding: 256, Hidden: 512\n",
      "Model created on CPU, trying to move to device...\n",
      "Model successfully moved to device.\n",
      "Loading datasets...\n",
      "Loaded 56303 records from /kaggle/input/dakshina/dakshina_dataset_v1.0/mr/lexicons/mr.translit.sampled.train.tsv\n",
      "Example pairs: [('angry', 'अँग्री'), ('aengeography', 'अँजिओग्राफी')]\n",
      "Loaded 5658 records from /kaggle/input/dakshina/dakshina_dataset_v1.0/mr/lexicons/mr.translit.sampled.dev.tsv\n",
      "Example pairs: [('aendarsanla', 'अँडरसनला'), ('andersonla', 'अँडरसनला')]\n",
      "Epoch 1/10\n"
     ]
    },
    {
     "name": "stderr",
     "output_type": "stream",
     "text": [
      "/usr/local/lib/python3.11/dist-packages/torch/optim/lr_scheduler.py:62: UserWarning: The verbose parameter is deprecated. Please use get_last_lr() to access the learning rate.\n",
      "  warnings.warn(\n"
     ]
    },
    {
     "name": "stdout",
     "output_type": "stream",
     "text": [
      "Train loss: 0.8384 Train Accuracy: 0.7536\n",
      "Validation loss: 0.4407 Validation Accuracy: 0.8510 \n",
      "New best model with validation accuracy: 0.8510\n",
      "Epoch 2/10\n",
      "Train loss: 0.2897 Train Accuracy: 0.9045\n",
      "Validation loss: 0.3902 Validation Accuracy: 0.8714 \n",
      "New best model with validation accuracy: 0.8714\n",
      "Epoch 3/10\n",
      "Train loss: 0.2113 Train Accuracy: 0.9306\n",
      "Validation loss: 0.3787 Validation Accuracy: 0.8822 \n",
      "New best model with validation accuracy: 0.8822\n",
      "Epoch 4/10\n",
      "Train loss: 0.1651 Train Accuracy: 0.9459\n",
      "Validation loss: 0.3770 Validation Accuracy: 0.8843 \n",
      "New best model with validation accuracy: 0.8843\n",
      "Epoch 5/10\n",
      "Train loss: 0.1354 Train Accuracy: 0.9554\n",
      "Validation loss: 0.4004 Validation Accuracy: 0.8822 \n",
      "Epoch 6/10\n",
      "Train loss: 0.1130 Train Accuracy: 0.9623\n",
      "Validation loss: 0.4120 Validation Accuracy: 0.8832 \n",
      "Epoch 7/10\n",
      "Train loss: 0.0986 Train Accuracy: 0.9673\n",
      "Validation loss: 0.4183 Validation Accuracy: 0.8835 \n",
      "Epoch 8/10\n",
      "Train loss: 0.0625 Train Accuracy: 0.9793\n",
      "Validation loss: 0.4223 Validation Accuracy: 0.8888 \n",
      "New best model with validation accuracy: 0.8888\n",
      "Epoch 9/10\n",
      "Train loss: 0.0480 Train Accuracy: 0.9840\n",
      "Validation loss: 0.4431 Validation Accuracy: 0.8902 \n",
      "New best model with validation accuracy: 0.8902\n",
      "Epoch 10/10\n",
      "Train loss: 0.0439 Train Accuracy: 0.9855\n",
      "Validation loss: 0.4572 Validation Accuracy: 0.8902 \n",
      "New best model with validation accuracy: 0.8902\n"
     ]
    },
    {
     "data": {
      "text/html": [],
      "text/plain": [
       "<IPython.core.display.HTML object>"
      ]
     },
     "metadata": {},
     "output_type": "display_data"
    },
    {
     "data": {
      "text/html": [
       "<br>    <style><br>        .wandb-row {<br>            display: flex;<br>            flex-direction: row;<br>            flex-wrap: wrap;<br>            justify-content: flex-start;<br>            width: 100%;<br>        }<br>        .wandb-col {<br>            display: flex;<br>            flex-direction: column;<br>            flex-basis: 100%;<br>            flex: 1;<br>            padding: 10px;<br>        }<br>    </style><br><div class=\"wandb-row\"><div class=\"wandb-col\"><h3>Run history:</h3><br/><table class=\"wandb\"><tr><td>epoch</td><td>▁▂▃▃▄▅▆▆▇█</td></tr><tr><td>train_acc</td><td>▁▆▆▇▇▇▇███</td></tr><tr><td>train_loss</td><td>█▃▂▂▂▂▁▁▁▁</td></tr><tr><td>val_acc</td><td>▁▅▇▇▇▇▇███</td></tr><tr><td>val_accuracy</td><td>▁</td></tr><tr><td>val_loss</td><td>▇▂▁▁▃▄▅▅▇█</td></tr></table><br/></div><div class=\"wandb-col\"><h3>Run summary:</h3><br/><table class=\"wandb\"><tr><td>epoch</td><td>9</td></tr><tr><td>train_acc</td><td>0.9855</td></tr><tr><td>train_loss</td><td>0.04385</td></tr><tr><td>val_acc</td><td>0.89024</td></tr><tr><td>val_accuracy</td><td>0.89024</td></tr><tr><td>val_loss</td><td>0.4572</td></tr></table><br/></div></div>"
      ],
      "text/plain": [
       "<IPython.core.display.HTML object>"
      ]
     },
     "metadata": {},
     "output_type": "display_data"
    },
    {
     "data": {
      "text/html": [
       " View run <strong style=\"color:#cdcd00\">LSTM-e256-h512-enc2-dec2-d0.1-lr0.001-b64-beam5</strong> at: <a href='https://wandb.ai/da24m014-iit-madras/DLA3/runs/56edl2lr' target=\"_blank\">https://wandb.ai/da24m014-iit-madras/DLA3/runs/56edl2lr</a><br> View project at: <a href='https://wandb.ai/da24m014-iit-madras/DLA3' target=\"_blank\">https://wandb.ai/da24m014-iit-madras/DLA3</a><br>Synced 5 W&B file(s), 0 media file(s), 0 artifact file(s) and 0 other file(s)"
      ],
      "text/plain": [
       "<IPython.core.display.HTML object>"
      ]
     },
     "metadata": {},
     "output_type": "display_data"
    },
    {
     "data": {
      "text/html": [
       "Find logs at: <code>./wandb/run-20250520_045054-56edl2lr/logs</code>"
      ],
      "text/plain": [
       "<IPython.core.display.HTML object>"
      ]
     },
     "metadata": {},
     "output_type": "display_data"
    },
    {
     "name": "stderr",
     "output_type": "stream",
     "text": [
      "\u001b[34m\u001b[1mwandb\u001b[0m: Agent Starting Run: et18etxc with config:\n",
      "\u001b[34m\u001b[1mwandb\u001b[0m: \tbatch_size: 32\n",
      "\u001b[34m\u001b[1mwandb\u001b[0m: \tbeam_size: 5\n",
      "\u001b[34m\u001b[1mwandb\u001b[0m: \tcell_type: GRU\n",
      "\u001b[34m\u001b[1mwandb\u001b[0m: \tdropout: 0.1\n",
      "\u001b[34m\u001b[1mwandb\u001b[0m: \tembed_dim: 256\n",
      "\u001b[34m\u001b[1mwandb\u001b[0m: \thidden_dim: 512\n",
      "\u001b[34m\u001b[1mwandb\u001b[0m: \tlearning_rate: 0.001\n",
      "\u001b[34m\u001b[1mwandb\u001b[0m: \tnum_layers: 2\n"
     ]
    },
    {
     "data": {
      "text/html": [
       "Tracking run with wandb version 0.19.9"
      ],
      "text/plain": [
       "<IPython.core.display.HTML object>"
      ]
     },
     "metadata": {},
     "output_type": "display_data"
    },
    {
     "data": {
      "text/html": [
       "Run data is saved locally in <code>/kaggle/working/wandb/run-20250520_051028-et18etxc</code>"
      ],
      "text/plain": [
       "<IPython.core.display.HTML object>"
      ]
     },
     "metadata": {},
     "output_type": "display_data"
    },
    {
     "data": {
      "text/html": [
       "Syncing run <strong><a href='https://wandb.ai/da24m014-iit-madras/DLA3/runs/et18etxc' target=\"_blank\">deft-sweep-7</a></strong> to <a href='https://wandb.ai/da24m014-iit-madras/DLA3' target=\"_blank\">Weights & Biases</a> (<a href='https://wandb.me/developer-guide' target=\"_blank\">docs</a>)<br>Sweep page: <a href='https://wandb.ai/da24m014-iit-madras/DLA3/sweeps/z8hzeqkz' target=\"_blank\">https://wandb.ai/da24m014-iit-madras/DLA3/sweeps/z8hzeqkz</a>"
      ],
      "text/plain": [
       "<IPython.core.display.HTML object>"
      ]
     },
     "metadata": {},
     "output_type": "display_data"
    },
    {
     "data": {
      "text/html": [
       " View project at <a href='https://wandb.ai/da24m014-iit-madras/DLA3' target=\"_blank\">https://wandb.ai/da24m014-iit-madras/DLA3</a>"
      ],
      "text/plain": [
       "<IPython.core.display.HTML object>"
      ]
     },
     "metadata": {},
     "output_type": "display_data"
    },
    {
     "data": {
      "text/html": [
       " View sweep at <a href='https://wandb.ai/da24m014-iit-madras/DLA3/sweeps/z8hzeqkz' target=\"_blank\">https://wandb.ai/da24m014-iit-madras/DLA3/sweeps/z8hzeqkz</a>"
      ],
      "text/plain": [
       "<IPython.core.display.HTML object>"
      ]
     },
     "metadata": {},
     "output_type": "display_data"
    },
    {
     "data": {
      "text/html": [
       " View run at <a href='https://wandb.ai/da24m014-iit-madras/DLA3/runs/et18etxc' target=\"_blank\">https://wandb.ai/da24m014-iit-madras/DLA3/runs/et18etxc</a>"
      ],
      "text/plain": [
       "<IPython.core.display.HTML object>"
      ]
     },
     "metadata": {},
     "output_type": "display_data"
    },
    {
     "name": "stdout",
     "output_type": "stream",
     "text": [
      "Loaded vocabularies: Source: 30, Target: 69\n",
      "Initialized model with attention: GRU, Encoder layers: 2, Decoder layers: 2, Embedding: 256, Hidden: 512\n",
      "Model created on CPU, trying to move to device...\n",
      "Model successfully moved to device.\n",
      "Loading datasets...\n",
      "Loaded 56303 records from /kaggle/input/dakshina/dakshina_dataset_v1.0/mr/lexicons/mr.translit.sampled.train.tsv\n",
      "Example pairs: [('angry', 'अँग्री'), ('aengeography', 'अँजिओग्राफी')]\n",
      "Loaded 5658 records from /kaggle/input/dakshina/dakshina_dataset_v1.0/mr/lexicons/mr.translit.sampled.dev.tsv\n",
      "Example pairs: [('aendarsanla', 'अँडरसनला'), ('andersonla', 'अँडरसनला')]\n",
      "Epoch 1/10\n"
     ]
    },
    {
     "name": "stderr",
     "output_type": "stream",
     "text": [
      "/usr/local/lib/python3.11/dist-packages/torch/optim/lr_scheduler.py:62: UserWarning: The verbose parameter is deprecated. Please use get_last_lr() to access the learning rate.\n",
      "  warnings.warn(\n"
     ]
    },
    {
     "name": "stdout",
     "output_type": "stream",
     "text": [
      "Train loss: 0.5356 Train Accuracy: 0.8310\n",
      "Validation loss: 0.4289 Validation Accuracy: 0.8584 \n",
      "New best model with validation accuracy: 0.8584\n",
      "Epoch 2/10\n",
      "Train loss: 0.2708 Train Accuracy: 0.9102\n",
      "Validation loss: 0.4257 Validation Accuracy: 0.8658 \n",
      "New best model with validation accuracy: 0.8658\n",
      "Epoch 3/10\n",
      "Train loss: 0.2186 Train Accuracy: 0.9278\n",
      "Validation loss: 0.4202 Validation Accuracy: 0.8732 \n",
      "New best model with validation accuracy: 0.8732\n",
      "Epoch 4/10\n",
      "Train loss: 0.1900 Train Accuracy: 0.9370\n",
      "Validation loss: 0.4349 Validation Accuracy: 0.8706 \n",
      "Epoch 5/10\n",
      "Train loss: 0.1727 Train Accuracy: 0.9426\n",
      "Validation loss: 0.4341 Validation Accuracy: 0.8768 \n",
      "New best model with validation accuracy: 0.8768\n",
      "Epoch 6/10\n",
      "Train loss: 0.1609 Train Accuracy: 0.9469\n",
      "Validation loss: 0.4437 Validation Accuracy: 0.8740 \n",
      "Epoch 7/10\n",
      "Train loss: 0.1023 Train Accuracy: 0.9663\n",
      "Validation loss: 0.4204 Validation Accuracy: 0.8863 \n",
      "New best model with validation accuracy: 0.8863\n",
      "Epoch 8/10\n",
      "Train loss: 0.0774 Train Accuracy: 0.9747\n",
      "Validation loss: 0.4389 Validation Accuracy: 0.8846 \n",
      "Epoch 9/10\n",
      "Train loss: 0.0704 Train Accuracy: 0.9769\n",
      "Validation loss: 0.4644 Validation Accuracy: 0.8854 \n",
      "Epoch 10/10\n",
      "Train loss: 0.0473 Train Accuracy: 0.9847\n",
      "Validation loss: 0.4595 Validation Accuracy: 0.8882 \n",
      "New best model with validation accuracy: 0.8882\n"
     ]
    },
    {
     "data": {
      "text/html": [],
      "text/plain": [
       "<IPython.core.display.HTML object>"
      ]
     },
     "metadata": {},
     "output_type": "display_data"
    },
    {
     "data": {
      "text/html": [
       "<br>    <style><br>        .wandb-row {<br>            display: flex;<br>            flex-direction: row;<br>            flex-wrap: wrap;<br>            justify-content: flex-start;<br>            width: 100%;<br>        }<br>        .wandb-col {<br>            display: flex;<br>            flex-direction: column;<br>            flex-basis: 100%;<br>            flex: 1;<br>            padding: 10px;<br>        }<br>    </style><br><div class=\"wandb-row\"><div class=\"wandb-col\"><h3>Run history:</h3><br/><table class=\"wandb\"><tr><td>epoch</td><td>▁▂▃▃▄▅▆▆▇█</td></tr><tr><td>train_acc</td><td>▁▅▅▆▆▆▇███</td></tr><tr><td>train_loss</td><td>█▄▃▃▃▃▂▁▁▁</td></tr><tr><td>val_acc</td><td>▁▃▄▄▅▅█▇▇█</td></tr><tr><td>val_accuracy</td><td>▁</td></tr><tr><td>val_loss</td><td>▂▂▁▃▃▅▁▄█▇</td></tr></table><br/></div><div class=\"wandb-col\"><h3>Run summary:</h3><br/><table class=\"wandb\"><tr><td>epoch</td><td>9</td></tr><tr><td>train_acc</td><td>0.98469</td></tr><tr><td>train_loss</td><td>0.04733</td></tr><tr><td>val_acc</td><td>0.88823</td></tr><tr><td>val_accuracy</td><td>0.88823</td></tr><tr><td>val_loss</td><td>0.45945</td></tr></table><br/></div></div>"
      ],
      "text/plain": [
       "<IPython.core.display.HTML object>"
      ]
     },
     "metadata": {},
     "output_type": "display_data"
    },
    {
     "data": {
      "text/html": [
       " View run <strong style=\"color:#cdcd00\">GRU-e256-h512-enc2-dec2-d0.1-lr0.001-b32-beam5</strong> at: <a href='https://wandb.ai/da24m014-iit-madras/DLA3/runs/et18etxc' target=\"_blank\">https://wandb.ai/da24m014-iit-madras/DLA3/runs/et18etxc</a><br> View project at: <a href='https://wandb.ai/da24m014-iit-madras/DLA3' target=\"_blank\">https://wandb.ai/da24m014-iit-madras/DLA3</a><br>Synced 5 W&B file(s), 0 media file(s), 0 artifact file(s) and 0 other file(s)"
      ],
      "text/plain": [
       "<IPython.core.display.HTML object>"
      ]
     },
     "metadata": {},
     "output_type": "display_data"
    },
    {
     "data": {
      "text/html": [
       "Find logs at: <code>./wandb/run-20250520_051028-et18etxc/logs</code>"
      ],
      "text/plain": [
       "<IPython.core.display.HTML object>"
      ]
     },
     "metadata": {},
     "output_type": "display_data"
    },
    {
     "name": "stderr",
     "output_type": "stream",
     "text": [
      "\u001b[34m\u001b[1mwandb\u001b[0m: Agent Starting Run: lyb2q1u2 with config:\n",
      "\u001b[34m\u001b[1mwandb\u001b[0m: \tbatch_size: 64\n",
      "\u001b[34m\u001b[1mwandb\u001b[0m: \tbeam_size: 5\n",
      "\u001b[34m\u001b[1mwandb\u001b[0m: \tcell_type: LSTM\n",
      "\u001b[34m\u001b[1mwandb\u001b[0m: \tdropout: 0.2\n",
      "\u001b[34m\u001b[1mwandb\u001b[0m: \tembed_dim: 256\n",
      "\u001b[34m\u001b[1mwandb\u001b[0m: \thidden_dim: 512\n",
      "\u001b[34m\u001b[1mwandb\u001b[0m: \tlearning_rate: 0.001\n",
      "\u001b[34m\u001b[1mwandb\u001b[0m: \tnum_layers: 2\n"
     ]
    },
    {
     "data": {
      "text/html": [
       "Tracking run with wandb version 0.19.9"
      ],
      "text/plain": [
       "<IPython.core.display.HTML object>"
      ]
     },
     "metadata": {},
     "output_type": "display_data"
    },
    {
     "data": {
      "text/html": [
       "Run data is saved locally in <code>/kaggle/working/wandb/run-20250520_053608-lyb2q1u2</code>"
      ],
      "text/plain": [
       "<IPython.core.display.HTML object>"
      ]
     },
     "metadata": {},
     "output_type": "display_data"
    },
    {
     "data": {
      "text/html": [
       "Syncing run <strong><a href='https://wandb.ai/da24m014-iit-madras/DLA3/runs/lyb2q1u2' target=\"_blank\">lilac-sweep-8</a></strong> to <a href='https://wandb.ai/da24m014-iit-madras/DLA3' target=\"_blank\">Weights & Biases</a> (<a href='https://wandb.me/developer-guide' target=\"_blank\">docs</a>)<br>Sweep page: <a href='https://wandb.ai/da24m014-iit-madras/DLA3/sweeps/z8hzeqkz' target=\"_blank\">https://wandb.ai/da24m014-iit-madras/DLA3/sweeps/z8hzeqkz</a>"
      ],
      "text/plain": [
       "<IPython.core.display.HTML object>"
      ]
     },
     "metadata": {},
     "output_type": "display_data"
    },
    {
     "data": {
      "text/html": [
       " View project at <a href='https://wandb.ai/da24m014-iit-madras/DLA3' target=\"_blank\">https://wandb.ai/da24m014-iit-madras/DLA3</a>"
      ],
      "text/plain": [
       "<IPython.core.display.HTML object>"
      ]
     },
     "metadata": {},
     "output_type": "display_data"
    },
    {
     "data": {
      "text/html": [
       " View sweep at <a href='https://wandb.ai/da24m014-iit-madras/DLA3/sweeps/z8hzeqkz' target=\"_blank\">https://wandb.ai/da24m014-iit-madras/DLA3/sweeps/z8hzeqkz</a>"
      ],
      "text/plain": [
       "<IPython.core.display.HTML object>"
      ]
     },
     "metadata": {},
     "output_type": "display_data"
    },
    {
     "data": {
      "text/html": [
       " View run at <a href='https://wandb.ai/da24m014-iit-madras/DLA3/runs/lyb2q1u2' target=\"_blank\">https://wandb.ai/da24m014-iit-madras/DLA3/runs/lyb2q1u2</a>"
      ],
      "text/plain": [
       "<IPython.core.display.HTML object>"
      ]
     },
     "metadata": {},
     "output_type": "display_data"
    },
    {
     "name": "stdout",
     "output_type": "stream",
     "text": [
      "Loaded vocabularies: Source: 30, Target: 69\n",
      "Initialized model with attention: LSTM, Encoder layers: 2, Decoder layers: 2, Embedding: 256, Hidden: 512\n",
      "Model created on CPU, trying to move to device...\n",
      "Model successfully moved to device.\n",
      "Loading datasets...\n",
      "Loaded 56303 records from /kaggle/input/dakshina/dakshina_dataset_v1.0/mr/lexicons/mr.translit.sampled.train.tsv\n",
      "Example pairs: [('angry', 'अँग्री'), ('aengeography', 'अँजिओग्राफी')]\n",
      "Loaded 5658 records from /kaggle/input/dakshina/dakshina_dataset_v1.0/mr/lexicons/mr.translit.sampled.dev.tsv\n",
      "Example pairs: [('aendarsanla', 'अँडरसनला'), ('andersonla', 'अँडरसनला')]\n",
      "Epoch 1/10\n"
     ]
    },
    {
     "name": "stderr",
     "output_type": "stream",
     "text": [
      "/usr/local/lib/python3.11/dist-packages/torch/optim/lr_scheduler.py:62: UserWarning: The verbose parameter is deprecated. Please use get_last_lr() to access the learning rate.\n",
      "  warnings.warn(\n"
     ]
    },
    {
     "name": "stdout",
     "output_type": "stream",
     "text": [
      "Train loss: 0.8089 Train Accuracy: 0.7607\n",
      "Validation loss: 0.4385 Validation Accuracy: 0.8553 \n",
      "New best model with validation accuracy: 0.8553\n",
      "Epoch 2/10\n",
      "Train loss: 0.2952 Train Accuracy: 0.9026\n",
      "Validation loss: 0.3821 Validation Accuracy: 0.8733 \n",
      "New best model with validation accuracy: 0.8733\n",
      "Epoch 3/10\n",
      "Train loss: 0.2169 Train Accuracy: 0.9281\n",
      "Validation loss: 0.3852 Validation Accuracy: 0.8781 \n",
      "New best model with validation accuracy: 0.8781\n",
      "Epoch 4/10\n",
      "Train loss: 0.1722 Train Accuracy: 0.9426\n",
      "Validation loss: 0.3925 Validation Accuracy: 0.8821 \n",
      "New best model with validation accuracy: 0.8821\n",
      "Epoch 5/10\n",
      "Train loss: 0.1432 Train Accuracy: 0.9522\n",
      "Validation loss: 0.3967 Validation Accuracy: 0.8834 \n",
      "New best model with validation accuracy: 0.8834\n",
      "Epoch 6/10\n",
      "Train loss: 0.0921 Train Accuracy: 0.9697\n",
      "Validation loss: 0.3877 Validation Accuracy: 0.8924 \n",
      "New best model with validation accuracy: 0.8924\n",
      "Epoch 7/10\n",
      "Train loss: 0.0730 Train Accuracy: 0.9761\n",
      "Validation loss: 0.4091 Validation Accuracy: 0.8918 \n",
      "Epoch 8/10\n",
      "Train loss: 0.0653 Train Accuracy: 0.9785\n",
      "Validation loss: 0.4282 Validation Accuracy: 0.8908 \n",
      "Epoch 9/10\n",
      "Train loss: 0.0472 Train Accuracy: 0.9847\n",
      "Validation loss: 0.4292 Validation Accuracy: 0.8935 \n",
      "New best model with validation accuracy: 0.8935\n",
      "Epoch 10/10\n",
      "Train loss: 0.0396 Train Accuracy: 0.9871\n",
      "Validation loss: 0.4389 Validation Accuracy: 0.8942 \n",
      "New best model with validation accuracy: 0.8942\n"
     ]
    },
    {
     "data": {
      "text/html": [],
      "text/plain": [
       "<IPython.core.display.HTML object>"
      ]
     },
     "metadata": {},
     "output_type": "display_data"
    },
    {
     "data": {
      "text/html": [
       "<br>    <style><br>        .wandb-row {<br>            display: flex;<br>            flex-direction: row;<br>            flex-wrap: wrap;<br>            justify-content: flex-start;<br>            width: 100%;<br>        }<br>        .wandb-col {<br>            display: flex;<br>            flex-direction: column;<br>            flex-basis: 100%;<br>            flex: 1;<br>            padding: 10px;<br>        }<br>    </style><br><div class=\"wandb-row\"><div class=\"wandb-col\"><h3>Run history:</h3><br/><table class=\"wandb\"><tr><td>epoch</td><td>▁▂▃▃▄▅▆▆▇█</td></tr><tr><td>train_acc</td><td>▁▅▆▇▇▇████</td></tr><tr><td>train_loss</td><td>█▃▃▂▂▁▁▁▁▁</td></tr><tr><td>val_acc</td><td>▁▄▅▆▆██▇██</td></tr><tr><td>val_accuracy</td><td>▁</td></tr><tr><td>val_loss</td><td>█▁▁▂▃▂▄▇▇█</td></tr></table><br/></div><div class=\"wandb-col\"><h3>Run summary:</h3><br/><table class=\"wandb\"><tr><td>epoch</td><td>9</td></tr><tr><td>train_acc</td><td>0.98706</td></tr><tr><td>train_loss</td><td>0.03957</td></tr><tr><td>val_acc</td><td>0.89415</td></tr><tr><td>val_accuracy</td><td>0.89415</td></tr><tr><td>val_loss</td><td>0.43891</td></tr></table><br/></div></div>"
      ],
      "text/plain": [
       "<IPython.core.display.HTML object>"
      ]
     },
     "metadata": {},
     "output_type": "display_data"
    },
    {
     "data": {
      "text/html": [
       " View run <strong style=\"color:#cdcd00\">LSTM-e256-h512-enc2-dec2-d0.2-lr0.001-b64-beam5</strong> at: <a href='https://wandb.ai/da24m014-iit-madras/DLA3/runs/lyb2q1u2' target=\"_blank\">https://wandb.ai/da24m014-iit-madras/DLA3/runs/lyb2q1u2</a><br> View project at: <a href='https://wandb.ai/da24m014-iit-madras/DLA3' target=\"_blank\">https://wandb.ai/da24m014-iit-madras/DLA3</a><br>Synced 5 W&B file(s), 0 media file(s), 0 artifact file(s) and 0 other file(s)"
      ],
      "text/plain": [
       "<IPython.core.display.HTML object>"
      ]
     },
     "metadata": {},
     "output_type": "display_data"
    },
    {
     "data": {
      "text/html": [
       "Find logs at: <code>./wandb/run-20250520_053608-lyb2q1u2/logs</code>"
      ],
      "text/plain": [
       "<IPython.core.display.HTML object>"
      ]
     },
     "metadata": {},
     "output_type": "display_data"
    },
    {
     "name": "stderr",
     "output_type": "stream",
     "text": [
      "\u001b[34m\u001b[1mwandb\u001b[0m: Sweep Agent: Waiting for job.\n",
      "\u001b[34m\u001b[1mwandb\u001b[0m: Job received.\n",
      "\u001b[34m\u001b[1mwandb\u001b[0m: Agent Starting Run: 3o3c8sul with config:\n",
      "\u001b[34m\u001b[1mwandb\u001b[0m: \tbatch_size: 64\n",
      "\u001b[34m\u001b[1mwandb\u001b[0m: \tbeam_size: 5\n",
      "\u001b[34m\u001b[1mwandb\u001b[0m: \tcell_type: LSTM\n",
      "\u001b[34m\u001b[1mwandb\u001b[0m: \tdropout: 0.1\n",
      "\u001b[34m\u001b[1mwandb\u001b[0m: \tembed_dim: 256\n",
      "\u001b[34m\u001b[1mwandb\u001b[0m: \thidden_dim: 512\n",
      "\u001b[34m\u001b[1mwandb\u001b[0m: \tlearning_rate: 0.001\n",
      "\u001b[34m\u001b[1mwandb\u001b[0m: \tnum_layers: 2\n"
     ]
    },
    {
     "data": {
      "text/html": [
       "Tracking run with wandb version 0.19.9"
      ],
      "text/plain": [
       "<IPython.core.display.HTML object>"
      ]
     },
     "metadata": {},
     "output_type": "display_data"
    },
    {
     "data": {
      "text/html": [
       "Run data is saved locally in <code>/kaggle/working/wandb/run-20250520_055547-3o3c8sul</code>"
      ],
      "text/plain": [
       "<IPython.core.display.HTML object>"
      ]
     },
     "metadata": {},
     "output_type": "display_data"
    },
    {
     "data": {
      "text/html": [
       "Syncing run <strong><a href='https://wandb.ai/da24m014-iit-madras/DLA3/runs/3o3c8sul' target=\"_blank\">swept-sweep-9</a></strong> to <a href='https://wandb.ai/da24m014-iit-madras/DLA3' target=\"_blank\">Weights & Biases</a> (<a href='https://wandb.me/developer-guide' target=\"_blank\">docs</a>)<br>Sweep page: <a href='https://wandb.ai/da24m014-iit-madras/DLA3/sweeps/z8hzeqkz' target=\"_blank\">https://wandb.ai/da24m014-iit-madras/DLA3/sweeps/z8hzeqkz</a>"
      ],
      "text/plain": [
       "<IPython.core.display.HTML object>"
      ]
     },
     "metadata": {},
     "output_type": "display_data"
    },
    {
     "data": {
      "text/html": [
       " View project at <a href='https://wandb.ai/da24m014-iit-madras/DLA3' target=\"_blank\">https://wandb.ai/da24m014-iit-madras/DLA3</a>"
      ],
      "text/plain": [
       "<IPython.core.display.HTML object>"
      ]
     },
     "metadata": {},
     "output_type": "display_data"
    },
    {
     "data": {
      "text/html": [
       " View sweep at <a href='https://wandb.ai/da24m014-iit-madras/DLA3/sweeps/z8hzeqkz' target=\"_blank\">https://wandb.ai/da24m014-iit-madras/DLA3/sweeps/z8hzeqkz</a>"
      ],
      "text/plain": [
       "<IPython.core.display.HTML object>"
      ]
     },
     "metadata": {},
     "output_type": "display_data"
    },
    {
     "data": {
      "text/html": [
       " View run at <a href='https://wandb.ai/da24m014-iit-madras/DLA3/runs/3o3c8sul' target=\"_blank\">https://wandb.ai/da24m014-iit-madras/DLA3/runs/3o3c8sul</a>"
      ],
      "text/plain": [
       "<IPython.core.display.HTML object>"
      ]
     },
     "metadata": {},
     "output_type": "display_data"
    },
    {
     "name": "stdout",
     "output_type": "stream",
     "text": [
      "Loaded vocabularies: Source: 30, Target: 69\n",
      "Initialized model with attention: LSTM, Encoder layers: 2, Decoder layers: 2, Embedding: 256, Hidden: 512\n",
      "Model created on CPU, trying to move to device...\n",
      "Model successfully moved to device.\n",
      "Loading datasets...\n",
      "Loaded 56303 records from /kaggle/input/dakshina/dakshina_dataset_v1.0/mr/lexicons/mr.translit.sampled.train.tsv\n",
      "Example pairs: [('angry', 'अँग्री'), ('aengeography', 'अँजिओग्राफी')]\n",
      "Loaded 5658 records from /kaggle/input/dakshina/dakshina_dataset_v1.0/mr/lexicons/mr.translit.sampled.dev.tsv\n",
      "Example pairs: [('aendarsanla', 'अँडरसनला'), ('andersonla', 'अँडरसनला')]\n",
      "Epoch 1/10\n"
     ]
    },
    {
     "name": "stderr",
     "output_type": "stream",
     "text": [
      "/usr/local/lib/python3.11/dist-packages/torch/optim/lr_scheduler.py:62: UserWarning: The verbose parameter is deprecated. Please use get_last_lr() to access the learning rate.\n",
      "  warnings.warn(\n"
     ]
    },
    {
     "name": "stdout",
     "output_type": "stream",
     "text": [
      "Train loss: 0.7739 Train Accuracy: 0.7704\n",
      "Validation loss: 0.4278 Validation Accuracy: 0.8594 \n",
      "New best model with validation accuracy: 0.8594\n",
      "Epoch 2/10\n",
      "Train loss: 0.2822 Train Accuracy: 0.9071\n",
      "Validation loss: 0.3851 Validation Accuracy: 0.8746 \n",
      "New best model with validation accuracy: 0.8746\n",
      "Epoch 3/10\n",
      "Train loss: 0.2062 Train Accuracy: 0.9321\n",
      "Validation loss: 0.3896 Validation Accuracy: 0.8755 \n",
      "New best model with validation accuracy: 0.8755\n",
      "Epoch 4/10\n",
      "Train loss: 0.1606 Train Accuracy: 0.9470\n",
      "Validation loss: 0.3887 Validation Accuracy: 0.8824 \n",
      "New best model with validation accuracy: 0.8824\n",
      "Epoch 5/10\n",
      "Train loss: 0.1311 Train Accuracy: 0.9567\n",
      "Validation loss: 0.4036 Validation Accuracy: 0.8777 \n",
      "Epoch 6/10\n",
      "Train loss: 0.0830 Train Accuracy: 0.9728\n",
      "Validation loss: 0.4025 Validation Accuracy: 0.8900 \n",
      "New best model with validation accuracy: 0.8900\n",
      "Epoch 7/10\n",
      "Train loss: 0.0653 Train Accuracy: 0.9782\n",
      "Validation loss: 0.4191 Validation Accuracy: 0.8873 \n",
      "Epoch 8/10\n",
      "Train loss: 0.0571 Train Accuracy: 0.9811\n",
      "Validation loss: 0.4386 Validation Accuracy: 0.8880 \n",
      "Epoch 9/10\n",
      "Train loss: 0.0402 Train Accuracy: 0.9868\n",
      "Validation loss: 0.4439 Validation Accuracy: 0.8916 \n",
      "New best model with validation accuracy: 0.8916\n",
      "Epoch 10/10\n",
      "Train loss: 0.0337 Train Accuracy: 0.9886\n",
      "Validation loss: 0.4634 Validation Accuracy: 0.8909 \n"
     ]
    },
    {
     "data": {
      "text/html": [],
      "text/plain": [
       "<IPython.core.display.HTML object>"
      ]
     },
     "metadata": {},
     "output_type": "display_data"
    },
    {
     "data": {
      "text/html": [
       "<br>    <style><br>        .wandb-row {<br>            display: flex;<br>            flex-direction: row;<br>            flex-wrap: wrap;<br>            justify-content: flex-start;<br>            width: 100%;<br>        }<br>        .wandb-col {<br>            display: flex;<br>            flex-direction: column;<br>            flex-basis: 100%;<br>            flex: 1;<br>            padding: 10px;<br>        }<br>    </style><br><div class=\"wandb-row\"><div class=\"wandb-col\"><h3>Run history:</h3><br/><table class=\"wandb\"><tr><td>epoch</td><td>▁▂▃▃▄▅▆▆▇█</td></tr><tr><td>train_acc</td><td>▁▅▆▇▇▇████</td></tr><tr><td>train_loss</td><td>█▃▃▂▂▁▁▁▁▁</td></tr><tr><td>val_acc</td><td>▁▄▄▆▅█▇▇██</td></tr><tr><td>val_accuracy</td><td>▁</td></tr><tr><td>val_loss</td><td>▅▁▁▁▃▃▄▆▆█</td></tr></table><br/></div><div class=\"wandb-col\"><h3>Run summary:</h3><br/><table class=\"wandb\"><tr><td>epoch</td><td>9</td></tr><tr><td>train_acc</td><td>0.98862</td></tr><tr><td>train_loss</td><td>0.03366</td></tr><tr><td>val_acc</td><td>0.89087</td></tr><tr><td>val_accuracy</td><td>0.89159</td></tr><tr><td>val_loss</td><td>0.46337</td></tr></table><br/></div></div>"
      ],
      "text/plain": [
       "<IPython.core.display.HTML object>"
      ]
     },
     "metadata": {},
     "output_type": "display_data"
    },
    {
     "data": {
      "text/html": [
       " View run <strong style=\"color:#cdcd00\">LSTM-e256-h512-enc2-dec2-d0.1-lr0.001-b64-beam5</strong> at: <a href='https://wandb.ai/da24m014-iit-madras/DLA3/runs/3o3c8sul' target=\"_blank\">https://wandb.ai/da24m014-iit-madras/DLA3/runs/3o3c8sul</a><br> View project at: <a href='https://wandb.ai/da24m014-iit-madras/DLA3' target=\"_blank\">https://wandb.ai/da24m014-iit-madras/DLA3</a><br>Synced 5 W&B file(s), 0 media file(s), 0 artifact file(s) and 0 other file(s)"
      ],
      "text/plain": [
       "<IPython.core.display.HTML object>"
      ]
     },
     "metadata": {},
     "output_type": "display_data"
    },
    {
     "data": {
      "text/html": [
       "Find logs at: <code>./wandb/run-20250520_055547-3o3c8sul/logs</code>"
      ],
      "text/plain": [
       "<IPython.core.display.HTML object>"
      ]
     },
     "metadata": {},
     "output_type": "display_data"
    },
    {
     "name": "stderr",
     "output_type": "stream",
     "text": [
      "\u001b[34m\u001b[1mwandb\u001b[0m: Agent Starting Run: xzc1jpg7 with config:\n",
      "\u001b[34m\u001b[1mwandb\u001b[0m: \tbatch_size: 64\n",
      "\u001b[34m\u001b[1mwandb\u001b[0m: \tbeam_size: 5\n",
      "\u001b[34m\u001b[1mwandb\u001b[0m: \tcell_type: GRU\n",
      "\u001b[34m\u001b[1mwandb\u001b[0m: \tdropout: 0.2\n",
      "\u001b[34m\u001b[1mwandb\u001b[0m: \tembed_dim: 256\n",
      "\u001b[34m\u001b[1mwandb\u001b[0m: \thidden_dim: 512\n",
      "\u001b[34m\u001b[1mwandb\u001b[0m: \tlearning_rate: 0.0005\n",
      "\u001b[34m\u001b[1mwandb\u001b[0m: \tnum_layers: 1\n"
     ]
    },
    {
     "data": {
      "text/html": [
       "Tracking run with wandb version 0.19.9"
      ],
      "text/plain": [
       "<IPython.core.display.HTML object>"
      ]
     },
     "metadata": {},
     "output_type": "display_data"
    },
    {
     "data": {
      "text/html": [
       "Run data is saved locally in <code>/kaggle/working/wandb/run-20250520_061518-xzc1jpg7</code>"
      ],
      "text/plain": [
       "<IPython.core.display.HTML object>"
      ]
     },
     "metadata": {},
     "output_type": "display_data"
    },
    {
     "data": {
      "text/html": [
       "Syncing run <strong><a href='https://wandb.ai/da24m014-iit-madras/DLA3/runs/xzc1jpg7' target=\"_blank\">lyric-sweep-10</a></strong> to <a href='https://wandb.ai/da24m014-iit-madras/DLA3' target=\"_blank\">Weights & Biases</a> (<a href='https://wandb.me/developer-guide' target=\"_blank\">docs</a>)<br>Sweep page: <a href='https://wandb.ai/da24m014-iit-madras/DLA3/sweeps/z8hzeqkz' target=\"_blank\">https://wandb.ai/da24m014-iit-madras/DLA3/sweeps/z8hzeqkz</a>"
      ],
      "text/plain": [
       "<IPython.core.display.HTML object>"
      ]
     },
     "metadata": {},
     "output_type": "display_data"
    },
    {
     "data": {
      "text/html": [
       " View project at <a href='https://wandb.ai/da24m014-iit-madras/DLA3' target=\"_blank\">https://wandb.ai/da24m014-iit-madras/DLA3</a>"
      ],
      "text/plain": [
       "<IPython.core.display.HTML object>"
      ]
     },
     "metadata": {},
     "output_type": "display_data"
    },
    {
     "data": {
      "text/html": [
       " View sweep at <a href='https://wandb.ai/da24m014-iit-madras/DLA3/sweeps/z8hzeqkz' target=\"_blank\">https://wandb.ai/da24m014-iit-madras/DLA3/sweeps/z8hzeqkz</a>"
      ],
      "text/plain": [
       "<IPython.core.display.HTML object>"
      ]
     },
     "metadata": {},
     "output_type": "display_data"
    },
    {
     "data": {
      "text/html": [
       " View run at <a href='https://wandb.ai/da24m014-iit-madras/DLA3/runs/xzc1jpg7' target=\"_blank\">https://wandb.ai/da24m014-iit-madras/DLA3/runs/xzc1jpg7</a>"
      ],
      "text/plain": [
       "<IPython.core.display.HTML object>"
      ]
     },
     "metadata": {},
     "output_type": "display_data"
    },
    {
     "name": "stdout",
     "output_type": "stream",
     "text": [
      "Loaded vocabularies: Source: 30, Target: 69\n",
      "Initialized model with attention: GRU, Encoder layers: 1, Decoder layers: 1, Embedding: 256, Hidden: 512\n",
      "Model created on CPU, trying to move to device...\n",
      "Model successfully moved to device.\n",
      "Loading datasets...\n",
      "Loaded 56303 records from /kaggle/input/dakshina/dakshina_dataset_v1.0/mr/lexicons/mr.translit.sampled.train.tsv\n",
      "Example pairs: [('angry', 'अँग्री'), ('aengeography', 'अँजिओग्राफी')]\n",
      "Loaded 5658 records from /kaggle/input/dakshina/dakshina_dataset_v1.0/mr/lexicons/mr.translit.sampled.dev.tsv\n",
      "Example pairs: [('aendarsanla', 'अँडरसनला'), ('andersonla', 'अँडरसनला')]\n",
      "Epoch 1/10\n"
     ]
    },
    {
     "name": "stderr",
     "output_type": "stream",
     "text": [
      "/usr/local/lib/python3.11/dist-packages/torch/optim/lr_scheduler.py:62: UserWarning: The verbose parameter is deprecated. Please use get_last_lr() to access the learning rate.\n",
      "  warnings.warn(\n"
     ]
    },
    {
     "name": "stdout",
     "output_type": "stream",
     "text": [
      "Train loss: 0.6766 Train Accuracy: 0.7955\n",
      "Validation loss: 0.4321 Validation Accuracy: 0.8558 \n",
      "New best model with validation accuracy: 0.8558\n",
      "Epoch 2/10\n",
      "Train loss: 0.2912 Train Accuracy: 0.9039\n",
      "Validation loss: 0.3777 Validation Accuracy: 0.8740 \n",
      "New best model with validation accuracy: 0.8740\n",
      "Epoch 3/10\n",
      "Train loss: 0.2159 Train Accuracy: 0.9291\n",
      "Validation loss: 0.3609 Validation Accuracy: 0.8834 \n",
      "New best model with validation accuracy: 0.8834\n",
      "Epoch 4/10\n",
      "Train loss: 0.1709 Train Accuracy: 0.9441\n",
      "Validation loss: 0.3726 Validation Accuracy: 0.8845 \n",
      "New best model with validation accuracy: 0.8845\n",
      "Epoch 5/10\n",
      "Train loss: 0.1391 Train Accuracy: 0.9545\n",
      "Validation loss: 0.3832 Validation Accuracy: 0.8833 \n",
      "Epoch 6/10\n",
      "Train loss: 0.1168 Train Accuracy: 0.9616\n",
      "Validation loss: 0.4066 Validation Accuracy: 0.8834 \n",
      "Epoch 7/10\n",
      "Train loss: 0.0774 Train Accuracy: 0.9751\n",
      "Validation loss: 0.3887 Validation Accuracy: 0.8904 \n",
      "New best model with validation accuracy: 0.8904\n",
      "Epoch 8/10\n",
      "Train loss: 0.0638 Train Accuracy: 0.9792\n",
      "Validation loss: 0.4085 Validation Accuracy: 0.8887 \n",
      "Epoch 9/10\n",
      "Train loss: 0.0578 Train Accuracy: 0.9812\n",
      "Validation loss: 0.4147 Validation Accuracy: 0.8898 \n",
      "Epoch 10/10\n",
      "Train loss: 0.0425 Train Accuracy: 0.9862\n",
      "Validation loss: 0.4219 Validation Accuracy: 0.8909 \n",
      "New best model with validation accuracy: 0.8909\n"
     ]
    },
    {
     "data": {
      "text/html": [],
      "text/plain": [
       "<IPython.core.display.HTML object>"
      ]
     },
     "metadata": {},
     "output_type": "display_data"
    },
    {
     "data": {
      "text/html": [
       "<br>    <style><br>        .wandb-row {<br>            display: flex;<br>            flex-direction: row;<br>            flex-wrap: wrap;<br>            justify-content: flex-start;<br>            width: 100%;<br>        }<br>        .wandb-col {<br>            display: flex;<br>            flex-direction: column;<br>            flex-basis: 100%;<br>            flex: 1;<br>            padding: 10px;<br>        }<br>    </style><br><div class=\"wandb-row\"><div class=\"wandb-col\"><h3>Run history:</h3><br/><table class=\"wandb\"><tr><td>epoch</td><td>▁▂▃▃▄▅▆▆▇█</td></tr><tr><td>train_acc</td><td>▁▅▆▆▇▇████</td></tr><tr><td>train_loss</td><td>█▄▃▂▂▂▁▁▁▁</td></tr><tr><td>val_acc</td><td>▁▅▆▇▆▇████</td></tr><tr><td>val_accuracy</td><td>▁</td></tr><tr><td>val_loss</td><td>█▃▁▂▃▅▄▆▆▇</td></tr></table><br/></div><div class=\"wandb-col\"><h3>Run summary:</h3><br/><table class=\"wandb\"><tr><td>epoch</td><td>9</td></tr><tr><td>train_acc</td><td>0.98615</td></tr><tr><td>train_loss</td><td>0.04252</td></tr><tr><td>val_acc</td><td>0.89091</td></tr><tr><td>val_accuracy</td><td>0.89091</td></tr><tr><td>val_loss</td><td>0.42192</td></tr></table><br/></div></div>"
      ],
      "text/plain": [
       "<IPython.core.display.HTML object>"
      ]
     },
     "metadata": {},
     "output_type": "display_data"
    },
    {
     "data": {
      "text/html": [
       " View run <strong style=\"color:#cdcd00\">GRU-e256-h512-enc1-dec1-d0.2-lr0.0005-b64-beam5</strong> at: <a href='https://wandb.ai/da24m014-iit-madras/DLA3/runs/xzc1jpg7' target=\"_blank\">https://wandb.ai/da24m014-iit-madras/DLA3/runs/xzc1jpg7</a><br> View project at: <a href='https://wandb.ai/da24m014-iit-madras/DLA3' target=\"_blank\">https://wandb.ai/da24m014-iit-madras/DLA3</a><br>Synced 5 W&B file(s), 0 media file(s), 0 artifact file(s) and 0 other file(s)"
      ],
      "text/plain": [
       "<IPython.core.display.HTML object>"
      ]
     },
     "metadata": {},
     "output_type": "display_data"
    },
    {
     "data": {
      "text/html": [
       "Find logs at: <code>./wandb/run-20250520_061518-xzc1jpg7/logs</code>"
      ],
      "text/plain": [
       "<IPython.core.display.HTML object>"
      ]
     },
     "metadata": {},
     "output_type": "display_data"
    },
    {
     "name": "stderr",
     "output_type": "stream",
     "text": [
      "\u001b[34m\u001b[1mwandb\u001b[0m: Agent Starting Run: 57isp23f with config:\n",
      "\u001b[34m\u001b[1mwandb\u001b[0m: \tbatch_size: 64\n",
      "\u001b[34m\u001b[1mwandb\u001b[0m: \tbeam_size: 5\n",
      "\u001b[34m\u001b[1mwandb\u001b[0m: \tcell_type: LSTM\n",
      "\u001b[34m\u001b[1mwandb\u001b[0m: \tdropout: 0.2\n",
      "\u001b[34m\u001b[1mwandb\u001b[0m: \tembed_dim: 256\n",
      "\u001b[34m\u001b[1mwandb\u001b[0m: \thidden_dim: 512\n",
      "\u001b[34m\u001b[1mwandb\u001b[0m: \tlearning_rate: 0.001\n",
      "\u001b[34m\u001b[1mwandb\u001b[0m: \tnum_layers: 2\n"
     ]
    },
    {
     "data": {
      "text/html": [
       "Tracking run with wandb version 0.19.9"
      ],
      "text/plain": [
       "<IPython.core.display.HTML object>"
      ]
     },
     "metadata": {},
     "output_type": "display_data"
    },
    {
     "data": {
      "text/html": [
       "Run data is saved locally in <code>/kaggle/working/wandb/run-20250520_063000-57isp23f</code>"
      ],
      "text/plain": [
       "<IPython.core.display.HTML object>"
      ]
     },
     "metadata": {},
     "output_type": "display_data"
    },
    {
     "data": {
      "text/html": [
       "Syncing run <strong><a href='https://wandb.ai/da24m014-iit-madras/DLA3/runs/57isp23f' target=\"_blank\">summer-sweep-11</a></strong> to <a href='https://wandb.ai/da24m014-iit-madras/DLA3' target=\"_blank\">Weights & Biases</a> (<a href='https://wandb.me/developer-guide' target=\"_blank\">docs</a>)<br>Sweep page: <a href='https://wandb.ai/da24m014-iit-madras/DLA3/sweeps/z8hzeqkz' target=\"_blank\">https://wandb.ai/da24m014-iit-madras/DLA3/sweeps/z8hzeqkz</a>"
      ],
      "text/plain": [
       "<IPython.core.display.HTML object>"
      ]
     },
     "metadata": {},
     "output_type": "display_data"
    },
    {
     "data": {
      "text/html": [
       " View project at <a href='https://wandb.ai/da24m014-iit-madras/DLA3' target=\"_blank\">https://wandb.ai/da24m014-iit-madras/DLA3</a>"
      ],
      "text/plain": [
       "<IPython.core.display.HTML object>"
      ]
     },
     "metadata": {},
     "output_type": "display_data"
    },
    {
     "data": {
      "text/html": [
       " View sweep at <a href='https://wandb.ai/da24m014-iit-madras/DLA3/sweeps/z8hzeqkz' target=\"_blank\">https://wandb.ai/da24m014-iit-madras/DLA3/sweeps/z8hzeqkz</a>"
      ],
      "text/plain": [
       "<IPython.core.display.HTML object>"
      ]
     },
     "metadata": {},
     "output_type": "display_data"
    },
    {
     "data": {
      "text/html": [
       " View run at <a href='https://wandb.ai/da24m014-iit-madras/DLA3/runs/57isp23f' target=\"_blank\">https://wandb.ai/da24m014-iit-madras/DLA3/runs/57isp23f</a>"
      ],
      "text/plain": [
       "<IPython.core.display.HTML object>"
      ]
     },
     "metadata": {},
     "output_type": "display_data"
    },
    {
     "name": "stdout",
     "output_type": "stream",
     "text": [
      "Loaded vocabularies: Source: 30, Target: 69\n",
      "Initialized model with attention: LSTM, Encoder layers: 2, Decoder layers: 2, Embedding: 256, Hidden: 512\n",
      "Model created on CPU, trying to move to device...\n",
      "Model successfully moved to device.\n",
      "Loading datasets...\n",
      "Loaded 56303 records from /kaggle/input/dakshina/dakshina_dataset_v1.0/mr/lexicons/mr.translit.sampled.train.tsv\n",
      "Example pairs: [('angry', 'अँग्री'), ('aengeography', 'अँजिओग्राफी')]\n",
      "Loaded 5658 records from /kaggle/input/dakshina/dakshina_dataset_v1.0/mr/lexicons/mr.translit.sampled.dev.tsv\n",
      "Example pairs: [('aendarsanla', 'अँडरसनला'), ('andersonla', 'अँडरसनला')]\n",
      "Epoch 1/10\n"
     ]
    },
    {
     "name": "stderr",
     "output_type": "stream",
     "text": [
      "/usr/local/lib/python3.11/dist-packages/torch/optim/lr_scheduler.py:62: UserWarning: The verbose parameter is deprecated. Please use get_last_lr() to access the learning rate.\n",
      "  warnings.warn(\n"
     ]
    },
    {
     "name": "stdout",
     "output_type": "stream",
     "text": [
      "Train loss: 0.7622 Train Accuracy: 0.7723\n",
      "Validation loss: 0.4249 Validation Accuracy: 0.8608 \n",
      "New best model with validation accuracy: 0.8608\n",
      "Epoch 2/10\n",
      "Train loss: 0.2878 Train Accuracy: 0.9046\n",
      "Validation loss: 0.3904 Validation Accuracy: 0.8728 \n",
      "New best model with validation accuracy: 0.8728\n",
      "Epoch 3/10\n",
      "Train loss: 0.2127 Train Accuracy: 0.9293\n",
      "Validation loss: 0.3713 Validation Accuracy: 0.8797 \n",
      "New best model with validation accuracy: 0.8797\n",
      "Epoch 4/10\n",
      "Train loss: 0.1692 Train Accuracy: 0.9437\n",
      "Validation loss: 0.3822 Validation Accuracy: 0.8820 \n",
      "New best model with validation accuracy: 0.8820\n",
      "Epoch 5/10\n",
      "Train loss: 0.1400 Train Accuracy: 0.9534\n",
      "Validation loss: 0.3909 Validation Accuracy: 0.8857 \n",
      "New best model with validation accuracy: 0.8857\n",
      "Epoch 6/10\n",
      "Train loss: 0.1188 Train Accuracy: 0.9604\n",
      "Validation loss: 0.3987 Validation Accuracy: 0.8869 \n",
      "New best model with validation accuracy: 0.8869\n",
      "Epoch 7/10\n",
      "Train loss: 0.0776 Train Accuracy: 0.9743\n",
      "Validation loss: 0.4009 Validation Accuracy: 0.8913 \n",
      "New best model with validation accuracy: 0.8913\n",
      "Epoch 8/10\n",
      "Train loss: 0.0616 Train Accuracy: 0.9794\n",
      "Validation loss: 0.4163 Validation Accuracy: 0.8925 \n",
      "New best model with validation accuracy: 0.8925\n",
      "Epoch 9/10\n",
      "Train loss: 0.0558 Train Accuracy: 0.9816\n",
      "Validation loss: 0.4377 Validation Accuracy: 0.8900 \n",
      "Epoch 10/10\n",
      "Train loss: 0.0400 Train Accuracy: 0.9869\n",
      "Validation loss: 0.4432 Validation Accuracy: 0.8932 \n",
      "New best model with validation accuracy: 0.8932\n"
     ]
    },
    {
     "data": {
      "text/html": [],
      "text/plain": [
       "<IPython.core.display.HTML object>"
      ]
     },
     "metadata": {},
     "output_type": "display_data"
    },
    {
     "data": {
      "text/html": [
       "<br>    <style><br>        .wandb-row {<br>            display: flex;<br>            flex-direction: row;<br>            flex-wrap: wrap;<br>            justify-content: flex-start;<br>            width: 100%;<br>        }<br>        .wandb-col {<br>            display: flex;<br>            flex-direction: column;<br>            flex-basis: 100%;<br>            flex: 1;<br>            padding: 10px;<br>        }<br>    </style><br><div class=\"wandb-row\"><div class=\"wandb-col\"><h3>Run history:</h3><br/><table class=\"wandb\"><tr><td>epoch</td><td>▁▂▃▃▄▅▆▆▇█</td></tr><tr><td>train_acc</td><td>▁▅▆▇▇▇████</td></tr><tr><td>train_loss</td><td>█▃▃▂▂▂▁▁▁▁</td></tr><tr><td>val_acc</td><td>▁▄▅▆▆▇██▇█</td></tr><tr><td>val_accuracy</td><td>▁</td></tr><tr><td>val_loss</td><td>▆▃▁▂▃▄▄▅▇█</td></tr></table><br/></div><div class=\"wandb-col\"><h3>Run summary:</h3><br/><table class=\"wandb\"><tr><td>epoch</td><td>9</td></tr><tr><td>train_acc</td><td>0.9869</td></tr><tr><td>train_loss</td><td>0.03996</td></tr><tr><td>val_acc</td><td>0.89317</td></tr><tr><td>val_accuracy</td><td>0.89317</td></tr><tr><td>val_loss</td><td>0.44319</td></tr></table><br/></div></div>"
      ],
      "text/plain": [
       "<IPython.core.display.HTML object>"
      ]
     },
     "metadata": {},
     "output_type": "display_data"
    },
    {
     "data": {
      "text/html": [
       " View run <strong style=\"color:#cdcd00\">LSTM-e256-h512-enc2-dec2-d0.2-lr0.001-b64-beam5</strong> at: <a href='https://wandb.ai/da24m014-iit-madras/DLA3/runs/57isp23f' target=\"_blank\">https://wandb.ai/da24m014-iit-madras/DLA3/runs/57isp23f</a><br> View project at: <a href='https://wandb.ai/da24m014-iit-madras/DLA3' target=\"_blank\">https://wandb.ai/da24m014-iit-madras/DLA3</a><br>Synced 5 W&B file(s), 0 media file(s), 0 artifact file(s) and 0 other file(s)"
      ],
      "text/plain": [
       "<IPython.core.display.HTML object>"
      ]
     },
     "metadata": {},
     "output_type": "display_data"
    },
    {
     "data": {
      "text/html": [
       "Find logs at: <code>./wandb/run-20250520_063000-57isp23f/logs</code>"
      ],
      "text/plain": [
       "<IPython.core.display.HTML object>"
      ]
     },
     "metadata": {},
     "output_type": "display_data"
    },
    {
     "name": "stderr",
     "output_type": "stream",
     "text": [
      "\u001b[34m\u001b[1mwandb\u001b[0m: Agent Starting Run: edzjdi2b with config:\n",
      "\u001b[34m\u001b[1mwandb\u001b[0m: \tbatch_size: 128\n",
      "\u001b[34m\u001b[1mwandb\u001b[0m: \tbeam_size: 5\n",
      "\u001b[34m\u001b[1mwandb\u001b[0m: \tcell_type: LSTM\n",
      "\u001b[34m\u001b[1mwandb\u001b[0m: \tdropout: 0.2\n",
      "\u001b[34m\u001b[1mwandb\u001b[0m: \tembed_dim: 256\n",
      "\u001b[34m\u001b[1mwandb\u001b[0m: \thidden_dim: 512\n",
      "\u001b[34m\u001b[1mwandb\u001b[0m: \tlearning_rate: 0.001\n",
      "\u001b[34m\u001b[1mwandb\u001b[0m: \tnum_layers: 1\n"
     ]
    },
    {
     "data": {
      "text/html": [
       "Tracking run with wandb version 0.19.9"
      ],
      "text/plain": [
       "<IPython.core.display.HTML object>"
      ]
     },
     "metadata": {},
     "output_type": "display_data"
    },
    {
     "data": {
      "text/html": [
       "Run data is saved locally in <code>/kaggle/working/wandb/run-20250520_064931-edzjdi2b</code>"
      ],
      "text/plain": [
       "<IPython.core.display.HTML object>"
      ]
     },
     "metadata": {},
     "output_type": "display_data"
    },
    {
     "data": {
      "text/html": [
       "Syncing run <strong><a href='https://wandb.ai/da24m014-iit-madras/DLA3/runs/edzjdi2b' target=\"_blank\">smooth-sweep-12</a></strong> to <a href='https://wandb.ai/da24m014-iit-madras/DLA3' target=\"_blank\">Weights & Biases</a> (<a href='https://wandb.me/developer-guide' target=\"_blank\">docs</a>)<br>Sweep page: <a href='https://wandb.ai/da24m014-iit-madras/DLA3/sweeps/z8hzeqkz' target=\"_blank\">https://wandb.ai/da24m014-iit-madras/DLA3/sweeps/z8hzeqkz</a>"
      ],
      "text/plain": [
       "<IPython.core.display.HTML object>"
      ]
     },
     "metadata": {},
     "output_type": "display_data"
    },
    {
     "data": {
      "text/html": [
       " View project at <a href='https://wandb.ai/da24m014-iit-madras/DLA3' target=\"_blank\">https://wandb.ai/da24m014-iit-madras/DLA3</a>"
      ],
      "text/plain": [
       "<IPython.core.display.HTML object>"
      ]
     },
     "metadata": {},
     "output_type": "display_data"
    },
    {
     "data": {
      "text/html": [
       " View sweep at <a href='https://wandb.ai/da24m014-iit-madras/DLA3/sweeps/z8hzeqkz' target=\"_blank\">https://wandb.ai/da24m014-iit-madras/DLA3/sweeps/z8hzeqkz</a>"
      ],
      "text/plain": [
       "<IPython.core.display.HTML object>"
      ]
     },
     "metadata": {},
     "output_type": "display_data"
    },
    {
     "data": {
      "text/html": [
       " View run at <a href='https://wandb.ai/da24m014-iit-madras/DLA3/runs/edzjdi2b' target=\"_blank\">https://wandb.ai/da24m014-iit-madras/DLA3/runs/edzjdi2b</a>"
      ],
      "text/plain": [
       "<IPython.core.display.HTML object>"
      ]
     },
     "metadata": {},
     "output_type": "display_data"
    },
    {
     "name": "stdout",
     "output_type": "stream",
     "text": [
      "Loaded vocabularies: Source: 30, Target: 69\n",
      "Initialized model with attention: LSTM, Encoder layers: 1, Decoder layers: 1, Embedding: 256, Hidden: 512\n",
      "Model created on CPU, trying to move to device...\n",
      "Model successfully moved to device.\n",
      "Loading datasets...\n",
      "Loaded 56303 records from /kaggle/input/dakshina/dakshina_dataset_v1.0/mr/lexicons/mr.translit.sampled.train.tsv\n",
      "Example pairs: [('angry', 'अँग्री'), ('aengeography', 'अँजिओग्राफी')]\n",
      "Loaded 5658 records from /kaggle/input/dakshina/dakshina_dataset_v1.0/mr/lexicons/mr.translit.sampled.dev.tsv\n",
      "Example pairs: [('aendarsanla', 'अँडरसनला'), ('andersonla', 'अँडरसनला')]\n",
      "Epoch 1/10\n"
     ]
    },
    {
     "name": "stderr",
     "output_type": "stream",
     "text": [
      "/usr/local/lib/python3.11/dist-packages/torch/optim/lr_scheduler.py:62: UserWarning: The verbose parameter is deprecated. Please use get_last_lr() to access the learning rate.\n",
      "  warnings.warn(\n"
     ]
    },
    {
     "name": "stdout",
     "output_type": "stream",
     "text": [
      "Train loss: 0.7805 Train Accuracy: 0.7695\n",
      "Validation loss: 0.4260 Validation Accuracy: 0.8586 \n",
      "New best model with validation accuracy: 0.8586\n",
      "Epoch 2/10\n",
      "Train loss: 0.2946 Train Accuracy: 0.9033\n",
      "Validation loss: 0.3808 Validation Accuracy: 0.8713 \n",
      "New best model with validation accuracy: 0.8713\n",
      "Epoch 3/10\n",
      "Train loss: 0.2212 Train Accuracy: 0.9272\n",
      "Validation loss: 0.3691 Validation Accuracy: 0.8785 \n",
      "New best model with validation accuracy: 0.8785\n",
      "Epoch 4/10\n",
      "Train loss: 0.1758 Train Accuracy: 0.9419\n",
      "Validation loss: 0.3705 Validation Accuracy: 0.8827 \n",
      "New best model with validation accuracy: 0.8827\n",
      "Epoch 5/10\n",
      "Train loss: 0.1448 Train Accuracy: 0.9525\n",
      "Validation loss: 0.3776 Validation Accuracy: 0.8809 \n",
      "Epoch 6/10\n",
      "Train loss: 0.1240 Train Accuracy: 0.9590\n",
      "Validation loss: 0.3770 Validation Accuracy: 0.8868 \n",
      "New best model with validation accuracy: 0.8868\n",
      "Epoch 7/10\n",
      "Train loss: 0.0833 Train Accuracy: 0.9730\n",
      "Validation loss: 0.3699 Validation Accuracy: 0.8946 \n",
      "New best model with validation accuracy: 0.8946\n",
      "Epoch 8/10\n",
      "Train loss: 0.0689 Train Accuracy: 0.9774\n",
      "Validation loss: 0.3861 Validation Accuracy: 0.8925 \n",
      "Epoch 9/10\n",
      "Train loss: 0.0624 Train Accuracy: 0.9795\n",
      "Validation loss: 0.3951 Validation Accuracy: 0.8920 \n",
      "Epoch 10/10\n",
      "Train loss: 0.0476 Train Accuracy: 0.9843\n",
      "Validation loss: 0.3974 Validation Accuracy: 0.8943 \n"
     ]
    },
    {
     "data": {
      "text/html": [],
      "text/plain": [
       "<IPython.core.display.HTML object>"
      ]
     },
     "metadata": {},
     "output_type": "display_data"
    },
    {
     "data": {
      "text/html": [
       "<br>    <style><br>        .wandb-row {<br>            display: flex;<br>            flex-direction: row;<br>            flex-wrap: wrap;<br>            justify-content: flex-start;<br>            width: 100%;<br>        }<br>        .wandb-col {<br>            display: flex;<br>            flex-direction: column;<br>            flex-basis: 100%;<br>            flex: 1;<br>            padding: 10px;<br>        }<br>    </style><br><div class=\"wandb-row\"><div class=\"wandb-col\"><h3>Run history:</h3><br/><table class=\"wandb\"><tr><td>epoch</td><td>▁▂▃▃▄▅▆▆▇█</td></tr><tr><td>train_acc</td><td>▁▅▆▇▇▇████</td></tr><tr><td>train_loss</td><td>█▃▃▂▂▂▁▁▁▁</td></tr><tr><td>val_acc</td><td>▁▃▅▆▅▆██▇█</td></tr><tr><td>val_accuracy</td><td>▁</td></tr><tr><td>val_loss</td><td>█▂▁▁▂▂▁▃▄▄</td></tr></table><br/></div><div class=\"wandb-col\"><h3>Run summary:</h3><br/><table class=\"wandb\"><tr><td>epoch</td><td>9</td></tr><tr><td>train_acc</td><td>0.98431</td></tr><tr><td>train_loss</td><td>0.04756</td></tr><tr><td>val_acc</td><td>0.8943</td></tr><tr><td>val_accuracy</td><td>0.89462</td></tr><tr><td>val_loss</td><td>0.39745</td></tr></table><br/></div></div>"
      ],
      "text/plain": [
       "<IPython.core.display.HTML object>"
      ]
     },
     "metadata": {},
     "output_type": "display_data"
    },
    {
     "data": {
      "text/html": [
       " View run <strong style=\"color:#cdcd00\">LSTM-e256-h512-enc1-dec1-d0.2-lr0.001-b128-beam5</strong> at: <a href='https://wandb.ai/da24m014-iit-madras/DLA3/runs/edzjdi2b' target=\"_blank\">https://wandb.ai/da24m014-iit-madras/DLA3/runs/edzjdi2b</a><br> View project at: <a href='https://wandb.ai/da24m014-iit-madras/DLA3' target=\"_blank\">https://wandb.ai/da24m014-iit-madras/DLA3</a><br>Synced 5 W&B file(s), 0 media file(s), 0 artifact file(s) and 0 other file(s)"
      ],
      "text/plain": [
       "<IPython.core.display.HTML object>"
      ]
     },
     "metadata": {},
     "output_type": "display_data"
    },
    {
     "data": {
      "text/html": [
       "Find logs at: <code>./wandb/run-20250520_064931-edzjdi2b/logs</code>"
      ],
      "text/plain": [
       "<IPython.core.display.HTML object>"
      ]
     },
     "metadata": {},
     "output_type": "display_data"
    },
    {
     "name": "stderr",
     "output_type": "stream",
     "text": [
      "\u001b[34m\u001b[1mwandb\u001b[0m: Agent Starting Run: aw2mvec6 with config:\n",
      "\u001b[34m\u001b[1mwandb\u001b[0m: \tbatch_size: 64\n",
      "\u001b[34m\u001b[1mwandb\u001b[0m: \tbeam_size: 5\n",
      "\u001b[34m\u001b[1mwandb\u001b[0m: \tcell_type: LSTM\n",
      "\u001b[34m\u001b[1mwandb\u001b[0m: \tdropout: 0.2\n",
      "\u001b[34m\u001b[1mwandb\u001b[0m: \tembed_dim: 256\n",
      "\u001b[34m\u001b[1mwandb\u001b[0m: \thidden_dim: 512\n",
      "\u001b[34m\u001b[1mwandb\u001b[0m: \tlearning_rate: 0.001\n",
      "\u001b[34m\u001b[1mwandb\u001b[0m: \tnum_layers: 3\n"
     ]
    },
    {
     "data": {
      "text/html": [
       "Tracking run with wandb version 0.19.9"
      ],
      "text/plain": [
       "<IPython.core.display.HTML object>"
      ]
     },
     "metadata": {},
     "output_type": "display_data"
    },
    {
     "data": {
      "text/html": [
       "Run data is saved locally in <code>/kaggle/working/wandb/run-20250520_070317-aw2mvec6</code>"
      ],
      "text/plain": [
       "<IPython.core.display.HTML object>"
      ]
     },
     "metadata": {},
     "output_type": "display_data"
    },
    {
     "data": {
      "text/html": [
       "Syncing run <strong><a href='https://wandb.ai/da24m014-iit-madras/DLA3/runs/aw2mvec6' target=\"_blank\">leafy-sweep-13</a></strong> to <a href='https://wandb.ai/da24m014-iit-madras/DLA3' target=\"_blank\">Weights & Biases</a> (<a href='https://wandb.me/developer-guide' target=\"_blank\">docs</a>)<br>Sweep page: <a href='https://wandb.ai/da24m014-iit-madras/DLA3/sweeps/z8hzeqkz' target=\"_blank\">https://wandb.ai/da24m014-iit-madras/DLA3/sweeps/z8hzeqkz</a>"
      ],
      "text/plain": [
       "<IPython.core.display.HTML object>"
      ]
     },
     "metadata": {},
     "output_type": "display_data"
    },
    {
     "data": {
      "text/html": [
       " View project at <a href='https://wandb.ai/da24m014-iit-madras/DLA3' target=\"_blank\">https://wandb.ai/da24m014-iit-madras/DLA3</a>"
      ],
      "text/plain": [
       "<IPython.core.display.HTML object>"
      ]
     },
     "metadata": {},
     "output_type": "display_data"
    },
    {
     "data": {
      "text/html": [
       " View sweep at <a href='https://wandb.ai/da24m014-iit-madras/DLA3/sweeps/z8hzeqkz' target=\"_blank\">https://wandb.ai/da24m014-iit-madras/DLA3/sweeps/z8hzeqkz</a>"
      ],
      "text/plain": [
       "<IPython.core.display.HTML object>"
      ]
     },
     "metadata": {},
     "output_type": "display_data"
    },
    {
     "data": {
      "text/html": [
       " View run at <a href='https://wandb.ai/da24m014-iit-madras/DLA3/runs/aw2mvec6' target=\"_blank\">https://wandb.ai/da24m014-iit-madras/DLA3/runs/aw2mvec6</a>"
      ],
      "text/plain": [
       "<IPython.core.display.HTML object>"
      ]
     },
     "metadata": {},
     "output_type": "display_data"
    },
    {
     "name": "stdout",
     "output_type": "stream",
     "text": [
      "Loaded vocabularies: Source: 30, Target: 69\n",
      "Initialized model with attention: LSTM, Encoder layers: 3, Decoder layers: 3, Embedding: 256, Hidden: 512\n",
      "Model created on CPU, trying to move to device...\n",
      "Model successfully moved to device.\n",
      "Loading datasets...\n",
      "Loaded 56303 records from /kaggle/input/dakshina/dakshina_dataset_v1.0/mr/lexicons/mr.translit.sampled.train.tsv\n",
      "Example pairs: [('angry', 'अँग्री'), ('aengeography', 'अँजिओग्राफी')]\n",
      "Loaded 5658 records from /kaggle/input/dakshina/dakshina_dataset_v1.0/mr/lexicons/mr.translit.sampled.dev.tsv\n",
      "Example pairs: [('aendarsanla', 'अँडरसनला'), ('andersonla', 'अँडरसनला')]\n",
      "Epoch 1/10\n"
     ]
    },
    {
     "name": "stderr",
     "output_type": "stream",
     "text": [
      "/usr/local/lib/python3.11/dist-packages/torch/optim/lr_scheduler.py:62: UserWarning: The verbose parameter is deprecated. Please use get_last_lr() to access the learning rate.\n",
      "  warnings.warn(\n"
     ]
    },
    {
     "name": "stdout",
     "output_type": "stream",
     "text": [
      "Train loss: 1.4006 Train Accuracy: 0.6024\n",
      "Validation loss: 0.4906 Validation Accuracy: 0.8376 \n",
      "New best model with validation accuracy: 0.8376\n",
      "Epoch 2/10\n",
      "Train loss: 0.3274 Train Accuracy: 0.8934\n",
      "Validation loss: 0.4099 Validation Accuracy: 0.8676 \n",
      "New best model with validation accuracy: 0.8676\n",
      "Epoch 3/10\n",
      "Train loss: 0.2337 Train Accuracy: 0.9236\n",
      "Validation loss: 0.3990 Validation Accuracy: 0.8742 \n",
      "New best model with validation accuracy: 0.8742\n",
      "Epoch 4/10\n",
      "Train loss: 0.1831 Train Accuracy: 0.9399\n",
      "Validation loss: 0.4043 Validation Accuracy: 0.8803 \n",
      "New best model with validation accuracy: 0.8803\n",
      "Epoch 5/10\n",
      "Train loss: 0.1491 Train Accuracy: 0.9510\n",
      "Validation loss: 0.4143 Validation Accuracy: 0.8808 \n",
      "New best model with validation accuracy: 0.8808\n",
      "Epoch 6/10\n",
      "Train loss: 0.1235 Train Accuracy: 0.9590\n",
      "Validation loss: 0.4235 Validation Accuracy: 0.8796 \n",
      "Epoch 7/10\n",
      "Train loss: 0.0774 Train Accuracy: 0.9752\n",
      "Validation loss: 0.4201 Validation Accuracy: 0.8875 \n",
      "New best model with validation accuracy: 0.8875\n",
      "Epoch 8/10\n",
      "Train loss: 0.0588 Train Accuracy: 0.9813\n",
      "Validation loss: 0.4393 Validation Accuracy: 0.8882 \n",
      "New best model with validation accuracy: 0.8882\n",
      "Epoch 9/10\n",
      "Train loss: 0.0518 Train Accuracy: 0.9832\n",
      "Validation loss: 0.4632 Validation Accuracy: 0.8875 \n",
      "Epoch 10/10\n",
      "Train loss: 0.0368 Train Accuracy: 0.9884\n",
      "Validation loss: 0.4726 Validation Accuracy: 0.8890 \n",
      "New best model with validation accuracy: 0.8890\n"
     ]
    },
    {
     "data": {
      "text/html": [],
      "text/plain": [
       "<IPython.core.display.HTML object>"
      ]
     },
     "metadata": {},
     "output_type": "display_data"
    },
    {
     "data": {
      "text/html": [
       "<br>    <style><br>        .wandb-row {<br>            display: flex;<br>            flex-direction: row;<br>            flex-wrap: wrap;<br>            justify-content: flex-start;<br>            width: 100%;<br>        }<br>        .wandb-col {<br>            display: flex;<br>            flex-direction: column;<br>            flex-basis: 100%;<br>            flex: 1;<br>            padding: 10px;<br>        }<br>    </style><br><div class=\"wandb-row\"><div class=\"wandb-col\"><h3>Run history:</h3><br/><table class=\"wandb\"><tr><td>epoch</td><td>▁▂▃▃▄▅▆▆▇█</td></tr><tr><td>train_acc</td><td>▁▆▇▇▇▇████</td></tr><tr><td>train_loss</td><td>█▂▂▂▂▁▁▁▁▁</td></tr><tr><td>val_acc</td><td>▁▅▆▇▇▇████</td></tr><tr><td>val_accuracy</td><td>▁</td></tr><tr><td>val_loss</td><td>█▂▁▁▂▃▃▄▆▇</td></tr></table><br/></div><div class=\"wandb-col\"><h3>Run summary:</h3><br/><table class=\"wandb\"><tr><td>epoch</td><td>9</td></tr><tr><td>train_acc</td><td>0.98835</td></tr><tr><td>train_loss</td><td>0.03681</td></tr><tr><td>val_acc</td><td>0.88897</td></tr><tr><td>val_accuracy</td><td>0.88897</td></tr><tr><td>val_loss</td><td>0.47257</td></tr></table><br/></div></div>"
      ],
      "text/plain": [
       "<IPython.core.display.HTML object>"
      ]
     },
     "metadata": {},
     "output_type": "display_data"
    },
    {
     "data": {
      "text/html": [
       " View run <strong style=\"color:#cdcd00\">LSTM-e256-h512-enc3-dec3-d0.2-lr0.001-b64-beam5</strong> at: <a href='https://wandb.ai/da24m014-iit-madras/DLA3/runs/aw2mvec6' target=\"_blank\">https://wandb.ai/da24m014-iit-madras/DLA3/runs/aw2mvec6</a><br> View project at: <a href='https://wandb.ai/da24m014-iit-madras/DLA3' target=\"_blank\">https://wandb.ai/da24m014-iit-madras/DLA3</a><br>Synced 5 W&B file(s), 0 media file(s), 0 artifact file(s) and 0 other file(s)"
      ],
      "text/plain": [
       "<IPython.core.display.HTML object>"
      ]
     },
     "metadata": {},
     "output_type": "display_data"
    },
    {
     "data": {
      "text/html": [
       "Find logs at: <code>./wandb/run-20250520_070317-aw2mvec6/logs</code>"
      ],
      "text/plain": [
       "<IPython.core.display.HTML object>"
      ]
     },
     "metadata": {},
     "output_type": "display_data"
    },
    {
     "name": "stderr",
     "output_type": "stream",
     "text": [
      "\u001b[34m\u001b[1mwandb\u001b[0m: Agent Starting Run: mxzd2ptd with config:\n",
      "\u001b[34m\u001b[1mwandb\u001b[0m: \tbatch_size: 64\n",
      "\u001b[34m\u001b[1mwandb\u001b[0m: \tbeam_size: 5\n",
      "\u001b[34m\u001b[1mwandb\u001b[0m: \tcell_type: LSTM\n",
      "\u001b[34m\u001b[1mwandb\u001b[0m: \tdropout: 0.2\n",
      "\u001b[34m\u001b[1mwandb\u001b[0m: \tembed_dim: 256\n",
      "\u001b[34m\u001b[1mwandb\u001b[0m: \thidden_dim: 512\n",
      "\u001b[34m\u001b[1mwandb\u001b[0m: \tlearning_rate: 0.0005\n",
      "\u001b[34m\u001b[1mwandb\u001b[0m: \tnum_layers: 1\n"
     ]
    },
    {
     "data": {
      "text/html": [
       "Tracking run with wandb version 0.19.9"
      ],
      "text/plain": [
       "<IPython.core.display.HTML object>"
      ]
     },
     "metadata": {},
     "output_type": "display_data"
    },
    {
     "data": {
      "text/html": [
       "Run data is saved locally in <code>/kaggle/working/wandb/run-20250520_072706-mxzd2ptd</code>"
      ],
      "text/plain": [
       "<IPython.core.display.HTML object>"
      ]
     },
     "metadata": {},
     "output_type": "display_data"
    },
    {
     "data": {
      "text/html": [
       "Syncing run <strong><a href='https://wandb.ai/da24m014-iit-madras/DLA3/runs/mxzd2ptd' target=\"_blank\">bright-sweep-14</a></strong> to <a href='https://wandb.ai/da24m014-iit-madras/DLA3' target=\"_blank\">Weights & Biases</a> (<a href='https://wandb.me/developer-guide' target=\"_blank\">docs</a>)<br>Sweep page: <a href='https://wandb.ai/da24m014-iit-madras/DLA3/sweeps/z8hzeqkz' target=\"_blank\">https://wandb.ai/da24m014-iit-madras/DLA3/sweeps/z8hzeqkz</a>"
      ],
      "text/plain": [
       "<IPython.core.display.HTML object>"
      ]
     },
     "metadata": {},
     "output_type": "display_data"
    },
    {
     "data": {
      "text/html": [
       " View project at <a href='https://wandb.ai/da24m014-iit-madras/DLA3' target=\"_blank\">https://wandb.ai/da24m014-iit-madras/DLA3</a>"
      ],
      "text/plain": [
       "<IPython.core.display.HTML object>"
      ]
     },
     "metadata": {},
     "output_type": "display_data"
    },
    {
     "data": {
      "text/html": [
       " View sweep at <a href='https://wandb.ai/da24m014-iit-madras/DLA3/sweeps/z8hzeqkz' target=\"_blank\">https://wandb.ai/da24m014-iit-madras/DLA3/sweeps/z8hzeqkz</a>"
      ],
      "text/plain": [
       "<IPython.core.display.HTML object>"
      ]
     },
     "metadata": {},
     "output_type": "display_data"
    },
    {
     "data": {
      "text/html": [
       " View run at <a href='https://wandb.ai/da24m014-iit-madras/DLA3/runs/mxzd2ptd' target=\"_blank\">https://wandb.ai/da24m014-iit-madras/DLA3/runs/mxzd2ptd</a>"
      ],
      "text/plain": [
       "<IPython.core.display.HTML object>"
      ]
     },
     "metadata": {},
     "output_type": "display_data"
    },
    {
     "name": "stdout",
     "output_type": "stream",
     "text": [
      "Loaded vocabularies: Source: 30, Target: 69\n",
      "Initialized model with attention: LSTM, Encoder layers: 1, Decoder layers: 1, Embedding: 256, Hidden: 512\n",
      "Model created on CPU, trying to move to device...\n",
      "Model successfully moved to device.\n",
      "Loading datasets...\n",
      "Loaded 56303 records from /kaggle/input/dakshina/dakshina_dataset_v1.0/mr/lexicons/mr.translit.sampled.train.tsv\n",
      "Example pairs: [('angry', 'अँग्री'), ('aengeography', 'अँजिओग्राफी')]\n",
      "Loaded 5658 records from /kaggle/input/dakshina/dakshina_dataset_v1.0/mr/lexicons/mr.translit.sampled.dev.tsv\n",
      "Example pairs: [('aendarsanla', 'अँडरसनला'), ('andersonla', 'अँडरसनला')]\n",
      "Epoch 1/10\n"
     ]
    },
    {
     "name": "stderr",
     "output_type": "stream",
     "text": [
      "/usr/local/lib/python3.11/dist-packages/torch/optim/lr_scheduler.py:62: UserWarning: The verbose parameter is deprecated. Please use get_last_lr() to access the learning rate.\n",
      "  warnings.warn(\n"
     ]
    },
    {
     "name": "stdout",
     "output_type": "stream",
     "text": [
      "Train loss: 0.7616 Train Accuracy: 0.7743\n",
      "Validation loss: 0.4361 Validation Accuracy: 0.8550 \n",
      "New best model with validation accuracy: 0.8550\n",
      "Epoch 2/10\n",
      "Train loss: 0.3086 Train Accuracy: 0.8981\n",
      "Validation loss: 0.3850 Validation Accuracy: 0.8695 \n",
      "New best model with validation accuracy: 0.8695\n",
      "Epoch 3/10\n",
      "Train loss: 0.2319 Train Accuracy: 0.9235\n",
      "Validation loss: 0.3616 Validation Accuracy: 0.8821 \n",
      "New best model with validation accuracy: 0.8821\n",
      "Epoch 4/10\n",
      "Train loss: 0.1855 Train Accuracy: 0.9391\n",
      "Validation loss: 0.3565 Validation Accuracy: 0.8836 \n",
      "New best model with validation accuracy: 0.8836\n",
      "Epoch 5/10\n",
      "Train loss: 0.1526 Train Accuracy: 0.9501\n",
      "Validation loss: 0.3800 Validation Accuracy: 0.8811 \n",
      "Epoch 6/10\n",
      "Train loss: 0.1277 Train Accuracy: 0.9580\n",
      "Validation loss: 0.3897 Validation Accuracy: 0.8834 \n",
      "Epoch 7/10\n",
      "Train loss: 0.1110 Train Accuracy: 0.9635\n",
      "Validation loss: 0.3959 Validation Accuracy: 0.8828 \n",
      "Epoch 8/10\n",
      "Train loss: 0.0748 Train Accuracy: 0.9757\n",
      "Validation loss: 0.3987 Validation Accuracy: 0.8898 \n",
      "New best model with validation accuracy: 0.8898\n",
      "Epoch 9/10\n",
      "Train loss: 0.0631 Train Accuracy: 0.9795\n",
      "Validation loss: 0.4025 Validation Accuracy: 0.8901 \n",
      "New best model with validation accuracy: 0.8901\n",
      "Epoch 10/10\n",
      "Train loss: 0.0570 Train Accuracy: 0.9813\n",
      "Validation loss: 0.4230 Validation Accuracy: 0.8884 \n"
     ]
    },
    {
     "data": {
      "text/html": [],
      "text/plain": [
       "<IPython.core.display.HTML object>"
      ]
     },
     "metadata": {},
     "output_type": "display_data"
    },
    {
     "data": {
      "text/html": [
       "<br>    <style><br>        .wandb-row {<br>            display: flex;<br>            flex-direction: row;<br>            flex-wrap: wrap;<br>            justify-content: flex-start;<br>            width: 100%;<br>        }<br>        .wandb-col {<br>            display: flex;<br>            flex-direction: column;<br>            flex-basis: 100%;<br>            flex: 1;<br>            padding: 10px;<br>        }<br>    </style><br><div class=\"wandb-row\"><div class=\"wandb-col\"><h3>Run history:</h3><br/><table class=\"wandb\"><tr><td>epoch</td><td>▁▂▃▃▄▅▆▆▇█</td></tr><tr><td>train_acc</td><td>▁▅▆▇▇▇▇███</td></tr><tr><td>train_loss</td><td>█▄▃▂▂▂▂▁▁▁</td></tr><tr><td>val_acc</td><td>▁▄▆▇▆▇▇███</td></tr><tr><td>val_accuracy</td><td>▁</td></tr><tr><td>val_loss</td><td>█▄▁▁▃▄▄▅▅▇</td></tr></table><br/></div><div class=\"wandb-col\"><h3>Run summary:</h3><br/><table class=\"wandb\"><tr><td>epoch</td><td>9</td></tr><tr><td>train_acc</td><td>0.9813</td></tr><tr><td>train_loss</td><td>0.05698</td></tr><tr><td>val_acc</td><td>0.88838</td></tr><tr><td>val_accuracy</td><td>0.89009</td></tr><tr><td>val_loss</td><td>0.42296</td></tr></table><br/></div></div>"
      ],
      "text/plain": [
       "<IPython.core.display.HTML object>"
      ]
     },
     "metadata": {},
     "output_type": "display_data"
    },
    {
     "data": {
      "text/html": [
       " View run <strong style=\"color:#cdcd00\">LSTM-e256-h512-enc1-dec1-d0.2-lr0.0005-b64-beam5</strong> at: <a href='https://wandb.ai/da24m014-iit-madras/DLA3/runs/mxzd2ptd' target=\"_blank\">https://wandb.ai/da24m014-iit-madras/DLA3/runs/mxzd2ptd</a><br> View project at: <a href='https://wandb.ai/da24m014-iit-madras/DLA3' target=\"_blank\">https://wandb.ai/da24m014-iit-madras/DLA3</a><br>Synced 5 W&B file(s), 0 media file(s), 0 artifact file(s) and 0 other file(s)"
      ],
      "text/plain": [
       "<IPython.core.display.HTML object>"
      ]
     },
     "metadata": {},
     "output_type": "display_data"
    },
    {
     "data": {
      "text/html": [
       "Find logs at: <code>./wandb/run-20250520_072706-mxzd2ptd/logs</code>"
      ],
      "text/plain": [
       "<IPython.core.display.HTML object>"
      ]
     },
     "metadata": {},
     "output_type": "display_data"
    },
    {
     "name": "stderr",
     "output_type": "stream",
     "text": [
      "\u001b[34m\u001b[1mwandb\u001b[0m: Agent Starting Run: 9z6577a1 with config:\n",
      "\u001b[34m\u001b[1mwandb\u001b[0m: \tbatch_size: 64\n",
      "\u001b[34m\u001b[1mwandb\u001b[0m: \tbeam_size: 5\n",
      "\u001b[34m\u001b[1mwandb\u001b[0m: \tcell_type: LSTM\n",
      "\u001b[34m\u001b[1mwandb\u001b[0m: \tdropout: 0.1\n",
      "\u001b[34m\u001b[1mwandb\u001b[0m: \tembed_dim: 256\n",
      "\u001b[34m\u001b[1mwandb\u001b[0m: \thidden_dim: 512\n",
      "\u001b[34m\u001b[1mwandb\u001b[0m: \tlearning_rate: 0.001\n",
      "\u001b[34m\u001b[1mwandb\u001b[0m: \tnum_layers: 2\n"
     ]
    },
    {
     "data": {
      "text/html": [
       "Tracking run with wandb version 0.19.9"
      ],
      "text/plain": [
       "<IPython.core.display.HTML object>"
      ]
     },
     "metadata": {},
     "output_type": "display_data"
    },
    {
     "data": {
      "text/html": [
       "Run data is saved locally in <code>/kaggle/working/wandb/run-20250520_074243-9z6577a1</code>"
      ],
      "text/plain": [
       "<IPython.core.display.HTML object>"
      ]
     },
     "metadata": {},
     "output_type": "display_data"
    },
    {
     "data": {
      "text/html": [
       "Syncing run <strong><a href='https://wandb.ai/da24m014-iit-madras/DLA3/runs/9z6577a1' target=\"_blank\">legendary-sweep-15</a></strong> to <a href='https://wandb.ai/da24m014-iit-madras/DLA3' target=\"_blank\">Weights & Biases</a> (<a href='https://wandb.me/developer-guide' target=\"_blank\">docs</a>)<br>Sweep page: <a href='https://wandb.ai/da24m014-iit-madras/DLA3/sweeps/z8hzeqkz' target=\"_blank\">https://wandb.ai/da24m014-iit-madras/DLA3/sweeps/z8hzeqkz</a>"
      ],
      "text/plain": [
       "<IPython.core.display.HTML object>"
      ]
     },
     "metadata": {},
     "output_type": "display_data"
    },
    {
     "data": {
      "text/html": [
       " View project at <a href='https://wandb.ai/da24m014-iit-madras/DLA3' target=\"_blank\">https://wandb.ai/da24m014-iit-madras/DLA3</a>"
      ],
      "text/plain": [
       "<IPython.core.display.HTML object>"
      ]
     },
     "metadata": {},
     "output_type": "display_data"
    },
    {
     "data": {
      "text/html": [
       " View sweep at <a href='https://wandb.ai/da24m014-iit-madras/DLA3/sweeps/z8hzeqkz' target=\"_blank\">https://wandb.ai/da24m014-iit-madras/DLA3/sweeps/z8hzeqkz</a>"
      ],
      "text/plain": [
       "<IPython.core.display.HTML object>"
      ]
     },
     "metadata": {},
     "output_type": "display_data"
    },
    {
     "data": {
      "text/html": [
       " View run at <a href='https://wandb.ai/da24m014-iit-madras/DLA3/runs/9z6577a1' target=\"_blank\">https://wandb.ai/da24m014-iit-madras/DLA3/runs/9z6577a1</a>"
      ],
      "text/plain": [
       "<IPython.core.display.HTML object>"
      ]
     },
     "metadata": {},
     "output_type": "display_data"
    },
    {
     "name": "stdout",
     "output_type": "stream",
     "text": [
      "Loaded vocabularies: Source: 30, Target: 69\n",
      "Initialized model with attention: LSTM, Encoder layers: 2, Decoder layers: 2, Embedding: 256, Hidden: 512\n",
      "Model created on CPU, trying to move to device...\n",
      "Model successfully moved to device.\n",
      "Loading datasets...\n",
      "Loaded 56303 records from /kaggle/input/dakshina/dakshina_dataset_v1.0/mr/lexicons/mr.translit.sampled.train.tsv\n",
      "Example pairs: [('angry', 'अँग्री'), ('aengeography', 'अँजिओग्राफी')]\n",
      "Loaded 5658 records from /kaggle/input/dakshina/dakshina_dataset_v1.0/mr/lexicons/mr.translit.sampled.dev.tsv\n",
      "Example pairs: [('aendarsanla', 'अँडरसनला'), ('andersonla', 'अँडरसनला')]\n",
      "Epoch 1/10\n"
     ]
    },
    {
     "name": "stderr",
     "output_type": "stream",
     "text": [
      "/usr/local/lib/python3.11/dist-packages/torch/optim/lr_scheduler.py:62: UserWarning: The verbose parameter is deprecated. Please use get_last_lr() to access the learning rate.\n",
      "  warnings.warn(\n"
     ]
    },
    {
     "name": "stdout",
     "output_type": "stream",
     "text": [
      "Train loss: 0.7436 Train Accuracy: 0.7783\n",
      "Validation loss: 0.4399 Validation Accuracy: 0.8518 \n",
      "New best model with validation accuracy: 0.8518\n",
      "Epoch 2/10\n",
      "Train loss: 0.2771 Train Accuracy: 0.9086\n",
      "Validation loss: 0.3921 Validation Accuracy: 0.8691 \n",
      "New best model with validation accuracy: 0.8691\n",
      "Epoch 3/10\n",
      "Train loss: 0.2022 Train Accuracy: 0.9329\n",
      "Validation loss: 0.3811 Validation Accuracy: 0.8820 \n",
      "New best model with validation accuracy: 0.8820\n",
      "Epoch 4/10\n",
      "Train loss: 0.1578 Train Accuracy: 0.9479\n",
      "Validation loss: 0.3882 Validation Accuracy: 0.8812 \n",
      "Epoch 5/10\n",
      "Train loss: 0.1296 Train Accuracy: 0.9569\n",
      "Validation loss: 0.4110 Validation Accuracy: 0.8792 \n",
      "Epoch 6/10\n",
      "Train loss: 0.1103 Train Accuracy: 0.9634\n",
      "Validation loss: 0.4183 Validation Accuracy: 0.8857 \n",
      "New best model with validation accuracy: 0.8857\n",
      "Epoch 7/10\n",
      "Train loss: 0.0694 Train Accuracy: 0.9770\n",
      "Validation loss: 0.4167 Validation Accuracy: 0.8927 \n",
      "New best model with validation accuracy: 0.8927\n",
      "Epoch 8/10\n",
      "Train loss: 0.0533 Train Accuracy: 0.9823\n",
      "Validation loss: 0.4380 Validation Accuracy: 0.8926 \n",
      "Epoch 9/10\n",
      "Train loss: 0.0477 Train Accuracy: 0.9842\n",
      "Validation loss: 0.4468 Validation Accuracy: 0.8910 \n",
      "Epoch 10/10\n",
      "Train loss: 0.0337 Train Accuracy: 0.9887\n",
      "Validation loss: 0.4576 Validation Accuracy: 0.8945 \n",
      "New best model with validation accuracy: 0.8945\n"
     ]
    },
    {
     "data": {
      "text/html": [],
      "text/plain": [
       "<IPython.core.display.HTML object>"
      ]
     },
     "metadata": {},
     "output_type": "display_data"
    },
    {
     "data": {
      "text/html": [
       "<br>    <style><br>        .wandb-row {<br>            display: flex;<br>            flex-direction: row;<br>            flex-wrap: wrap;<br>            justify-content: flex-start;<br>            width: 100%;<br>        }<br>        .wandb-col {<br>            display: flex;<br>            flex-direction: column;<br>            flex-basis: 100%;<br>            flex: 1;<br>            padding: 10px;<br>        }<br>    </style><br><div class=\"wandb-row\"><div class=\"wandb-col\"><h3>Run history:</h3><br/><table class=\"wandb\"><tr><td>epoch</td><td>▁▂▃▃▄▅▆▆▇█</td></tr><tr><td>train_acc</td><td>▁▅▆▇▇▇████</td></tr><tr><td>train_loss</td><td>█▃▃▂▂▂▁▁▁▁</td></tr><tr><td>val_acc</td><td>▁▄▆▆▅▇██▇█</td></tr><tr><td>val_accuracy</td><td>▁</td></tr><tr><td>val_loss</td><td>▆▂▁▂▄▄▄▆▇█</td></tr></table><br/></div><div class=\"wandb-col\"><h3>Run summary:</h3><br/><table class=\"wandb\"><tr><td>epoch</td><td>9</td></tr><tr><td>train_acc</td><td>0.9887</td></tr><tr><td>train_loss</td><td>0.03366</td></tr><tr><td>val_acc</td><td>0.89448</td></tr><tr><td>val_accuracy</td><td>0.89448</td></tr><tr><td>val_loss</td><td>0.4576</td></tr></table><br/></div></div>"
      ],
      "text/plain": [
       "<IPython.core.display.HTML object>"
      ]
     },
     "metadata": {},
     "output_type": "display_data"
    },
    {
     "data": {
      "text/html": [
       " View run <strong style=\"color:#cdcd00\">LSTM-e256-h512-enc2-dec2-d0.1-lr0.001-b64-beam5</strong> at: <a href='https://wandb.ai/da24m014-iit-madras/DLA3/runs/9z6577a1' target=\"_blank\">https://wandb.ai/da24m014-iit-madras/DLA3/runs/9z6577a1</a><br> View project at: <a href='https://wandb.ai/da24m014-iit-madras/DLA3' target=\"_blank\">https://wandb.ai/da24m014-iit-madras/DLA3</a><br>Synced 5 W&B file(s), 0 media file(s), 0 artifact file(s) and 0 other file(s)"
      ],
      "text/plain": [
       "<IPython.core.display.HTML object>"
      ]
     },
     "metadata": {},
     "output_type": "display_data"
    },
    {
     "data": {
      "text/html": [
       "Find logs at: <code>./wandb/run-20250520_074243-9z6577a1/logs</code>"
      ],
      "text/plain": [
       "<IPython.core.display.HTML object>"
      ]
     },
     "metadata": {},
     "output_type": "display_data"
    },
    {
     "name": "stderr",
     "output_type": "stream",
     "text": [
      "\u001b[34m\u001b[1mwandb\u001b[0m: Agent Starting Run: bzbufzbs with config:\n",
      "\u001b[34m\u001b[1mwandb\u001b[0m: \tbatch_size: 64\n",
      "\u001b[34m\u001b[1mwandb\u001b[0m: \tbeam_size: 5\n",
      "\u001b[34m\u001b[1mwandb\u001b[0m: \tcell_type: LSTM\n",
      "\u001b[34m\u001b[1mwandb\u001b[0m: \tdropout: 0.2\n",
      "\u001b[34m\u001b[1mwandb\u001b[0m: \tembed_dim: 256\n",
      "\u001b[34m\u001b[1mwandb\u001b[0m: \thidden_dim: 512\n",
      "\u001b[34m\u001b[1mwandb\u001b[0m: \tlearning_rate: 0.001\n",
      "\u001b[34m\u001b[1mwandb\u001b[0m: \tnum_layers: 3\n"
     ]
    },
    {
     "data": {
      "text/html": [
       "Tracking run with wandb version 0.19.9"
      ],
      "text/plain": [
       "<IPython.core.display.HTML object>"
      ]
     },
     "metadata": {},
     "output_type": "display_data"
    },
    {
     "data": {
      "text/html": [
       "Run data is saved locally in <code>/kaggle/working/wandb/run-20250520_080213-bzbufzbs</code>"
      ],
      "text/plain": [
       "<IPython.core.display.HTML object>"
      ]
     },
     "metadata": {},
     "output_type": "display_data"
    },
    {
     "data": {
      "text/html": [
       "Syncing run <strong><a href='https://wandb.ai/da24m014-iit-madras/DLA3/runs/bzbufzbs' target=\"_blank\">tough-sweep-16</a></strong> to <a href='https://wandb.ai/da24m014-iit-madras/DLA3' target=\"_blank\">Weights & Biases</a> (<a href='https://wandb.me/developer-guide' target=\"_blank\">docs</a>)<br>Sweep page: <a href='https://wandb.ai/da24m014-iit-madras/DLA3/sweeps/z8hzeqkz' target=\"_blank\">https://wandb.ai/da24m014-iit-madras/DLA3/sweeps/z8hzeqkz</a>"
      ],
      "text/plain": [
       "<IPython.core.display.HTML object>"
      ]
     },
     "metadata": {},
     "output_type": "display_data"
    },
    {
     "data": {
      "text/html": [
       " View project at <a href='https://wandb.ai/da24m014-iit-madras/DLA3' target=\"_blank\">https://wandb.ai/da24m014-iit-madras/DLA3</a>"
      ],
      "text/plain": [
       "<IPython.core.display.HTML object>"
      ]
     },
     "metadata": {},
     "output_type": "display_data"
    },
    {
     "data": {
      "text/html": [
       " View sweep at <a href='https://wandb.ai/da24m014-iit-madras/DLA3/sweeps/z8hzeqkz' target=\"_blank\">https://wandb.ai/da24m014-iit-madras/DLA3/sweeps/z8hzeqkz</a>"
      ],
      "text/plain": [
       "<IPython.core.display.HTML object>"
      ]
     },
     "metadata": {},
     "output_type": "display_data"
    },
    {
     "data": {
      "text/html": [
       " View run at <a href='https://wandb.ai/da24m014-iit-madras/DLA3/runs/bzbufzbs' target=\"_blank\">https://wandb.ai/da24m014-iit-madras/DLA3/runs/bzbufzbs</a>"
      ],
      "text/plain": [
       "<IPython.core.display.HTML object>"
      ]
     },
     "metadata": {},
     "output_type": "display_data"
    },
    {
     "name": "stdout",
     "output_type": "stream",
     "text": [
      "Loaded vocabularies: Source: 30, Target: 69\n",
      "Initialized model with attention: LSTM, Encoder layers: 3, Decoder layers: 3, Embedding: 256, Hidden: 512\n",
      "Model created on CPU, trying to move to device...\n",
      "Model successfully moved to device.\n",
      "Loading datasets...\n",
      "Loaded 56303 records from /kaggle/input/dakshina/dakshina_dataset_v1.0/mr/lexicons/mr.translit.sampled.train.tsv\n",
      "Example pairs: [('angry', 'अँग्री'), ('aengeography', 'अँजिओग्राफी')]\n",
      "Loaded 5658 records from /kaggle/input/dakshina/dakshina_dataset_v1.0/mr/lexicons/mr.translit.sampled.dev.tsv\n",
      "Example pairs: [('aendarsanla', 'अँडरसनला'), ('andersonla', 'अँडरसनला')]\n",
      "Epoch 1/10\n"
     ]
    },
    {
     "name": "stderr",
     "output_type": "stream",
     "text": [
      "/usr/local/lib/python3.11/dist-packages/torch/optim/lr_scheduler.py:62: UserWarning: The verbose parameter is deprecated. Please use get_last_lr() to access the learning rate.\n",
      "  warnings.warn(\n"
     ]
    },
    {
     "name": "stdout",
     "output_type": "stream",
     "text": [
      "Train loss: 1.5708 Train Accuracy: 0.5577\n",
      "Validation loss: 0.5034 Validation Accuracy: 0.8392 \n",
      "New best model with validation accuracy: 0.8392\n",
      "Epoch 2/10\n",
      "Train loss: 0.3511 Train Accuracy: 0.8851\n",
      "Validation loss: 0.4054 Validation Accuracy: 0.8679 \n",
      "New best model with validation accuracy: 0.8679\n",
      "Epoch 3/10\n",
      "Train loss: 0.2508 Train Accuracy: 0.9176\n",
      "Validation loss: 0.3998 Validation Accuracy: 0.8701 \n",
      "New best model with validation accuracy: 0.8701\n",
      "Epoch 4/10\n",
      "Train loss: 0.1991 Train Accuracy: 0.9339\n",
      "Validation loss: 0.3872 Validation Accuracy: 0.8775 \n",
      "New best model with validation accuracy: 0.8775\n",
      "Epoch 5/10\n",
      "Train loss: 0.1648 Train Accuracy: 0.9450\n",
      "Validation loss: 0.4043 Validation Accuracy: 0.8773 \n",
      "Epoch 6/10\n",
      "Train loss: 0.1431 Train Accuracy: 0.9523\n",
      "Validation loss: 0.4100 Validation Accuracy: 0.8763 \n",
      "Epoch 7/10\n",
      "Train loss: 0.1240 Train Accuracy: 0.9584\n",
      "Validation loss: 0.4305 Validation Accuracy: 0.8770 \n",
      "Epoch 8/10\n",
      "Train loss: 0.0832 Train Accuracy: 0.9723\n",
      "Validation loss: 0.4244 Validation Accuracy: 0.8866 \n",
      "New best model with validation accuracy: 0.8866\n",
      "Epoch 9/10\n",
      "Train loss: 0.0671 Train Accuracy: 0.9776\n",
      "Validation loss: 0.4356 Validation Accuracy: 0.8878 \n",
      "New best model with validation accuracy: 0.8878\n",
      "Epoch 10/10\n",
      "Train loss: 0.0609 Train Accuracy: 0.9797\n",
      "Validation loss: 0.4518 Validation Accuracy: 0.8856 \n"
     ]
    },
    {
     "data": {
      "text/html": [],
      "text/plain": [
       "<IPython.core.display.HTML object>"
      ]
     },
     "metadata": {},
     "output_type": "display_data"
    },
    {
     "data": {
      "text/html": [
       "<br>    <style><br>        .wandb-row {<br>            display: flex;<br>            flex-direction: row;<br>            flex-wrap: wrap;<br>            justify-content: flex-start;<br>            width: 100%;<br>        }<br>        .wandb-col {<br>            display: flex;<br>            flex-direction: column;<br>            flex-basis: 100%;<br>            flex: 1;<br>            padding: 10px;<br>        }<br>    </style><br><div class=\"wandb-row\"><div class=\"wandb-col\"><h3>Run history:</h3><br/><table class=\"wandb\"><tr><td>epoch</td><td>▁▂▃▃▄▅▆▆▇█</td></tr><tr><td>train_acc</td><td>▁▆▇▇▇█████</td></tr><tr><td>train_loss</td><td>█▂▂▂▁▁▁▁▁▁</td></tr><tr><td>val_acc</td><td>▁▅▅▇▆▆▆███</td></tr><tr><td>val_accuracy</td><td>▁</td></tr><tr><td>val_loss</td><td>█▂▂▁▂▂▄▃▄▅</td></tr></table><br/></div><div class=\"wandb-col\"><h3>Run summary:</h3><br/><table class=\"wandb\"><tr><td>epoch</td><td>9</td></tr><tr><td>train_acc</td><td>0.97966</td></tr><tr><td>train_loss</td><td>0.06087</td></tr><tr><td>val_acc</td><td>0.88557</td></tr><tr><td>val_accuracy</td><td>0.88784</td></tr><tr><td>val_loss</td><td>0.45176</td></tr></table><br/></div></div>"
      ],
      "text/plain": [
       "<IPython.core.display.HTML object>"
      ]
     },
     "metadata": {},
     "output_type": "display_data"
    },
    {
     "data": {
      "text/html": [
       " View run <strong style=\"color:#cdcd00\">LSTM-e256-h512-enc3-dec3-d0.2-lr0.001-b64-beam5</strong> at: <a href='https://wandb.ai/da24m014-iit-madras/DLA3/runs/bzbufzbs' target=\"_blank\">https://wandb.ai/da24m014-iit-madras/DLA3/runs/bzbufzbs</a><br> View project at: <a href='https://wandb.ai/da24m014-iit-madras/DLA3' target=\"_blank\">https://wandb.ai/da24m014-iit-madras/DLA3</a><br>Synced 5 W&B file(s), 0 media file(s), 0 artifact file(s) and 0 other file(s)"
      ],
      "text/plain": [
       "<IPython.core.display.HTML object>"
      ]
     },
     "metadata": {},
     "output_type": "display_data"
    },
    {
     "data": {
      "text/html": [
       "Find logs at: <code>./wandb/run-20250520_080213-bzbufzbs/logs</code>"
      ],
      "text/plain": [
       "<IPython.core.display.HTML object>"
      ]
     },
     "metadata": {},
     "output_type": "display_data"
    },
    {
     "name": "stderr",
     "output_type": "stream",
     "text": [
      "\u001b[34m\u001b[1mwandb\u001b[0m: Agent Starting Run: 5i8hhkzk with config:\n",
      "\u001b[34m\u001b[1mwandb\u001b[0m: \tbatch_size: 128\n",
      "\u001b[34m\u001b[1mwandb\u001b[0m: \tbeam_size: 5\n",
      "\u001b[34m\u001b[1mwandb\u001b[0m: \tcell_type: GRU\n",
      "\u001b[34m\u001b[1mwandb\u001b[0m: \tdropout: 0.2\n",
      "\u001b[34m\u001b[1mwandb\u001b[0m: \tembed_dim: 256\n",
      "\u001b[34m\u001b[1mwandb\u001b[0m: \thidden_dim: 512\n",
      "\u001b[34m\u001b[1mwandb\u001b[0m: \tlearning_rate: 0.001\n",
      "\u001b[34m\u001b[1mwandb\u001b[0m: \tnum_layers: 2\n"
     ]
    },
    {
     "data": {
      "text/html": [
       "Tracking run with wandb version 0.19.9"
      ],
      "text/plain": [
       "<IPython.core.display.HTML object>"
      ]
     },
     "metadata": {},
     "output_type": "display_data"
    },
    {
     "data": {
      "text/html": [
       "Run data is saved locally in <code>/kaggle/working/wandb/run-20250520_082602-5i8hhkzk</code>"
      ],
      "text/plain": [
       "<IPython.core.display.HTML object>"
      ]
     },
     "metadata": {},
     "output_type": "display_data"
    },
    {
     "data": {
      "text/html": [
       "Syncing run <strong><a href='https://wandb.ai/da24m014-iit-madras/DLA3/runs/5i8hhkzk' target=\"_blank\">leafy-sweep-17</a></strong> to <a href='https://wandb.ai/da24m014-iit-madras/DLA3' target=\"_blank\">Weights & Biases</a> (<a href='https://wandb.me/developer-guide' target=\"_blank\">docs</a>)<br>Sweep page: <a href='https://wandb.ai/da24m014-iit-madras/DLA3/sweeps/z8hzeqkz' target=\"_blank\">https://wandb.ai/da24m014-iit-madras/DLA3/sweeps/z8hzeqkz</a>"
      ],
      "text/plain": [
       "<IPython.core.display.HTML object>"
      ]
     },
     "metadata": {},
     "output_type": "display_data"
    },
    {
     "data": {
      "text/html": [
       " View project at <a href='https://wandb.ai/da24m014-iit-madras/DLA3' target=\"_blank\">https://wandb.ai/da24m014-iit-madras/DLA3</a>"
      ],
      "text/plain": [
       "<IPython.core.display.HTML object>"
      ]
     },
     "metadata": {},
     "output_type": "display_data"
    },
    {
     "data": {
      "text/html": [
       " View sweep at <a href='https://wandb.ai/da24m014-iit-madras/DLA3/sweeps/z8hzeqkz' target=\"_blank\">https://wandb.ai/da24m014-iit-madras/DLA3/sweeps/z8hzeqkz</a>"
      ],
      "text/plain": [
       "<IPython.core.display.HTML object>"
      ]
     },
     "metadata": {},
     "output_type": "display_data"
    },
    {
     "data": {
      "text/html": [
       " View run at <a href='https://wandb.ai/da24m014-iit-madras/DLA3/runs/5i8hhkzk' target=\"_blank\">https://wandb.ai/da24m014-iit-madras/DLA3/runs/5i8hhkzk</a>"
      ],
      "text/plain": [
       "<IPython.core.display.HTML object>"
      ]
     },
     "metadata": {},
     "output_type": "display_data"
    },
    {
     "name": "stdout",
     "output_type": "stream",
     "text": [
      "Loaded vocabularies: Source: 30, Target: 69\n",
      "Initialized model with attention: GRU, Encoder layers: 2, Decoder layers: 2, Embedding: 256, Hidden: 512\n",
      "Model created on CPU, trying to move to device...\n",
      "Model successfully moved to device.\n",
      "Loading datasets...\n",
      "Loaded 56303 records from /kaggle/input/dakshina/dakshina_dataset_v1.0/mr/lexicons/mr.translit.sampled.train.tsv\n",
      "Example pairs: [('angry', 'अँग्री'), ('aengeography', 'अँजिओग्राफी')]\n",
      "Loaded 5658 records from /kaggle/input/dakshina/dakshina_dataset_v1.0/mr/lexicons/mr.translit.sampled.dev.tsv\n",
      "Example pairs: [('aendarsanla', 'अँडरसनला'), ('andersonla', 'अँडरसनला')]\n",
      "Epoch 1/10\n"
     ]
    },
    {
     "name": "stderr",
     "output_type": "stream",
     "text": [
      "/usr/local/lib/python3.11/dist-packages/torch/optim/lr_scheduler.py:62: UserWarning: The verbose parameter is deprecated. Please use get_last_lr() to access the learning rate.\n",
      "  warnings.warn(\n"
     ]
    },
    {
     "name": "stdout",
     "output_type": "stream",
     "text": [
      "Train loss: 0.7328 Train Accuracy: 0.7798\n",
      "Validation loss: 0.4079 Validation Accuracy: 0.8626 \n",
      "New best model with validation accuracy: 0.8626\n",
      "Epoch 2/10\n",
      "Train loss: 0.2872 Train Accuracy: 0.9045\n",
      "Validation loss: 0.3746 Validation Accuracy: 0.8754 \n",
      "New best model with validation accuracy: 0.8754\n",
      "Epoch 3/10\n",
      "Train loss: 0.2141 Train Accuracy: 0.9288\n",
      "Validation loss: 0.3702 Validation Accuracy: 0.8823 \n",
      "New best model with validation accuracy: 0.8823\n",
      "Epoch 4/10\n",
      "Train loss: 0.1680 Train Accuracy: 0.9446\n",
      "Validation loss: 0.3760 Validation Accuracy: 0.8844 \n",
      "New best model with validation accuracy: 0.8844\n",
      "Epoch 5/10\n",
      "Train loss: 0.1430 Train Accuracy: 0.9527\n",
      "Validation loss: 0.3842 Validation Accuracy: 0.8866 \n",
      "New best model with validation accuracy: 0.8866\n",
      "Epoch 6/10\n",
      "Train loss: 0.1225 Train Accuracy: 0.9591\n",
      "Validation loss: 0.3988 Validation Accuracy: 0.8849 \n",
      "Epoch 7/10\n",
      "Train loss: 0.0774 Train Accuracy: 0.9747\n",
      "Validation loss: 0.3891 Validation Accuracy: 0.8919 \n",
      "New best model with validation accuracy: 0.8919\n",
      "Epoch 8/10\n",
      "Train loss: 0.0588 Train Accuracy: 0.9808\n",
      "Validation loss: 0.4047 Validation Accuracy: 0.8939 \n",
      "New best model with validation accuracy: 0.8939\n",
      "Epoch 9/10\n",
      "Train loss: 0.0512 Train Accuracy: 0.9834\n",
      "Validation loss: 0.4324 Validation Accuracy: 0.8925 \n",
      "Epoch 10/10\n",
      "Train loss: 0.0375 Train Accuracy: 0.9880\n",
      "Validation loss: 0.4345 Validation Accuracy: 0.8936 \n"
     ]
    },
    {
     "data": {
      "text/html": [],
      "text/plain": [
       "<IPython.core.display.HTML object>"
      ]
     },
     "metadata": {},
     "output_type": "display_data"
    },
    {
     "data": {
      "text/html": [
       "<br>    <style><br>        .wandb-row {<br>            display: flex;<br>            flex-direction: row;<br>            flex-wrap: wrap;<br>            justify-content: flex-start;<br>            width: 100%;<br>        }<br>        .wandb-col {<br>            display: flex;<br>            flex-direction: column;<br>            flex-basis: 100%;<br>            flex: 1;<br>            padding: 10px;<br>        }<br>    </style><br><div class=\"wandb-row\"><div class=\"wandb-col\"><h3>Run history:</h3><br/><table class=\"wandb\"><tr><td>epoch</td><td>▁▂▃▃▄▅▆▆▇█</td></tr><tr><td>train_acc</td><td>▁▅▆▇▇▇████</td></tr><tr><td>train_loss</td><td>█▄▃▂▂▂▁▁▁▁</td></tr><tr><td>val_acc</td><td>▁▄▅▆▆▆████</td></tr><tr><td>val_accuracy</td><td>▁</td></tr><tr><td>val_loss</td><td>▅▁▁▂▃▄▃▅██</td></tr></table><br/></div><div class=\"wandb-col\"><h3>Run summary:</h3><br/><table class=\"wandb\"><tr><td>epoch</td><td>9</td></tr><tr><td>train_acc</td><td>0.988</td></tr><tr><td>train_loss</td><td>0.03751</td></tr><tr><td>val_acc</td><td>0.89358</td></tr><tr><td>val_accuracy</td><td>0.89385</td></tr><tr><td>val_loss</td><td>0.43451</td></tr></table><br/></div></div>"
      ],
      "text/plain": [
       "<IPython.core.display.HTML object>"
      ]
     },
     "metadata": {},
     "output_type": "display_data"
    },
    {
     "data": {
      "text/html": [
       " View run <strong style=\"color:#cdcd00\">GRU-e256-h512-enc2-dec2-d0.2-lr0.001-b128-beam5</strong> at: <a href='https://wandb.ai/da24m014-iit-madras/DLA3/runs/5i8hhkzk' target=\"_blank\">https://wandb.ai/da24m014-iit-madras/DLA3/runs/5i8hhkzk</a><br> View project at: <a href='https://wandb.ai/da24m014-iit-madras/DLA3' target=\"_blank\">https://wandb.ai/da24m014-iit-madras/DLA3</a><br>Synced 5 W&B file(s), 0 media file(s), 0 artifact file(s) and 0 other file(s)"
      ],
      "text/plain": [
       "<IPython.core.display.HTML object>"
      ]
     },
     "metadata": {},
     "output_type": "display_data"
    },
    {
     "data": {
      "text/html": [
       "Find logs at: <code>./wandb/run-20250520_082602-5i8hhkzk/logs</code>"
      ],
      "text/plain": [
       "<IPython.core.display.HTML object>"
      ]
     },
     "metadata": {},
     "output_type": "display_data"
    },
    {
     "name": "stderr",
     "output_type": "stream",
     "text": [
      "\u001b[34m\u001b[1mwandb\u001b[0m: Agent Starting Run: gdgunb9e with config:\n",
      "\u001b[34m\u001b[1mwandb\u001b[0m: \tbatch_size: 128\n",
      "\u001b[34m\u001b[1mwandb\u001b[0m: \tbeam_size: 5\n",
      "\u001b[34m\u001b[1mwandb\u001b[0m: \tcell_type: LSTM\n",
      "\u001b[34m\u001b[1mwandb\u001b[0m: \tdropout: 0.2\n",
      "\u001b[34m\u001b[1mwandb\u001b[0m: \tembed_dim: 128\n",
      "\u001b[34m\u001b[1mwandb\u001b[0m: \thidden_dim: 512\n",
      "\u001b[34m\u001b[1mwandb\u001b[0m: \tlearning_rate: 0.001\n",
      "\u001b[34m\u001b[1mwandb\u001b[0m: \tnum_layers: 2\n"
     ]
    },
    {
     "data": {
      "text/html": [
       "Tracking run with wandb version 0.19.9"
      ],
      "text/plain": [
       "<IPython.core.display.HTML object>"
      ]
     },
     "metadata": {},
     "output_type": "display_data"
    },
    {
     "data": {
      "text/html": [
       "Run data is saved locally in <code>/kaggle/working/wandb/run-20250520_084144-gdgunb9e</code>"
      ],
      "text/plain": [
       "<IPython.core.display.HTML object>"
      ]
     },
     "metadata": {},
     "output_type": "display_data"
    },
    {
     "data": {
      "text/html": [
       "Syncing run <strong><a href='https://wandb.ai/da24m014-iit-madras/DLA3/runs/gdgunb9e' target=\"_blank\">expert-sweep-18</a></strong> to <a href='https://wandb.ai/da24m014-iit-madras/DLA3' target=\"_blank\">Weights & Biases</a> (<a href='https://wandb.me/developer-guide' target=\"_blank\">docs</a>)<br>Sweep page: <a href='https://wandb.ai/da24m014-iit-madras/DLA3/sweeps/z8hzeqkz' target=\"_blank\">https://wandb.ai/da24m014-iit-madras/DLA3/sweeps/z8hzeqkz</a>"
      ],
      "text/plain": [
       "<IPython.core.display.HTML object>"
      ]
     },
     "metadata": {},
     "output_type": "display_data"
    },
    {
     "data": {
      "text/html": [
       " View project at <a href='https://wandb.ai/da24m014-iit-madras/DLA3' target=\"_blank\">https://wandb.ai/da24m014-iit-madras/DLA3</a>"
      ],
      "text/plain": [
       "<IPython.core.display.HTML object>"
      ]
     },
     "metadata": {},
     "output_type": "display_data"
    },
    {
     "data": {
      "text/html": [
       " View sweep at <a href='https://wandb.ai/da24m014-iit-madras/DLA3/sweeps/z8hzeqkz' target=\"_blank\">https://wandb.ai/da24m014-iit-madras/DLA3/sweeps/z8hzeqkz</a>"
      ],
      "text/plain": [
       "<IPython.core.display.HTML object>"
      ]
     },
     "metadata": {},
     "output_type": "display_data"
    },
    {
     "data": {
      "text/html": [
       " View run at <a href='https://wandb.ai/da24m014-iit-madras/DLA3/runs/gdgunb9e' target=\"_blank\">https://wandb.ai/da24m014-iit-madras/DLA3/runs/gdgunb9e</a>"
      ],
      "text/plain": [
       "<IPython.core.display.HTML object>"
      ]
     },
     "metadata": {},
     "output_type": "display_data"
    },
    {
     "name": "stdout",
     "output_type": "stream",
     "text": [
      "Loaded vocabularies: Source: 30, Target: 69\n",
      "Initialized model with attention: LSTM, Encoder layers: 2, Decoder layers: 2, Embedding: 128, Hidden: 512\n",
      "Model created on CPU, trying to move to device...\n",
      "Model successfully moved to device.\n",
      "Loading datasets...\n",
      "Loaded 56303 records from /kaggle/input/dakshina/dakshina_dataset_v1.0/mr/lexicons/mr.translit.sampled.train.tsv\n",
      "Example pairs: [('angry', 'अँग्री'), ('aengeography', 'अँजिओग्राफी')]\n",
      "Loaded 5658 records from /kaggle/input/dakshina/dakshina_dataset_v1.0/mr/lexicons/mr.translit.sampled.dev.tsv\n",
      "Example pairs: [('aendarsanla', 'अँडरसनला'), ('andersonla', 'अँडरसनला')]\n",
      "Epoch 1/10\n"
     ]
    },
    {
     "name": "stderr",
     "output_type": "stream",
     "text": [
      "/usr/local/lib/python3.11/dist-packages/torch/optim/lr_scheduler.py:62: UserWarning: The verbose parameter is deprecated. Please use get_last_lr() to access the learning rate.\n",
      "  warnings.warn(\n"
     ]
    },
    {
     "name": "stdout",
     "output_type": "stream",
     "text": [
      "Train loss: 1.1580 Train Accuracy: 0.6700\n",
      "Validation loss: 0.4665 Validation Accuracy: 0.8438 \n",
      "New best model with validation accuracy: 0.8438\n",
      "Epoch 2/10\n",
      "Train loss: 0.3396 Train Accuracy: 0.8886\n",
      "Validation loss: 0.3899 Validation Accuracy: 0.8688 \n",
      "New best model with validation accuracy: 0.8688\n",
      "Epoch 3/10\n",
      "Train loss: 0.2452 Train Accuracy: 0.9194\n",
      "Validation loss: 0.3781 Validation Accuracy: 0.8772 \n",
      "New best model with validation accuracy: 0.8772\n",
      "Epoch 4/10\n",
      "Train loss: 0.1921 Train Accuracy: 0.9368\n",
      "Validation loss: 0.3727 Validation Accuracy: 0.8843 \n",
      "New best model with validation accuracy: 0.8843\n",
      "Epoch 5/10\n",
      "Train loss: 0.1535 Train Accuracy: 0.9496\n",
      "Validation loss: 0.3783 Validation Accuracy: 0.8846 \n",
      "New best model with validation accuracy: 0.8846\n",
      "Epoch 6/10\n",
      "Train loss: 0.1285 Train Accuracy: 0.9578\n",
      "Validation loss: 0.3874 Validation Accuracy: 0.8848 \n",
      "New best model with validation accuracy: 0.8848\n",
      "Epoch 7/10\n",
      "Train loss: 0.1094 Train Accuracy: 0.9636\n",
      "Validation loss: 0.3971 Validation Accuracy: 0.8877 \n",
      "New best model with validation accuracy: 0.8877\n",
      "Epoch 8/10\n",
      "Train loss: 0.0718 Train Accuracy: 0.9764\n",
      "Validation loss: 0.3990 Validation Accuracy: 0.8929 \n",
      "New best model with validation accuracy: 0.8929\n",
      "Epoch 9/10\n",
      "Train loss: 0.0581 Train Accuracy: 0.9809\n",
      "Validation loss: 0.4202 Validation Accuracy: 0.8914 \n",
      "Epoch 10/10\n",
      "Train loss: 0.0520 Train Accuracy: 0.9830\n",
      "Validation loss: 0.4378 Validation Accuracy: 0.8903 \n"
     ]
    },
    {
     "data": {
      "text/html": [],
      "text/plain": [
       "<IPython.core.display.HTML object>"
      ]
     },
     "metadata": {},
     "output_type": "display_data"
    },
    {
     "data": {
      "text/html": [
       "<br>    <style><br>        .wandb-row {<br>            display: flex;<br>            flex-direction: row;<br>            flex-wrap: wrap;<br>            justify-content: flex-start;<br>            width: 100%;<br>        }<br>        .wandb-col {<br>            display: flex;<br>            flex-direction: column;<br>            flex-basis: 100%;<br>            flex: 1;<br>            padding: 10px;<br>        }<br>    </style><br><div class=\"wandb-row\"><div class=\"wandb-col\"><h3>Run history:</h3><br/><table class=\"wandb\"><tr><td>epoch</td><td>▁▂▃▃▄▅▆▆▇█</td></tr><tr><td>train_acc</td><td>▁▆▇▇▇▇████</td></tr><tr><td>train_loss</td><td>█▃▂▂▂▁▁▁▁▁</td></tr><tr><td>val_acc</td><td>▁▅▆▇▇▇▇███</td></tr><tr><td>val_accuracy</td><td>▁</td></tr><tr><td>val_loss</td><td>█▂▁▁▁▂▃▃▅▆</td></tr></table><br/></div><div class=\"wandb-col\"><h3>Run summary:</h3><br/><table class=\"wandb\"><tr><td>epoch</td><td>9</td></tr><tr><td>train_acc</td><td>0.98304</td></tr><tr><td>train_loss</td><td>0.05199</td></tr><tr><td>val_acc</td><td>0.89029</td></tr><tr><td>val_accuracy</td><td>0.89285</td></tr><tr><td>val_loss</td><td>0.43781</td></tr></table><br/></div></div>"
      ],
      "text/plain": [
       "<IPython.core.display.HTML object>"
      ]
     },
     "metadata": {},
     "output_type": "display_data"
    },
    {
     "data": {
      "text/html": [
       " View run <strong style=\"color:#cdcd00\">LSTM-e128-h512-enc2-dec2-d0.2-lr0.001-b128-beam5</strong> at: <a href='https://wandb.ai/da24m014-iit-madras/DLA3/runs/gdgunb9e' target=\"_blank\">https://wandb.ai/da24m014-iit-madras/DLA3/runs/gdgunb9e</a><br> View project at: <a href='https://wandb.ai/da24m014-iit-madras/DLA3' target=\"_blank\">https://wandb.ai/da24m014-iit-madras/DLA3</a><br>Synced 5 W&B file(s), 0 media file(s), 0 artifact file(s) and 0 other file(s)"
      ],
      "text/plain": [
       "<IPython.core.display.HTML object>"
      ]
     },
     "metadata": {},
     "output_type": "display_data"
    },
    {
     "data": {
      "text/html": [
       "Find logs at: <code>./wandb/run-20250520_084144-gdgunb9e/logs</code>"
      ],
      "text/plain": [
       "<IPython.core.display.HTML object>"
      ]
     },
     "metadata": {},
     "output_type": "display_data"
    },
    {
     "name": "stderr",
     "output_type": "stream",
     "text": [
      "\u001b[34m\u001b[1mwandb\u001b[0m: Agent Starting Run: xqrcm2yk with config:\n",
      "\u001b[34m\u001b[1mwandb\u001b[0m: \tbatch_size: 128\n",
      "\u001b[34m\u001b[1mwandb\u001b[0m: \tbeam_size: 5\n",
      "\u001b[34m\u001b[1mwandb\u001b[0m: \tcell_type: GRU\n",
      "\u001b[34m\u001b[1mwandb\u001b[0m: \tdropout: 0.2\n",
      "\u001b[34m\u001b[1mwandb\u001b[0m: \tembed_dim: 256\n",
      "\u001b[34m\u001b[1mwandb\u001b[0m: \thidden_dim: 512\n",
      "\u001b[34m\u001b[1mwandb\u001b[0m: \tlearning_rate: 0.001\n",
      "\u001b[34m\u001b[1mwandb\u001b[0m: \tnum_layers: 2\n"
     ]
    },
    {
     "data": {
      "text/html": [
       "Tracking run with wandb version 0.19.9"
      ],
      "text/plain": [
       "<IPython.core.display.HTML object>"
      ]
     },
     "metadata": {},
     "output_type": "display_data"
    },
    {
     "data": {
      "text/html": [
       "Run data is saved locally in <code>/kaggle/working/wandb/run-20250520_085818-xqrcm2yk</code>"
      ],
      "text/plain": [
       "<IPython.core.display.HTML object>"
      ]
     },
     "metadata": {},
     "output_type": "display_data"
    },
    {
     "data": {
      "text/html": [
       "Syncing run <strong><a href='https://wandb.ai/da24m014-iit-madras/DLA3/runs/xqrcm2yk' target=\"_blank\">fast-sweep-19</a></strong> to <a href='https://wandb.ai/da24m014-iit-madras/DLA3' target=\"_blank\">Weights & Biases</a> (<a href='https://wandb.me/developer-guide' target=\"_blank\">docs</a>)<br>Sweep page: <a href='https://wandb.ai/da24m014-iit-madras/DLA3/sweeps/z8hzeqkz' target=\"_blank\">https://wandb.ai/da24m014-iit-madras/DLA3/sweeps/z8hzeqkz</a>"
      ],
      "text/plain": [
       "<IPython.core.display.HTML object>"
      ]
     },
     "metadata": {},
     "output_type": "display_data"
    },
    {
     "data": {
      "text/html": [
       " View project at <a href='https://wandb.ai/da24m014-iit-madras/DLA3' target=\"_blank\">https://wandb.ai/da24m014-iit-madras/DLA3</a>"
      ],
      "text/plain": [
       "<IPython.core.display.HTML object>"
      ]
     },
     "metadata": {},
     "output_type": "display_data"
    },
    {
     "data": {
      "text/html": [
       " View sweep at <a href='https://wandb.ai/da24m014-iit-madras/DLA3/sweeps/z8hzeqkz' target=\"_blank\">https://wandb.ai/da24m014-iit-madras/DLA3/sweeps/z8hzeqkz</a>"
      ],
      "text/plain": [
       "<IPython.core.display.HTML object>"
      ]
     },
     "metadata": {},
     "output_type": "display_data"
    },
    {
     "data": {
      "text/html": [
       " View run at <a href='https://wandb.ai/da24m014-iit-madras/DLA3/runs/xqrcm2yk' target=\"_blank\">https://wandb.ai/da24m014-iit-madras/DLA3/runs/xqrcm2yk</a>"
      ],
      "text/plain": [
       "<IPython.core.display.HTML object>"
      ]
     },
     "metadata": {},
     "output_type": "display_data"
    },
    {
     "name": "stdout",
     "output_type": "stream",
     "text": [
      "Loaded vocabularies: Source: 30, Target: 69\n",
      "Initialized model with attention: GRU, Encoder layers: 2, Decoder layers: 2, Embedding: 256, Hidden: 512\n",
      "Model created on CPU, trying to move to device...\n",
      "Model successfully moved to device.\n",
      "Loading datasets...\n",
      "Loaded 56303 records from /kaggle/input/dakshina/dakshina_dataset_v1.0/mr/lexicons/mr.translit.sampled.train.tsv\n",
      "Example pairs: [('angry', 'अँग्री'), ('aengeography', 'अँजिओग्राफी')]\n",
      "Loaded 5658 records from /kaggle/input/dakshina/dakshina_dataset_v1.0/mr/lexicons/mr.translit.sampled.dev.tsv\n",
      "Example pairs: [('aendarsanla', 'अँडरसनला'), ('andersonla', 'अँडरसनला')]\n",
      "Epoch 1/10\n"
     ]
    },
    {
     "name": "stderr",
     "output_type": "stream",
     "text": [
      "/usr/local/lib/python3.11/dist-packages/torch/optim/lr_scheduler.py:62: UserWarning: The verbose parameter is deprecated. Please use get_last_lr() to access the learning rate.\n",
      "  warnings.warn(\n"
     ]
    },
    {
     "name": "stdout",
     "output_type": "stream",
     "text": [
      "Train loss: 0.7446 Train Accuracy: 0.7772\n",
      "Validation loss: 0.4279 Validation Accuracy: 0.8558 \n",
      "New best model with validation accuracy: 0.8558\n",
      "Epoch 2/10\n",
      "Train loss: 0.2891 Train Accuracy: 0.9043\n",
      "Validation loss: 0.3864 Validation Accuracy: 0.8740 \n",
      "New best model with validation accuracy: 0.8740\n",
      "Epoch 3/10\n",
      "Train loss: 0.2134 Train Accuracy: 0.9295\n",
      "Validation loss: 0.3789 Validation Accuracy: 0.8814 \n",
      "New best model with validation accuracy: 0.8814\n",
      "Epoch 4/10\n",
      "Train loss: 0.1711 Train Accuracy: 0.9437\n",
      "Validation loss: 0.3800 Validation Accuracy: 0.8851 \n",
      "New best model with validation accuracy: 0.8851\n",
      "Epoch 5/10\n",
      "Train loss: 0.1421 Train Accuracy: 0.9531\n",
      "Validation loss: 0.3898 Validation Accuracy: 0.8862 \n",
      "New best model with validation accuracy: 0.8862\n",
      "Epoch 6/10\n",
      "Train loss: 0.1229 Train Accuracy: 0.9591\n",
      "Validation loss: 0.3989 Validation Accuracy: 0.8859 \n",
      "Epoch 7/10\n",
      "Train loss: 0.0778 Train Accuracy: 0.9747\n",
      "Validation loss: 0.3861 Validation Accuracy: 0.8953 \n",
      "New best model with validation accuracy: 0.8953\n",
      "Epoch 8/10\n",
      "Train loss: 0.0580 Train Accuracy: 0.9809\n",
      "Validation loss: 0.4151 Validation Accuracy: 0.8937 \n",
      "Epoch 9/10\n",
      "Train loss: 0.0519 Train Accuracy: 0.9829\n",
      "Validation loss: 0.4280 Validation Accuracy: 0.8951 \n",
      "Epoch 10/10\n",
      "Train loss: 0.0378 Train Accuracy: 0.9879\n",
      "Validation loss: 0.4371 Validation Accuracy: 0.8958 \n",
      "New best model with validation accuracy: 0.8958\n"
     ]
    },
    {
     "data": {
      "text/html": [],
      "text/plain": [
       "<IPython.core.display.HTML object>"
      ]
     },
     "metadata": {},
     "output_type": "display_data"
    },
    {
     "data": {
      "text/html": [
       "<br>    <style><br>        .wandb-row {<br>            display: flex;<br>            flex-direction: row;<br>            flex-wrap: wrap;<br>            justify-content: flex-start;<br>            width: 100%;<br>        }<br>        .wandb-col {<br>            display: flex;<br>            flex-direction: column;<br>            flex-basis: 100%;<br>            flex: 1;<br>            padding: 10px;<br>        }<br>    </style><br><div class=\"wandb-row\"><div class=\"wandb-col\"><h3>Run history:</h3><br/><table class=\"wandb\"><tr><td>epoch</td><td>▁▂▃▃▄▅▆▆▇█</td></tr><tr><td>train_acc</td><td>▁▅▆▇▇▇████</td></tr><tr><td>train_loss</td><td>█▃▃▂▂▂▁▁▁▁</td></tr><tr><td>val_acc</td><td>▁▄▅▆▆▆████</td></tr><tr><td>val_accuracy</td><td>▁</td></tr><tr><td>val_loss</td><td>▇▂▁▁▂▃▂▅▇█</td></tr></table><br/></div><div class=\"wandb-col\"><h3>Run summary:</h3><br/><table class=\"wandb\"><tr><td>epoch</td><td>9</td></tr><tr><td>train_acc</td><td>0.98789</td></tr><tr><td>train_loss</td><td>0.03782</td></tr><tr><td>val_acc</td><td>0.89576</td></tr><tr><td>val_accuracy</td><td>0.89576</td></tr><tr><td>val_loss</td><td>0.43707</td></tr></table><br/></div></div>"
      ],
      "text/plain": [
       "<IPython.core.display.HTML object>"
      ]
     },
     "metadata": {},
     "output_type": "display_data"
    },
    {
     "data": {
      "text/html": [
       " View run <strong style=\"color:#cdcd00\">GRU-e256-h512-enc2-dec2-d0.2-lr0.001-b128-beam5</strong> at: <a href='https://wandb.ai/da24m014-iit-madras/DLA3/runs/xqrcm2yk' target=\"_blank\">https://wandb.ai/da24m014-iit-madras/DLA3/runs/xqrcm2yk</a><br> View project at: <a href='https://wandb.ai/da24m014-iit-madras/DLA3' target=\"_blank\">https://wandb.ai/da24m014-iit-madras/DLA3</a><br>Synced 5 W&B file(s), 0 media file(s), 0 artifact file(s) and 0 other file(s)"
      ],
      "text/plain": [
       "<IPython.core.display.HTML object>"
      ]
     },
     "metadata": {},
     "output_type": "display_data"
    },
    {
     "data": {
      "text/html": [
       "Find logs at: <code>./wandb/run-20250520_085818-xqrcm2yk/logs</code>"
      ],
      "text/plain": [
       "<IPython.core.display.HTML object>"
      ]
     },
     "metadata": {},
     "output_type": "display_data"
    },
    {
     "name": "stderr",
     "output_type": "stream",
     "text": [
      "\u001b[34m\u001b[1mwandb\u001b[0m: Agent Starting Run: 9eq3wlre with config:\n",
      "\u001b[34m\u001b[1mwandb\u001b[0m: \tbatch_size: 128\n",
      "\u001b[34m\u001b[1mwandb\u001b[0m: \tbeam_size: 5\n",
      "\u001b[34m\u001b[1mwandb\u001b[0m: \tcell_type: GRU\n",
      "\u001b[34m\u001b[1mwandb\u001b[0m: \tdropout: 0.2\n",
      "\u001b[34m\u001b[1mwandb\u001b[0m: \tembed_dim: 128\n",
      "\u001b[34m\u001b[1mwandb\u001b[0m: \thidden_dim: 512\n",
      "\u001b[34m\u001b[1mwandb\u001b[0m: \tlearning_rate: 0.001\n",
      "\u001b[34m\u001b[1mwandb\u001b[0m: \tnum_layers: 1\n"
     ]
    },
    {
     "data": {
      "text/html": [
       "Tracking run with wandb version 0.19.9"
      ],
      "text/plain": [
       "<IPython.core.display.HTML object>"
      ]
     },
     "metadata": {},
     "output_type": "display_data"
    },
    {
     "data": {
      "text/html": [
       "Run data is saved locally in <code>/kaggle/working/wandb/run-20250520_091400-9eq3wlre</code>"
      ],
      "text/plain": [
       "<IPython.core.display.HTML object>"
      ]
     },
     "metadata": {},
     "output_type": "display_data"
    },
    {
     "data": {
      "text/html": [
       "Syncing run <strong><a href='https://wandb.ai/da24m014-iit-madras/DLA3/runs/9eq3wlre' target=\"_blank\">denim-sweep-20</a></strong> to <a href='https://wandb.ai/da24m014-iit-madras/DLA3' target=\"_blank\">Weights & Biases</a> (<a href='https://wandb.me/developer-guide' target=\"_blank\">docs</a>)<br>Sweep page: <a href='https://wandb.ai/da24m014-iit-madras/DLA3/sweeps/z8hzeqkz' target=\"_blank\">https://wandb.ai/da24m014-iit-madras/DLA3/sweeps/z8hzeqkz</a>"
      ],
      "text/plain": [
       "<IPython.core.display.HTML object>"
      ]
     },
     "metadata": {},
     "output_type": "display_data"
    },
    {
     "data": {
      "text/html": [
       " View project at <a href='https://wandb.ai/da24m014-iit-madras/DLA3' target=\"_blank\">https://wandb.ai/da24m014-iit-madras/DLA3</a>"
      ],
      "text/plain": [
       "<IPython.core.display.HTML object>"
      ]
     },
     "metadata": {},
     "output_type": "display_data"
    },
    {
     "data": {
      "text/html": [
       " View sweep at <a href='https://wandb.ai/da24m014-iit-madras/DLA3/sweeps/z8hzeqkz' target=\"_blank\">https://wandb.ai/da24m014-iit-madras/DLA3/sweeps/z8hzeqkz</a>"
      ],
      "text/plain": [
       "<IPython.core.display.HTML object>"
      ]
     },
     "metadata": {},
     "output_type": "display_data"
    },
    {
     "data": {
      "text/html": [
       " View run at <a href='https://wandb.ai/da24m014-iit-madras/DLA3/runs/9eq3wlre' target=\"_blank\">https://wandb.ai/da24m014-iit-madras/DLA3/runs/9eq3wlre</a>"
      ],
      "text/plain": [
       "<IPython.core.display.HTML object>"
      ]
     },
     "metadata": {},
     "output_type": "display_data"
    },
    {
     "name": "stdout",
     "output_type": "stream",
     "text": [
      "Loaded vocabularies: Source: 30, Target: 69\n",
      "Initialized model with attention: GRU, Encoder layers: 1, Decoder layers: 1, Embedding: 128, Hidden: 512\n",
      "Model created on CPU, trying to move to device...\n",
      "Model successfully moved to device.\n",
      "Loading datasets...\n",
      "Loaded 56303 records from /kaggle/input/dakshina/dakshina_dataset_v1.0/mr/lexicons/mr.translit.sampled.train.tsv\n",
      "Example pairs: [('angry', 'अँग्री'), ('aengeography', 'अँजिओग्राफी')]\n",
      "Loaded 5658 records from /kaggle/input/dakshina/dakshina_dataset_v1.0/mr/lexicons/mr.translit.sampled.dev.tsv\n",
      "Example pairs: [('aendarsanla', 'अँडरसनला'), ('andersonla', 'अँडरसनला')]\n",
      "Epoch 1/10\n"
     ]
    },
    {
     "name": "stderr",
     "output_type": "stream",
     "text": [
      "/usr/local/lib/python3.11/dist-packages/torch/optim/lr_scheduler.py:62: UserWarning: The verbose parameter is deprecated. Please use get_last_lr() to access the learning rate.\n",
      "  warnings.warn(\n"
     ]
    },
    {
     "name": "stdout",
     "output_type": "stream",
     "text": [
      "Train loss: 0.7747 Train Accuracy: 0.7681\n",
      "Validation loss: 0.4251 Validation Accuracy: 0.8578 \n",
      "New best model with validation accuracy: 0.8578\n",
      "Epoch 2/10\n",
      "Train loss: 0.2960 Train Accuracy: 0.9016\n",
      "Validation loss: 0.3903 Validation Accuracy: 0.8699 \n",
      "New best model with validation accuracy: 0.8699\n",
      "Epoch 3/10\n",
      "Train loss: 0.2184 Train Accuracy: 0.9280\n",
      "Validation loss: 0.3584 Validation Accuracy: 0.8840 \n",
      "New best model with validation accuracy: 0.8840\n",
      "Epoch 4/10\n",
      "Train loss: 0.1717 Train Accuracy: 0.9434\n",
      "Validation loss: 0.3635 Validation Accuracy: 0.8875 \n",
      "New best model with validation accuracy: 0.8875\n",
      "Epoch 5/10\n",
      "Train loss: 0.1383 Train Accuracy: 0.9548\n",
      "Validation loss: 0.3700 Validation Accuracy: 0.8887 \n",
      "New best model with validation accuracy: 0.8887\n",
      "Epoch 6/10\n",
      "Train loss: 0.1152 Train Accuracy: 0.9620\n",
      "Validation loss: 0.3889 Validation Accuracy: 0.8855 \n",
      "Epoch 7/10\n",
      "Train loss: 0.0733 Train Accuracy: 0.9763\n",
      "Validation loss: 0.3795 Validation Accuracy: 0.8929 \n",
      "New best model with validation accuracy: 0.8929\n",
      "Epoch 8/10\n",
      "Train loss: 0.0564 Train Accuracy: 0.9816\n",
      "Validation loss: 0.3886 Validation Accuracy: 0.8950 \n",
      "New best model with validation accuracy: 0.8950\n",
      "Epoch 9/10\n",
      "Train loss: 0.0496 Train Accuracy: 0.9838\n",
      "Validation loss: 0.4028 Validation Accuracy: 0.8948 \n",
      "Epoch 10/10\n",
      "Train loss: 0.0356 Train Accuracy: 0.9887\n",
      "Validation loss: 0.4121 Validation Accuracy: 0.8961 \n",
      "New best model with validation accuracy: 0.8961\n"
     ]
    },
    {
     "data": {
      "text/html": [],
      "text/plain": [
       "<IPython.core.display.HTML object>"
      ]
     },
     "metadata": {},
     "output_type": "display_data"
    },
    {
     "data": {
      "text/html": [
       "<br>    <style><br>        .wandb-row {<br>            display: flex;<br>            flex-direction: row;<br>            flex-wrap: wrap;<br>            justify-content: flex-start;<br>            width: 100%;<br>        }<br>        .wandb-col {<br>            display: flex;<br>            flex-direction: column;<br>            flex-basis: 100%;<br>            flex: 1;<br>            padding: 10px;<br>        }<br>    </style><br><div class=\"wandb-row\"><div class=\"wandb-col\"><h3>Run history:</h3><br/><table class=\"wandb\"><tr><td>epoch</td><td>▁▂▃▃▄▅▆▆▇█</td></tr><tr><td>train_acc</td><td>▁▅▆▇▇▇████</td></tr><tr><td>train_loss</td><td>█▃▃▂▂▂▁▁▁▁</td></tr><tr><td>val_acc</td><td>▁▃▆▆▇▆▇███</td></tr><tr><td>val_accuracy</td><td>▁</td></tr><tr><td>val_loss</td><td>█▄▁▂▂▄▃▄▆▇</td></tr></table><br/></div><div class=\"wandb-col\"><h3>Run summary:</h3><br/><table class=\"wandb\"><tr><td>epoch</td><td>9</td></tr><tr><td>train_acc</td><td>0.98866</td></tr><tr><td>train_loss</td><td>0.03558</td></tr><tr><td>val_acc</td><td>0.89612</td></tr><tr><td>val_accuracy</td><td>0.89612</td></tr><tr><td>val_loss</td><td>0.4121</td></tr></table><br/></div></div>"
      ],
      "text/plain": [
       "<IPython.core.display.HTML object>"
      ]
     },
     "metadata": {},
     "output_type": "display_data"
    },
    {
     "data": {
      "text/html": [
       " View run <strong style=\"color:#cdcd00\">GRU-e128-h512-enc1-dec1-d0.2-lr0.001-b128-beam5</strong> at: <a href='https://wandb.ai/da24m014-iit-madras/DLA3/runs/9eq3wlre' target=\"_blank\">https://wandb.ai/da24m014-iit-madras/DLA3/runs/9eq3wlre</a><br> View project at: <a href='https://wandb.ai/da24m014-iit-madras/DLA3' target=\"_blank\">https://wandb.ai/da24m014-iit-madras/DLA3</a><br>Synced 5 W&B file(s), 0 media file(s), 0 artifact file(s) and 0 other file(s)"
      ],
      "text/plain": [
       "<IPython.core.display.HTML object>"
      ]
     },
     "metadata": {},
     "output_type": "display_data"
    },
    {
     "data": {
      "text/html": [
       "Find logs at: <code>./wandb/run-20250520_091400-9eq3wlre/logs</code>"
      ],
      "text/plain": [
       "<IPython.core.display.HTML object>"
      ]
     },
     "metadata": {},
     "output_type": "display_data"
    }
   ],
   "source": [
    "wandb.login(key = \"d6f8c99f1fd73267470842bbf00f03ae845f7308\")\n",
    "sweep_id = wandb.sweep(sweep_config, project=\"DLA3\")\n",
    "wandb.agent(sweep_id, run_sweep_function, count=20)"
   ]
  },
  {
   "cell_type": "markdown",
   "metadata": {},
   "source": [
    "Testing"
   ]
  },
  {
   "cell_type": "code",
   "execution_count": 139,
   "metadata": {
    "execution": {
     "iopub.execute_input": "2025-05-20T11:25:20.380535Z",
     "iopub.status.busy": "2025-05-20T11:25:20.380258Z",
     "iopub.status.idle": "2025-05-20T11:25:20.385102Z",
     "shell.execute_reply": "2025-05-20T11:25:20.384335Z",
     "shell.execute_reply.started": "2025-05-20T11:25:20.380515Z"
    },
    "trusted": true
   },
   "outputs": [],
   "source": [
    "import torch\n",
    "import torch.nn as nn\n",
    "import pandas as pd\n",
    "import numpy as np\n",
    "import matplotlib.pyplot as plt\n",
    "import matplotlib.gridspec as gridspec\n",
    "import seaborn as sns\n",
    "import random\n",
    "from torch.utils.data import DataLoader\n",
    "import os\n",
    "from tqdm import tqdm\n",
    "import csv\n",
    "from IPython.display import display, HTML"
   ]
  },
  {
   "cell_type": "code",
   "execution_count": 140,
   "metadata": {
    "execution": {
     "iopub.execute_input": "2025-05-20T11:25:22.115491Z",
     "iopub.status.busy": "2025-05-20T11:25:22.115092Z",
     "iopub.status.idle": "2025-05-20T11:25:22.118899Z",
     "shell.execute_reply": "2025-05-20T11:25:22.118205Z",
     "shell.execute_reply.started": "2025-05-20T11:25:22.115471Z"
    },
    "trusted": true
   },
   "outputs": [],
   "source": [
    "path_test = \"/kaggle/input/dakshina/dakshina_dataset_v1.0/mr/lexicons/mr.translit.sampled.test.tsv\""
   ]
  },
  {
   "cell_type": "code",
   "execution_count": 141,
   "metadata": {
    "execution": {
     "iopub.execute_input": "2025-05-20T11:25:23.780144Z",
     "iopub.status.busy": "2025-05-20T11:25:23.779852Z",
     "iopub.status.idle": "2025-05-20T11:25:23.802734Z",
     "shell.execute_reply": "2025-05-20T11:25:23.801974Z",
     "shell.execute_reply.started": "2025-05-20T11:25:23.780125Z"
    },
    "trusted": true
   },
   "outputs": [
    {
     "name": "stdout",
     "output_type": "stream",
     "text": [
      "Loaded 5682 records from /kaggle/input/dakshina/dakshina_dataset_v1.0/mr/lexicons/mr.translit.sampled.test.tsv\n",
      "Example pairs: [('andarasan', 'अँडरसन'), ('andarasana', 'अँडरसन')]\n"
     ]
    }
   ],
   "source": [
    "test_dataset = TransliterationDataset(path_test, src_vocab, tgt_vocab)\n",
    "test_loader = DataLoader(test_dataset, batch_size=1)"
   ]
  },
  {
   "cell_type": "code",
   "execution_count": 142,
   "metadata": {
    "execution": {
     "iopub.execute_input": "2025-05-20T11:25:24.815745Z",
     "iopub.status.busy": "2025-05-20T11:25:24.815119Z",
     "iopub.status.idle": "2025-05-20T11:25:24.819245Z",
     "shell.execute_reply": "2025-05-20T11:25:24.818556Z",
     "shell.execute_reply.started": "2025-05-20T11:25:24.815723Z"
    },
    "trusted": true
   },
   "outputs": [],
   "source": [
    "import matplotlib.font_manager as fm\n",
    "import matplotlib.pyplot as plt\n",
    "\n",
    "font_path = \"/kaggle/input/marathi-font/AMS Aakash Regular.ttf\"\n",
    "marathi_font = fm.FontProperties(fname=font_path)"
   ]
  },
  {
   "cell_type": "code",
   "execution_count": 143,
   "metadata": {
    "execution": {
     "iopub.execute_input": "2025-05-20T11:25:26.355639Z",
     "iopub.status.busy": "2025-05-20T11:25:26.355369Z",
     "iopub.status.idle": "2025-05-20T11:25:26.360818Z",
     "shell.execute_reply": "2025-05-20T11:25:26.360092Z",
     "shell.execute_reply.started": "2025-05-20T11:25:26.355620Z"
    },
    "trusted": true
   },
   "outputs": [],
   "source": [
    "def decode_sequence_function(seq, char_vocab, end_token=3):\n",
    "    \"\"\"\n",
    "    Convert index sequence to character sequence\n",
    "    \n",
    "    Args:\n",
    "        seq: Sequence of indices\n",
    "        char_vocab: Dictionary mapping characters to indices\n",
    "        end_token: Token index representing end of sequence (default=2)\n",
    "        \n",
    "    Returns:\n",
    "        String of characters\n",
    "    \"\"\"\n",
    "    # Create inverse mapping (idx -> char)\n",
    "    idx_to_char = {idx: ch for ch, idx in char_vocab.items()}\n",
    "    \n",
    "    # Process sequence and stop at end token\n",
    "    result = []\n",
    "    has_end_token = False\n",
    "    \n",
    "    for idx in seq:\n",
    "        if idx == 0:  # Skip padding token\n",
    "            continue\n",
    "        if idx == end_token:  # Stop at end token\n",
    "            has_end_token = True\n",
    "            break\n",
    "        if idx in idx_to_char:\n",
    "            result.append(idx_to_char[idx])\n",
    "        else:\n",
    "            # Handle out-of-vocabulary tokens\n",
    "            result.append('<UNK>')\n",
    "    \n",
    "    # If no end token was found, use the entire sequence\n",
    "    # (this helps prevent truncated outputs)\n",
    "    decoded = ''.join(result)\n",
    "    \n",
    "    return decoded\n"
   ]
  },
  {
   "cell_type": "code",
   "execution_count": null,
   "metadata": {
    "execution": {
     "iopub.execute_input": "2025-05-20T11:25:27.581493Z",
     "iopub.status.busy": "2025-05-20T11:25:27.580789Z",
     "iopub.status.idle": "2025-05-20T11:25:27.590747Z",
     "shell.execute_reply": "2025-05-20T11:25:27.590157Z",
     "shell.execute_reply.started": "2025-05-20T11:25:27.581469Z"
    },
    "trusted": true
   },
   "outputs": [],
   "source": [
    "def visualize_attention_grid_function(samples, attention_weights, input_sequences, output_sequences, src_vocab, tgt_vocab, num_samples=9):\n",
    "    \"\"\"\n",
    "    Create a 3x3 grid of attention heatmaps for selected samples.\n",
    "    Returns:\n",
    "        fig: The matplotlib figure with the grid of heatmaps\n",
    "    \"\"\"\n",
    "    # Ensure we have only num_samples\n",
    "    samples = samples[:num_samples]\n",
    "    \n",
    "    # Create figure for the grid\n",
    "    fig = plt.figure(figsize=(15, 15))\n",
    "    gs = gridspec.GridSpec(3, 3)\n",
    "    \n",
    "    for i, idx in enumerate(samples):\n",
    "        try:\n",
    "            # Get data for this sample\n",
    "            input_seq = input_sequences[idx]\n",
    "            output_seq = output_sequences[idx]\n",
    "            attn = attention_weights[idx]\n",
    "            \n",
    "            # Decode sequences\n",
    "            input_str = decode_sequence_function(input_seq, src_vocab)[5:]  # Remove <sos>\n",
    "            output_str = decode_sequence_function(output_seq, tgt_vocab)\n",
    "            \n",
    "            # Create subplot\n",
    "            ax = plt.subplot(gs[i])\n",
    "            \n",
    "            # Ensure attention matrix has correct dimensions\n",
    "            attn_np = attn[:len(output_str), :len(input_str)].cpu().numpy()\n",
    "            \n",
    "            # Plot heatmap\n",
    "            hm = sns.heatmap(attn_np, cmap=\"YlGnBu\", ax=ax)\n",
    "            \n",
    "            # Fix the tick labels issue by explicitly setting ticks and then labels\n",
    "            # Set x-axis ticks and labels\n",
    "            num_input_chars = len(input_str)\n",
    "            ax.set_xticks(np.arange(num_input_chars) + 0.5)\n",
    "            ax.set_xticklabels(list(input_str))\n",
    "            \n",
    "            # Set y-axis ticks and labels\n",
    "            num_output_chars = len(output_str)\n",
    "            ax.set_yticks(np.arange(num_output_chars) + 0.5)\n",
    "            ax.set_yticklabels(list(output_str), fontproperties=marathi_font)\n",
    "            \n",
    "            ax.set_xlabel('Input Sequence')\n",
    "            ax.set_ylabel('Output Sequence')\n",
    "            \n",
    "            # Set title with input→output - use marathi_font for consistent font handling\n",
    "            ax.set_title(f\"Input:{input_str} Output:{output_str}\", fontproperties=marathi_font)\n",
    "        except Exception as e:\n",
    "            print(f\"Error processing sample {idx}: {e}\")\n",
    "            # Create an empty subplot with an error message\n",
    "            ax = plt.subplot(gs[i])\n",
    "            ax.text(0.5, 0.5, f\"Error: {str(e)}\", ha='center', va='center')\n",
    "            ax.axis('off')\n",
    "    \n",
    "    plt.tight_layout()\n",
    "    try:\n",
    "        plt.savefig(\"attention_heatmaps_grid.png\", dpi=300, bbox_inches=\"tight\")\n",
    "    except Exception as e:\n",
    "        print(f\"Warning: Could not save attention heatmap: {e}\")\n",
    "    return fig\n"
   ]
  },
  {
   "cell_type": "code",
   "execution_count": null,
   "metadata": {
    "execution": {
     "iopub.execute_input": "2025-05-20T11:25:30.345943Z",
     "iopub.status.busy": "2025-05-20T11:25:30.345248Z",
     "iopub.status.idle": "2025-05-20T11:25:30.359205Z",
     "shell.execute_reply": "2025-05-20T11:25:30.358513Z",
     "shell.execute_reply.started": "2025-05-20T11:25:30.345896Z"
    },
    "trusted": true
   },
   "outputs": [],
   "source": [
    "def validate_model(model, test_loader, src_vocab, tgt_vocab, device, \n",
    "                                      end_token=3, unk_token=1, output_file=\"predictions_attention.csv\",\n",
    "                                      save_visualizations=True, num_samples_to_visualize=9):\n",
    "    \"\"\"\n",
    "    Evaluate model on test set and save results to CSV with attention visualizations\n",
    "    Returns:\n",
    "        Tuple containing accuracy, results, and visualization data\n",
    "    \"\"\"\n",
    "    model.eval()\n",
    "    \n",
    "    results = []\n",
    "    all_attention_weights = []\n",
    "    all_input_seqs = []\n",
    "    all_output_seqs = []\n",
    "    all_predicted_seqs = []\n",
    "    \n",
    "    with torch.no_grad():\n",
    "        try:\n",
    "            with open(output_file, 'w', newline='', encoding='utf-8') as csvfile:\n",
    "                writer = csv.writer(csvfile)\n",
    "                writer.writerow(['input', 'prediction', 'target'])\n",
    "                \n",
    "                for batch in tqdm(test_loader, desc=\"Evaluating\"):\n",
    "                    src, tgt = batch\n",
    "                    src, tgt = src.to(device), tgt.to(device)\n",
    "                    \n",
    "                    # Forward pass with attention collection\n",
    "                    output, attention = model.inference_function(src)\n",
    "                    \n",
    "                    # Process each sequence in the batch\n",
    "                    for i in range(src.size(0)):\n",
    "                        src_seq = src[i].cpu().numpy()\n",
    "                        \n",
    "                        # If tgt starts with UNK token (used instead of SOS), skip it\n",
    "                        if tgt[i, 0].item() == unk_token:\n",
    "                            tgt_seq = tgt[i, 1:].cpu().numpy()  # Skip UNK token\n",
    "                        else:\n",
    "                            tgt_seq = tgt[i].cpu().numpy()  # Use entire sequence\n",
    "                        \n",
    "                        pred_seq = output[i].cpu().numpy()\n",
    "                        attn_weights = attention[i].cpu()  # Extract attention for this sample\n",
    "                        \n",
    "                        # Convert sequences to strings (exclude the sos in the beginning)\n",
    "                        src_str = decode_sequence_function(src_seq, src_vocab, end_token)\n",
    "                        tgt_str = decode_sequence_function(tgt_seq, tgt_vocab, end_token)\n",
    "                        pred_str = decode_sequence_function(pred_seq, tgt_vocab, end_token)\n",
    "                        \n",
    "                        # Check correctness\n",
    "                        correct = pred_str == tgt_str[5:]\n",
    "                        \n",
    "                        # Save to CSV\n",
    "                        writer.writerow([\n",
    "                            src_str[5:], \n",
    "                            pred_str, \n",
    "                            tgt_str[5:]\n",
    "                        ])\n",
    "                        \n",
    "                        # Save for visualization\n",
    "                        results.append({\n",
    "                            'input': src_str[5:],\n",
    "                            'prediction': pred_str,\n",
    "                            'target': tgt_str[5:],\n",
    "                            'correct': correct\n",
    "                        })\n",
    "                        \n",
    "                        # Save attention weights and sequences for visualization\n",
    "                        all_attention_weights.append(attn_weights)\n",
    "                        all_input_seqs.append(src_seq)\n",
    "                        all_output_seqs.append(pred_seq)\n",
    "                        all_predicted_seqs.append(pred_seq)\n",
    "        except Exception as e:\n",
    "            print(f\"Error writing to CSV file: {e}\")\n",
    "    \n",
    "    # Calculate overall accuracy\n",
    "    accuracy = sum(1 for r in results if r['correct']) / len(results) if results else 0\n",
    "    print(f\"Overall Word Accuracy: {accuracy:.4f}\")\n",
    "    \n",
    "    # Select samples for visualization (mix of correct and incorrect predictions)\n",
    "    correct_samples = [i for i, r in enumerate(results) if r['correct']]\n",
    "    incorrect_samples = [i for i, r in enumerate(results) if not r['correct']]\n",
    "    \n",
    "    # Choose samples to visualize\n",
    "    samples_to_visualize = []\n",
    "    \n",
    "    try:\n",
    "        # Try to get a balance of correct and incorrect samples\n",
    "        if len(correct_samples) >= num_samples_to_visualize // 2:\n",
    "            samples_to_visualize.extend(np.random.choice(correct_samples, num_samples_to_visualize // 2, replace=False))\n",
    "        else:\n",
    "            samples_to_visualize.extend(correct_samples)\n",
    "        \n",
    "        remaining_samples = num_samples_to_visualize - len(samples_to_visualize)\n",
    "        if len(incorrect_samples) >= remaining_samples:\n",
    "            samples_to_visualize.extend(np.random.choice(incorrect_samples, remaining_samples, replace=False))\n",
    "        else:\n",
    "            samples_to_visualize.extend(incorrect_samples)\n",
    "            # If we still need more samples, take from correct ones\n",
    "            if len(samples_to_visualize) < num_samples_to_visualize and len(correct_samples) > num_samples_to_visualize // 2:\n",
    "                additional_correct = np.random.choice(\n",
    "                    [i for i in correct_samples if i not in samples_to_visualize],\n",
    "                    num_samples_to_visualize - len(samples_to_visualize),\n",
    "                    replace=False\n",
    "                )\n",
    "                samples_to_visualize.extend(additional_correct)\n",
    "    except Exception as e:\n",
    "        print(f\"Error selecting samples to visualize: {e}\")\n",
    "        # If there's an error selecting samples, just take the first few samples\n",
    "        samples_to_visualize = list(range(min(num_samples_to_visualize, len(results))))\n",
    "    \n",
    "    # If we have samples to visualize, create visualizations\n",
    "    if save_visualizations and samples_to_visualize:\n",
    "        print(f\"Creating visualizations for {len(samples_to_visualize)} samples...\")\n",
    "        \n",
    "        try:\n",
    "            # Generate attention heatmap grid\n",
    "            visualize_attention_grid_function(\n",
    "                samples_to_visualize, \n",
    "                all_attention_weights, \n",
    "                all_input_seqs, \n",
    "                all_predicted_seqs,\n",
    "                src_vocab, \n",
    "                tgt_vocab\n",
    "            )\n",
    "            \n",
    "            # Generate connectivity visualization grid\n",
    "            connectivity_visualization_grid_function(\n",
    "                samples_to_visualize, \n",
    "                all_attention_weights, \n",
    "                all_input_seqs, \n",
    "                all_predicted_seqs,\n",
    "                src_vocab, \n",
    "                tgt_vocab\n",
    "            )\n",
    "            \n",
    "            print(\"Visualizations saved.\")\n",
    "        except Exception as e:\n",
    "            print(f\"Error creating visualizations: {e}\")\n",
    "    \n",
    "    return accuracy, results, samples_to_visualize, all_attention_weights, all_input_seqs, all_predicted_seqs\n"
   ]
  },
  {
   "cell_type": "code",
   "execution_count": 147,
   "metadata": {
    "execution": {
     "iopub.execute_input": "2025-05-20T11:25:33.981442Z",
     "iopub.status.busy": "2025-05-20T11:25:33.980763Z",
     "iopub.status.idle": "2025-05-20T11:25:33.986942Z",
     "shell.execute_reply": "2025-05-20T11:25:33.986156Z",
     "shell.execute_reply.started": "2025-05-20T11:25:33.981417Z"
    },
    "trusted": true
   },
   "outputs": [],
   "source": [
    "def visualize_errors_function(results, n_samples=10):\n",
    "    \"\"\"\n",
    "    Visualize character-level errors for random samples\n",
    "    \"\"\"\n",
    "    # Sample random results (prioritize some incorrect ones)\n",
    "    incorrect_samples = [r for r in results if not r['correct']]\n",
    "    correct_samples = [r for r in results if r['correct']]\n",
    "\n",
    "    if len(incorrect_samples) > 0 and len(correct_samples) > 0:\n",
    "        # Try to get a mix of correct and incorrect samples\n",
    "        n_incorrect = min(n_samples // 2, len(incorrect_samples))\n",
    "        n_correct = n_samples - n_incorrect\n",
    "\n",
    "        samples = (random.sample(incorrect_samples, n_incorrect) + \n",
    "                  random.sample(correct_samples, min(n_correct, len(correct_samples))))\n",
    "    else:\n",
    "        # If all samples are correct or incorrect, just sample randomly\n",
    "        samples = random.sample(results, min(n_samples, len(results)))\n",
    "\n",
    "    html_output = \"<h2>Character-level Error Visualization</h2>\"\n",
    "    html_output += \"<p>Green: Correct characters, Red: Incorrect characters</p>\"\n",
    "\n",
    "    for i, sample in enumerate(samples):\n",
    "        html_output += f\"<h3>Sample {i+1}</h3>\"\n",
    "        html_output += generate_char_comparison_html_function(\n",
    "            sample['input'], \n",
    "            sample['prediction'], \n",
    "            sample['target']\n",
    "        )\n",
    "        html_output += \"<hr>\"\n",
    "\n",
    "    return HTML(html_output)\n"
   ]
  },
  {
   "cell_type": "code",
   "execution_count": 148,
   "metadata": {
    "execution": {
     "iopub.execute_input": "2025-05-20T11:25:35.445825Z",
     "iopub.status.busy": "2025-05-20T11:25:35.445219Z",
     "iopub.status.idle": "2025-05-20T11:25:35.450351Z",
     "shell.execute_reply": "2025-05-20T11:25:35.449567Z",
     "shell.execute_reply.started": "2025-05-20T11:25:35.445805Z"
    },
    "trusted": true
   },
   "outputs": [],
   "source": [
    "def generate_char_comparison_html_function(input_str, pred_str, target_str):\n",
    "    \"\"\"\n",
    "    Generate HTML with character-by-character comparison\n",
    "    \"\"\"\n",
    "    html = f\"<p><b>Input:</b> {input_str}</p>\"\n",
    "\n",
    "    html += \"<p><b>Prediction vs Target:</b> \"\n",
    "\n",
    "    # Extend the shorter string with spaces to match the longer one\n",
    "    max_len = max(len(pred_str), len(target_str))\n",
    "    pred_str_padded = pred_str.ljust(max_len)\n",
    "    target_str_padded = target_str.ljust(max_len)\n",
    "\n",
    "    for p_char, t_char in zip(pred_str_padded, target_str_padded):\n",
    "        if p_char == t_char:\n",
    "            html += f'<span style=\"color:green\">{p_char}</span>'\n",
    "        else:\n",
    "            html += f'<span style=\"color:red\">{p_char}</span>'\n",
    "\n",
    "    html += \"</p>\"\n",
    "\n",
    "    html += f\"<p><b>Target:</b> {target_str}</p>\"\n",
    "\n",
    "    return html\n"
   ]
  },
  {
   "cell_type": "code",
   "execution_count": 149,
   "metadata": {
    "execution": {
     "iopub.execute_input": "2025-05-20T11:25:37.326387Z",
     "iopub.status.busy": "2025-05-20T11:25:37.325831Z",
     "iopub.status.idle": "2025-05-20T11:25:37.569849Z",
     "shell.execute_reply": "2025-05-20T11:25:37.569345Z",
     "shell.execute_reply.started": "2025-05-20T11:25:37.326363Z"
    },
    "trusted": true
   },
   "outputs": [
    {
     "name": "stderr",
     "output_type": "stream",
     "text": [
      "\u001b[34m\u001b[1mwandb\u001b[0m: Sorting runs by -summary_metrics.val_accuracy\n"
     ]
    }
   ],
   "source": [
    "api = wandb.Api()\n",
    "sweep = api.sweep(\"da24m014-iit-madras/DLA3/sweeps/z8hzeqkz\")\n",
    "best_run = sweep.best_run()\n",
    "best_run_config = best_run.config"
   ]
  },
  {
   "cell_type": "code",
   "execution_count": 150,
   "metadata": {
    "execution": {
     "iopub.execute_input": "2025-05-20T11:25:38.795336Z",
     "iopub.status.busy": "2025-05-20T11:25:38.795075Z",
     "iopub.status.idle": "2025-05-20T11:25:38.800019Z",
     "shell.execute_reply": "2025-05-20T11:25:38.799145Z",
     "shell.execute_reply.started": "2025-05-20T11:25:38.795318Z"
    },
    "trusted": true
   },
   "outputs": [
    {
     "data": {
      "text/plain": [
       "{'dropout': 0.2,\n",
       " 'beam_size': 5,\n",
       " 'cell_type': 'GRU',\n",
       " 'embed_dim': 256,\n",
       " 'batch_size': 128,\n",
       " 'hidden_dim': 512,\n",
       " 'num_layers': 2,\n",
       " 'learning_rate': 0.001}"
      ]
     },
     "execution_count": 150,
     "metadata": {},
     "output_type": "execute_result"
    }
   ],
   "source": [
    "best_run_config"
   ]
  },
  {
   "cell_type": "code",
   "execution_count": 151,
   "metadata": {
    "execution": {
     "iopub.execute_input": "2025-05-20T11:25:40.301667Z",
     "iopub.status.busy": "2025-05-20T11:25:40.300968Z",
     "iopub.status.idle": "2025-05-20T11:25:40.309858Z",
     "shell.execute_reply": "2025-05-20T11:25:40.309187Z",
     "shell.execute_reply.started": "2025-05-20T11:25:40.301642Z"
    },
    "trusted": true
   },
   "outputs": [],
   "source": [
    "def test_seq2seq_model(config=None):\n",
    "    # Assuming wandb is imported elsewhere\n",
    "    run = wandb.init(config=config, project=\"DLA3\")\n",
    "    cfg = run.config\n",
    "    epochs = 5\n",
    "    device = torch.device('cuda' if torch.cuda.is_available() else 'cpu')\n",
    "        \n",
    "    run.name = \"Testing with Attention\"\n",
    "\n",
    "    # First create on CPU\n",
    "    # Assuming Seq2SeqWithAttention is defined elsewhere\n",
    "    model = Seq2SeqWithAttention(cfg, len(src_vocab), len(tgt_vocab))\n",
    "    print(\"Model created on CPU, trying to move to device...\")\n",
    "    # Then try to move to target device\n",
    "    model = model.to(device)\n",
    "    print(\"Model successfully moved to device.\")\n",
    "        \n",
    "    print(\"Loading datasets...\")\n",
    "    # Assuming TransliterationDataset and path_train, path_dev are defined elsewhere\n",
    "    train_dataset = TransliterationDataset(path_train, src_vocab, tgt_vocab)\n",
    "    dev_dataset = TransliterationDataset(path_dev, src_vocab, tgt_vocab)\n",
    "            \n",
    "    # Create data loaders\n",
    "    train_loader = DataLoader(train_dataset, batch_size=cfg.batch_size, shuffle=True)\n",
    "    dev_loader = DataLoader(dev_dataset, batch_size=cfg.batch_size)\n",
    "        \n",
    "    # Assuming optim is imported elsewhere\n",
    "    criterion = nn.CrossEntropyLoss(ignore_index=0)  # 0 is padding index\n",
    "    optimizer = optim.Adam(model.parameters(), lr=cfg.learning_rate)\n",
    "    best_val_acc = 0.0\n",
    "    \n",
    "    for epoch in range(epochs):\n",
    "        print(f\"Epoch {epoch+1}/{epochs}\")\n",
    "                \n",
    "        # Training\n",
    "        # Assuming run_epoch_function is defined elsewhere\n",
    "        train_loss, train_acc = run_epoch_function(model, train_loader, criterion, optimizer, device)\n",
    "        print(f\"Train loss: {train_loss:.4f} Train Accuracy: {train_acc:.4f}\")\n",
    "                \n",
    "        # Validation\n",
    "        # Assuming validate_model1 is defined elsewhere\n",
    "        val_loss, val_acc = validate_model1(model, dev_loader, criterion, device)\n",
    "        print(f\"Validation loss: {val_loss:.4f} Val Accuracy: {val_acc:.4f}\")\n",
    "                \n",
    "        # Log metrics\n",
    "        wandb.log({'train_loss': train_loss, 'val_loss': val_loss, 'train_acc': train_acc, 'val_acc': val_acc, 'epoch': epoch})\n",
    "        if best_val_acc < val_acc:\n",
    "            best_val_acc = val_acc\n",
    "            torch.save(model.state_dict(), 'model.pth')\n",
    "    \n",
    "    try:\n",
    "        test_acc, results, samples_to_visualize, all_attention_weights, all_input_seqs, all_predicted_seqs = validate_model(\n",
    "            model, test_loader, src_vocab, tgt_vocab, device\n",
    "        )\n",
    "        wandb.log({'Test_acc':test_acc})\n",
    "        \n",
    "        # Save attention visualizations to WandB\n",
    "        try:\n",
    "            # Check if visualization files exist\n",
    "            if os.path.exists(\"attention_heatmaps_grid.png\"):\n",
    "                wandb.log({\"attention_heatmaps\": wandb.Image(\"attention_heatmaps_grid.png\")})\n",
    "            \n",
    "            if os.path.exists(\"connectivity_visualizations_grid.png\"):\n",
    "                wandb.log({\"connectivity_visualizations\": wandb.Image(\"connectivity_visualizations_grid.png\")})\n",
    "        except Exception as e:\n",
    "            print(f\"Error logging visualizations to WandB: {e}\")\n",
    "            \n",
    "        display(visualize_errors_function(results, n_samples=10))\n",
    "    except Exception as e:\n",
    "        print(f\"Error during model validation: {e}\")"
   ]
  },
  {
   "cell_type": "code",
   "execution_count": 152,
   "metadata": {
    "execution": {
     "iopub.execute_input": "2025-05-20T11:25:42.375987Z",
     "iopub.status.busy": "2025-05-20T11:25:42.375412Z",
     "iopub.status.idle": "2025-05-20T11:33:01.176824Z",
     "shell.execute_reply": "2025-05-20T11:33:01.175972Z",
     "shell.execute_reply.started": "2025-05-20T11:25:42.375964Z"
    },
    "trusted": true
   },
   "outputs": [
    {
     "data": {
      "text/html": [
       "Changes to your `wandb` environment variables will be ignored because your `wandb` session has already started. For more information on how to modify your settings with `wandb.init()` arguments, please refer to <a href='https://wandb.me/wandb-init' target=\"_blank\">the W&B docs</a>."
      ],
      "text/plain": [
       "<IPython.core.display.HTML object>"
      ]
     },
     "metadata": {},
     "output_type": "display_data"
    },
    {
     "data": {
      "text/html": [
       "Ignoring project 'DLA3' when running a sweep."
      ],
      "text/plain": [
       "<IPython.core.display.HTML object>"
      ]
     },
     "metadata": {},
     "output_type": "display_data"
    },
    {
     "data": {
      "text/html": [],
      "text/plain": [
       "<IPython.core.display.HTML object>"
      ]
     },
     "metadata": {},
     "output_type": "display_data"
    },
    {
     "data": {
      "text/html": [
       "<br>    <style><br>        .wandb-row {<br>            display: flex;<br>            flex-direction: row;<br>            flex-wrap: wrap;<br>            justify-content: flex-start;<br>            width: 100%;<br>        }<br>        .wandb-col {<br>            display: flex;<br>            flex-direction: column;<br>            flex-basis: 100%;<br>            flex: 1;<br>            padding: 10px;<br>        }<br>    </style><br><div class=\"wandb-row\"><div class=\"wandb-col\"><h3>Run history:</h3><br/><table class=\"wandb\"><tr><td>epoch</td><td>▁▃▅▆█</td></tr><tr><td>train_acc</td><td>▁▆▇██</td></tr><tr><td>train_loss</td><td>█▃▂▁▁</td></tr><tr><td>val_acc</td><td>▁▆▇██</td></tr><tr><td>val_loss</td><td>█▂▁▂▂</td></tr></table><br/></div><div class=\"wandb-col\"><h3>Run summary:</h3><br/><table class=\"wandb\"><tr><td>epoch</td><td>4</td></tr><tr><td>train_acc</td><td>0.95328</td></tr><tr><td>train_loss</td><td>0.14201</td></tr><tr><td>val_acc</td><td>0.8828</td></tr><tr><td>val_loss</td><td>0.38139</td></tr></table><br/></div></div>"
      ],
      "text/plain": [
       "<IPython.core.display.HTML object>"
      ]
     },
     "metadata": {},
     "output_type": "display_data"
    },
    {
     "data": {
      "text/html": [
       " View run <strong style=\"color:#cdcd00\">Testing with Attention</strong> at: <a href='https://wandb.ai/da24m014-iit-madras/DLA3/runs/9eq3wlre' target=\"_blank\">https://wandb.ai/da24m014-iit-madras/DLA3/runs/9eq3wlre</a><br> View project at: <a href='https://wandb.ai/da24m014-iit-madras/DLA3' target=\"_blank\">https://wandb.ai/da24m014-iit-madras/DLA3</a><br>Synced 5 W&B file(s), 0 media file(s), 0 artifact file(s) and 0 other file(s)"
      ],
      "text/plain": [
       "<IPython.core.display.HTML object>"
      ]
     },
     "metadata": {},
     "output_type": "display_data"
    },
    {
     "data": {
      "text/html": [
       "Find logs at: <code>./wandb/run-20250520_110956-9eq3wlre/logs</code>"
      ],
      "text/plain": [
       "<IPython.core.display.HTML object>"
      ]
     },
     "metadata": {},
     "output_type": "display_data"
    },
    {
     "data": {
      "text/html": [
       "Tracking run with wandb version 0.19.9"
      ],
      "text/plain": [
       "<IPython.core.display.HTML object>"
      ]
     },
     "metadata": {},
     "output_type": "display_data"
    },
    {
     "data": {
      "text/html": [
       "Run data is saved locally in <code>/kaggle/working/wandb/run-20250520_112542-9eq3wlre</code>"
      ],
      "text/plain": [
       "<IPython.core.display.HTML object>"
      ]
     },
     "metadata": {},
     "output_type": "display_data"
    },
    {
     "data": {
      "text/html": [
       "Syncing run <strong><a href='https://wandb.ai/da24m014-iit-madras/DLA3/runs/9eq3wlre' target=\"_blank\">Testing with Attention</a></strong> to <a href='https://wandb.ai/da24m014-iit-madras/DLA3' target=\"_blank\">Weights & Biases</a> (<a href='https://wandb.me/developer-guide' target=\"_blank\">docs</a>)<br>Sweep page: <a href='https://wandb.ai/da24m014-iit-madras/DLA3/sweeps/z8hzeqkz' target=\"_blank\">https://wandb.ai/da24m014-iit-madras/DLA3/sweeps/z8hzeqkz</a>"
      ],
      "text/plain": [
       "<IPython.core.display.HTML object>"
      ]
     },
     "metadata": {},
     "output_type": "display_data"
    },
    {
     "data": {
      "text/html": [
       " View project at <a href='https://wandb.ai/da24m014-iit-madras/DLA3' target=\"_blank\">https://wandb.ai/da24m014-iit-madras/DLA3</a>"
      ],
      "text/plain": [
       "<IPython.core.display.HTML object>"
      ]
     },
     "metadata": {},
     "output_type": "display_data"
    },
    {
     "data": {
      "text/html": [
       " View sweep at <a href='https://wandb.ai/da24m014-iit-madras/DLA3/sweeps/z8hzeqkz' target=\"_blank\">https://wandb.ai/da24m014-iit-madras/DLA3/sweeps/z8hzeqkz</a>"
      ],
      "text/plain": [
       "<IPython.core.display.HTML object>"
      ]
     },
     "metadata": {},
     "output_type": "display_data"
    },
    {
     "data": {
      "text/html": [
       " View run at <a href='https://wandb.ai/da24m014-iit-madras/DLA3/runs/9eq3wlre' target=\"_blank\">https://wandb.ai/da24m014-iit-madras/DLA3/runs/9eq3wlre</a>"
      ],
      "text/plain": [
       "<IPython.core.display.HTML object>"
      ]
     },
     "metadata": {},
     "output_type": "display_data"
    },
    {
     "name": "stdout",
     "output_type": "stream",
     "text": [
      "Initialized model with attention: GRU, Encoder layers: 1, Decoder layers: 1, Embedding: 128, Hidden: 512\n",
      "Model created on CPU, trying to move to device...\n",
      "Model successfully moved to device.\n",
      "Loading datasets...\n",
      "Loaded 56303 records from /kaggle/input/dakshina/dakshina_dataset_v1.0/mr/lexicons/mr.translit.sampled.train.tsv\n",
      "Example pairs: [('angry', 'अँग्री'), ('aengeography', 'अँजिओग्राफी')]\n",
      "Loaded 5658 records from /kaggle/input/dakshina/dakshina_dataset_v1.0/mr/lexicons/mr.translit.sampled.dev.tsv\n",
      "Example pairs: [('aendarsanla', 'अँडरसनला'), ('andersonla', 'अँडरसनला')]\n",
      "Epoch 1/5\n",
      "Train loss: 0.7719 Train Accuracy: 0.7687\n",
      "Validation loss: 0.4347 Val Accuracy: 0.8556\n",
      "Epoch 2/5\n",
      "Train loss: 0.2996 Train Accuracy: 0.9017\n",
      "Validation loss: 0.3785 Val Accuracy: 0.8718\n",
      "Epoch 3/5\n",
      "Train loss: 0.2204 Train Accuracy: 0.9276\n",
      "Validation loss: 0.3675 Val Accuracy: 0.8823\n",
      "Epoch 4/5\n",
      "Train loss: 0.1721 Train Accuracy: 0.9438\n",
      "Validation loss: 0.3771 Val Accuracy: 0.8816\n",
      "Epoch 5/5\n",
      "Train loss: 0.1405 Train Accuracy: 0.9543\n",
      "Validation loss: 0.3812 Val Accuracy: 0.8846\n"
     ]
    },
    {
     "name": "stderr",
     "output_type": "stream",
     "text": [
      "Evaluating:  86%|████████▋ | 4905/5682 [00:38<00:06, 118.99it/s]/usr/local/lib/python3.11/dist-packages/seaborn/utils.py:80: UserWarning: Glyph 2309 (\\N{DEVANAGARI LETTER A}) missing from current font.\n",
      "  fig.canvas.draw()\n",
      "/usr/local/lib/python3.11/dist-packages/seaborn/utils.py:80: UserWarning: Glyph 2337 (\\N{DEVANAGARI LETTER DDA}) missing from current font.\n",
      "  fig.canvas.draw()\n",
      "/usr/local/lib/python3.11/dist-packages/seaborn/utils.py:80: UserWarning: Glyph 2339 (\\N{DEVANAGARI LETTER NNA}) missing from current font.\n",
      "  fig.canvas.draw()\n",
      "/usr/local/lib/python3.11/dist-packages/seaborn/utils.py:80: UserWarning: Glyph 2352 (\\N{DEVANAGARI LETTER RA}) missing from current font.\n",
      "  fig.canvas.draw()\n",
      "/usr/local/lib/python3.11/dist-packages/seaborn/utils.py:80: UserWarning: Glyph 2360 (\\N{DEVANAGARI LETTER SA}) missing from current font.\n",
      "  fig.canvas.draw()\n",
      "/usr/local/lib/python3.11/dist-packages/seaborn/utils.py:80: UserWarning: Glyph 2368 (\\N{DEVANAGARI VOWEL SIGN II}) missing from current font.\n",
      "  fig.canvas.draw()\n",
      "/usr/local/lib/python3.11/dist-packages/seaborn/utils.py:80: UserWarning: Glyph 2310 (\\N{DEVANAGARI LETTER AA}) missing from current font.\n",
      "  fig.canvas.draw()\n",
      "/usr/local/lib/python3.11/dist-packages/seaborn/utils.py:80: UserWarning: Glyph 2332 (\\N{DEVANAGARI LETTER JA}) missing from current font.\n",
      "  fig.canvas.draw()\n",
      "/usr/local/lib/python3.11/dist-packages/seaborn/utils.py:80: UserWarning: Glyph 2370 (\\N{DEVANAGARI VOWEL SIGN UU}) missing from current font.\n",
      "  fig.canvas.draw()\n",
      "/usr/local/lib/python3.11/dist-packages/seaborn/utils.py:80: UserWarning: Glyph 2348 (\\N{DEVANAGARI LETTER BA}) missing from current font.\n",
      "  fig.canvas.draw()\n",
      "/usr/local/lib/python3.11/dist-packages/seaborn/utils.py:80: UserWarning: Glyph 2354 (\\N{DEVANAGARI LETTER LA}) missing from current font.\n",
      "  fig.canvas.draw()\n",
      "/usr/local/lib/python3.11/dist-packages/seaborn/utils.py:80: UserWarning: Glyph 2325 (\\N{DEVANAGARI LETTER KA}) missing from current font.\n",
      "  fig.canvas.draw()\n",
      "/usr/local/lib/python3.11/dist-packages/seaborn/utils.py:80: UserWarning: Matplotlib currently does not support Devanagari natively.\n",
      "  fig.canvas.draw()\n",
      "/usr/local/lib/python3.11/dist-packages/seaborn/utils.py:80: UserWarning: Glyph 2359 (\\N{DEVANAGARI LETTER SSA}) missing from current font.\n",
      "  fig.canvas.draw()\n",
      "/usr/local/lib/python3.11/dist-packages/seaborn/utils.py:80: UserWarning: Glyph 2381 (\\N{DEVANAGARI SIGN VIRAMA}) missing from current font.\n",
      "  fig.canvas.draw()\n",
      "/usr/local/lib/python3.11/dist-packages/seaborn/utils.py:80: UserWarning: Glyph 2335 (\\N{DEVANAGARI LETTER TTA}) missing from current font.\n",
      "  fig.canvas.draw()\n",
      "/usr/local/lib/python3.11/dist-packages/seaborn/utils.py:80: UserWarning: Glyph 2366 (\\N{DEVANAGARI VOWEL SIGN AA}) missing from current font.\n",
      "  fig.canvas.draw()\n",
      "/usr/local/lib/python3.11/dist-packages/seaborn/utils.py:80: UserWarning: Glyph 2330 (\\N{DEVANAGARI LETTER CA}) missing from current font.\n",
      "  fig.canvas.draw()\n",
      "/usr/local/lib/python3.11/dist-packages/seaborn/utils.py:80: UserWarning: Glyph 2375 (\\N{DEVANAGARI VOWEL SIGN E}) missing from current font.\n",
      "  fig.canvas.draw()\n",
      "/usr/local/lib/python3.11/dist-packages/seaborn/utils.py:80: UserWarning: Glyph 2309 (\\N{DEVANAGARI LETTER A}) missing from current font.\n",
      "  fig.canvas.draw()\n",
      "/usr/local/lib/python3.11/dist-packages/seaborn/utils.py:80: UserWarning: Glyph 2337 (\\N{DEVANAGARI LETTER DDA}) missing from current font.\n",
      "  fig.canvas.draw()\n",
      "/usr/local/lib/python3.11/dist-packages/seaborn/utils.py:80: UserWarning: Glyph 2339 (\\N{DEVANAGARI LETTER NNA}) missing from current font.\n",
      "  fig.canvas.draw()\n",
      "/usr/local/lib/python3.11/dist-packages/seaborn/utils.py:80: UserWarning: Glyph 2352 (\\N{DEVANAGARI LETTER RA}) missing from current font.\n",
      "  fig.canvas.draw()\n",
      "/usr/local/lib/python3.11/dist-packages/seaborn/utils.py:80: UserWarning: Glyph 2360 (\\N{DEVANAGARI LETTER SA}) missing from current font.\n",
      "  fig.canvas.draw()\n",
      "/usr/local/lib/python3.11/dist-packages/seaborn/utils.py:80: UserWarning: Glyph 2368 (\\N{DEVANAGARI VOWEL SIGN II}) missing from current font.\n",
      "  fig.canvas.draw()\n",
      "/usr/local/lib/python3.11/dist-packages/seaborn/utils.py:80: UserWarning: Glyph 2310 (\\N{DEVANAGARI LETTER AA}) missing from current font.\n",
      "  fig.canvas.draw()\n",
      "/usr/local/lib/python3.11/dist-packages/seaborn/utils.py:80: UserWarning: Glyph 2332 (\\N{DEVANAGARI LETTER JA}) missing from current font.\n",
      "  fig.canvas.draw()\n",
      "/usr/local/lib/python3.11/dist-packages/seaborn/utils.py:80: UserWarning: Glyph 2370 (\\N{DEVANAGARI VOWEL SIGN UU}) missing from current font.\n",
      "  fig.canvas.draw()\n",
      "/usr/local/lib/python3.11/dist-packages/seaborn/utils.py:80: UserWarning: Glyph 2348 (\\N{DEVANAGARI LETTER BA}) missing from current font.\n",
      "  fig.canvas.draw()\n",
      "/usr/local/lib/python3.11/dist-packages/seaborn/utils.py:80: UserWarning: Glyph 2354 (\\N{DEVANAGARI LETTER LA}) missing from current font.\n",
      "  fig.canvas.draw()\n",
      "/usr/local/lib/python3.11/dist-packages/seaborn/utils.py:80: UserWarning: Glyph 2357 (\\N{DEVANAGARI LETTER VA}) missing from current font.\n",
      "  fig.canvas.draw()\n",
      "/usr/local/lib/python3.11/dist-packages/seaborn/utils.py:80: UserWarning: Glyph 2351 (\\N{DEVANAGARI LETTER YA}) missing from current font.\n",
      "  fig.canvas.draw()\n",
      "/usr/local/lib/python3.11/dist-packages/seaborn/utils.py:80: UserWarning: Glyph 2325 (\\N{DEVANAGARI LETTER KA}) missing from current font.\n",
      "  fig.canvas.draw()\n",
      "/usr/local/lib/python3.11/dist-packages/seaborn/utils.py:80: UserWarning: Matplotlib currently does not support Devanagari natively.\n",
      "  fig.canvas.draw()\n",
      "/usr/local/lib/python3.11/dist-packages/seaborn/utils.py:80: UserWarning: Glyph 2359 (\\N{DEVANAGARI LETTER SSA}) missing from current font.\n",
      "  fig.canvas.draw()\n",
      "/usr/local/lib/python3.11/dist-packages/seaborn/utils.py:80: UserWarning: Glyph 2381 (\\N{DEVANAGARI SIGN VIRAMA}) missing from current font.\n",
      "  fig.canvas.draw()\n",
      "/usr/local/lib/python3.11/dist-packages/seaborn/utils.py:80: UserWarning: Glyph 2335 (\\N{DEVANAGARI LETTER TTA}) missing from current font.\n",
      "  fig.canvas.draw()\n",
      "/usr/local/lib/python3.11/dist-packages/seaborn/utils.py:80: UserWarning: Glyph 2366 (\\N{DEVANAGARI VOWEL SIGN AA}) missing from current font.\n",
      "  fig.canvas.draw()\n",
      "/usr/local/lib/python3.11/dist-packages/seaborn/utils.py:80: UserWarning: Glyph 2330 (\\N{DEVANAGARI LETTER CA}) missing from current font.\n",
      "  fig.canvas.draw()\n",
      "/usr/local/lib/python3.11/dist-packages/seaborn/utils.py:80: UserWarning: Glyph 2375 (\\N{DEVANAGARI VOWEL SIGN E}) missing from current font.\n",
      "  fig.canvas.draw()\n",
      "/usr/local/lib/python3.11/dist-packages/seaborn/utils.py:80: UserWarning: Glyph 2309 (\\N{DEVANAGARI LETTER A}) missing from current font.\n",
      "  fig.canvas.draw()\n",
      "/usr/local/lib/python3.11/dist-packages/seaborn/utils.py:80: UserWarning: Glyph 2337 (\\N{DEVANAGARI LETTER DDA}) missing from current font.\n",
      "  fig.canvas.draw()\n",
      "/usr/local/lib/python3.11/dist-packages/seaborn/utils.py:80: UserWarning: Glyph 2339 (\\N{DEVANAGARI LETTER NNA}) missing from current font.\n",
      "  fig.canvas.draw()\n",
      "/usr/local/lib/python3.11/dist-packages/seaborn/utils.py:80: UserWarning: Glyph 2352 (\\N{DEVANAGARI LETTER RA}) missing from current font.\n",
      "  fig.canvas.draw()\n",
      "/usr/local/lib/python3.11/dist-packages/seaborn/utils.py:80: UserWarning: Glyph 2360 (\\N{DEVANAGARI LETTER SA}) missing from current font.\n",
      "  fig.canvas.draw()\n",
      "/usr/local/lib/python3.11/dist-packages/seaborn/utils.py:80: UserWarning: Glyph 2368 (\\N{DEVANAGARI VOWEL SIGN II}) missing from current font.\n",
      "  fig.canvas.draw()\n",
      "/usr/local/lib/python3.11/dist-packages/seaborn/utils.py:80: UserWarning: Glyph 2310 (\\N{DEVANAGARI LETTER AA}) missing from current font.\n",
      "  fig.canvas.draw()\n",
      "/usr/local/lib/python3.11/dist-packages/seaborn/utils.py:80: UserWarning: Glyph 2332 (\\N{DEVANAGARI LETTER JA}) missing from current font.\n",
      "  fig.canvas.draw()\n",
      "/usr/local/lib/python3.11/dist-packages/seaborn/utils.py:80: UserWarning: Glyph 2370 (\\N{DEVANAGARI VOWEL SIGN UU}) missing from current font.\n",
      "  fig.canvas.draw()\n",
      "/usr/local/lib/python3.11/dist-packages/seaborn/utils.py:80: UserWarning: Glyph 2348 (\\N{DEVANAGARI LETTER BA}) missing from current font.\n",
      "  fig.canvas.draw()\n",
      "/usr/local/lib/python3.11/dist-packages/seaborn/utils.py:80: UserWarning: Glyph 2354 (\\N{DEVANAGARI LETTER LA}) missing from current font.\n",
      "  fig.canvas.draw()\n",
      "/usr/local/lib/python3.11/dist-packages/seaborn/utils.py:80: UserWarning: Glyph 2357 (\\N{DEVANAGARI LETTER VA}) missing from current font.\n",
      "  fig.canvas.draw()\n",
      "/usr/local/lib/python3.11/dist-packages/seaborn/utils.py:80: UserWarning: Glyph 2351 (\\N{DEVANAGARI LETTER YA}) missing from current font.\n",
      "  fig.canvas.draw()\n",
      "/usr/local/lib/python3.11/dist-packages/seaborn/utils.py:80: UserWarning: Glyph 2350 (\\N{DEVANAGARI LETTER MA}) missing from current font.\n",
      "  fig.canvas.draw()\n",
      "/usr/local/lib/python3.11/dist-packages/seaborn/utils.py:80: UserWarning: Glyph 2379 (\\N{DEVANAGARI VOWEL SIGN O}) missing from current font.\n",
      "  fig.canvas.draw()\n",
      "/usr/local/lib/python3.11/dist-packages/seaborn/utils.py:80: UserWarning: Glyph 2325 (\\N{DEVANAGARI LETTER KA}) missing from current font.\n",
      "  fig.canvas.draw()\n",
      "/usr/local/lib/python3.11/dist-packages/seaborn/utils.py:80: UserWarning: Matplotlib currently does not support Devanagari natively.\n",
      "  fig.canvas.draw()\n",
      "/usr/local/lib/python3.11/dist-packages/seaborn/utils.py:80: UserWarning: Glyph 2359 (\\N{DEVANAGARI LETTER SSA}) missing from current font.\n",
      "  fig.canvas.draw()\n",
      "/usr/local/lib/python3.11/dist-packages/seaborn/utils.py:80: UserWarning: Glyph 2381 (\\N{DEVANAGARI SIGN VIRAMA}) missing from current font.\n",
      "  fig.canvas.draw()\n",
      "/usr/local/lib/python3.11/dist-packages/seaborn/utils.py:80: UserWarning: Glyph 2335 (\\N{DEVANAGARI LETTER TTA}) missing from current font.\n",
      "  fig.canvas.draw()\n",
      "/usr/local/lib/python3.11/dist-packages/seaborn/utils.py:80: UserWarning: Glyph 2366 (\\N{DEVANAGARI VOWEL SIGN AA}) missing from current font.\n",
      "  fig.canvas.draw()\n",
      "/usr/local/lib/python3.11/dist-packages/seaborn/utils.py:80: UserWarning: Glyph 2330 (\\N{DEVANAGARI LETTER CA}) missing from current font.\n",
      "  fig.canvas.draw()\n",
      "/usr/local/lib/python3.11/dist-packages/seaborn/utils.py:80: UserWarning: Glyph 2375 (\\N{DEVANAGARI VOWEL SIGN E}) missing from current font.\n",
      "  fig.canvas.draw()\n",
      "/usr/local/lib/python3.11/dist-packages/seaborn/utils.py:80: UserWarning: Glyph 2309 (\\N{DEVANAGARI LETTER A}) missing from current font.\n",
      "  fig.canvas.draw()\n",
      "/usr/local/lib/python3.11/dist-packages/seaborn/utils.py:80: UserWarning: Glyph 2337 (\\N{DEVANAGARI LETTER DDA}) missing from current font.\n",
      "  fig.canvas.draw()\n",
      "/usr/local/lib/python3.11/dist-packages/seaborn/utils.py:80: UserWarning: Glyph 2339 (\\N{DEVANAGARI LETTER NNA}) missing from current font.\n",
      "  fig.canvas.draw()\n",
      "/usr/local/lib/python3.11/dist-packages/seaborn/utils.py:80: UserWarning: Glyph 2352 (\\N{DEVANAGARI LETTER RA}) missing from current font.\n",
      "  fig.canvas.draw()\n",
      "/usr/local/lib/python3.11/dist-packages/seaborn/utils.py:80: UserWarning: Glyph 2360 (\\N{DEVANAGARI LETTER SA}) missing from current font.\n",
      "  fig.canvas.draw()\n",
      "/usr/local/lib/python3.11/dist-packages/seaborn/utils.py:80: UserWarning: Glyph 2368 (\\N{DEVANAGARI VOWEL SIGN II}) missing from current font.\n",
      "  fig.canvas.draw()\n",
      "/usr/local/lib/python3.11/dist-packages/seaborn/utils.py:80: UserWarning: Glyph 2310 (\\N{DEVANAGARI LETTER AA}) missing from current font.\n",
      "  fig.canvas.draw()\n",
      "/usr/local/lib/python3.11/dist-packages/seaborn/utils.py:80: UserWarning: Glyph 2332 (\\N{DEVANAGARI LETTER JA}) missing from current font.\n",
      "  fig.canvas.draw()\n",
      "/usr/local/lib/python3.11/dist-packages/seaborn/utils.py:80: UserWarning: Glyph 2370 (\\N{DEVANAGARI VOWEL SIGN UU}) missing from current font.\n",
      "  fig.canvas.draw()\n",
      "/usr/local/lib/python3.11/dist-packages/seaborn/utils.py:80: UserWarning: Glyph 2348 (\\N{DEVANAGARI LETTER BA}) missing from current font.\n",
      "  fig.canvas.draw()\n",
      "/usr/local/lib/python3.11/dist-packages/seaborn/utils.py:80: UserWarning: Glyph 2354 (\\N{DEVANAGARI LETTER LA}) missing from current font.\n",
      "  fig.canvas.draw()\n",
      "/usr/local/lib/python3.11/dist-packages/seaborn/utils.py:80: UserWarning: Glyph 2357 (\\N{DEVANAGARI LETTER VA}) missing from current font.\n",
      "  fig.canvas.draw()\n",
      "/usr/local/lib/python3.11/dist-packages/seaborn/utils.py:80: UserWarning: Glyph 2351 (\\N{DEVANAGARI LETTER YA}) missing from current font.\n",
      "  fig.canvas.draw()\n",
      "/usr/local/lib/python3.11/dist-packages/seaborn/utils.py:80: UserWarning: Glyph 2350 (\\N{DEVANAGARI LETTER MA}) missing from current font.\n",
      "  fig.canvas.draw()\n",
      "/usr/local/lib/python3.11/dist-packages/seaborn/utils.py:80: UserWarning: Glyph 2379 (\\N{DEVANAGARI VOWEL SIGN O}) missing from current font.\n",
      "  fig.canvas.draw()\n",
      "/usr/local/lib/python3.11/dist-packages/seaborn/utils.py:80: UserWarning: Glyph 2369 (\\N{DEVANAGARI VOWEL SIGN U}) missing from current font.\n",
      "  fig.canvas.draw()\n",
      "/usr/local/lib/python3.11/dist-packages/seaborn/utils.py:80: UserWarning: Glyph 2313 (\\N{DEVANAGARI LETTER U}) missing from current font.\n",
      "  fig.canvas.draw()\n",
      "/usr/local/lib/python3.11/dist-packages/seaborn/utils.py:80: UserWarning: Glyph 2344 (\\N{DEVANAGARI LETTER NA}) missing from current font.\n",
      "  fig.canvas.draw()\n",
      "/tmp/ipykernel_35/1578309596.py:67: UserWarning: Glyph 2340 (\\N{DEVANAGARI LETTER TA}) missing from current font.\n",
      "  plt.tight_layout()\n",
      "/tmp/ipykernel_35/1578309596.py:67: UserWarning: Matplotlib currently does not support Devanagari natively.\n",
      "  plt.tight_layout()\n",
      "/tmp/ipykernel_35/1578309596.py:67: UserWarning: Glyph 2381 (\\N{DEVANAGARI SIGN VIRAMA}) missing from current font.\n",
      "  plt.tight_layout()\n",
      "/tmp/ipykernel_35/1578309596.py:67: UserWarning: Glyph 2357 (\\N{DEVANAGARI LETTER VA}) missing from current font.\n",
      "  plt.tight_layout()\n",
      "/tmp/ipykernel_35/1578309596.py:67: UserWarning: Glyph 2352 (\\N{DEVANAGARI LETTER RA}) missing from current font.\n",
      "  plt.tight_layout()\n",
      "/tmp/ipykernel_35/1578309596.py:67: UserWarning: Glyph 2368 (\\N{DEVANAGARI VOWEL SIGN II}) missing from current font.\n",
      "  plt.tight_layout()\n",
      "/tmp/ipykernel_35/1578309596.py:69: UserWarning: Glyph 2325 (\\N{DEVANAGARI LETTER KA}) missing from current font.\n",
      "  plt.savefig(\"attention_heatmaps_grid.png\", dpi=300, bbox_inches=\"tight\")\n",
      "/tmp/ipykernel_35/1578309596.py:69: UserWarning: Matplotlib currently does not support Devanagari natively.\n",
      "  plt.savefig(\"attention_heatmaps_grid.png\", dpi=300, bbox_inches=\"tight\")\n",
      "/tmp/ipykernel_35/1578309596.py:69: UserWarning: Glyph 2359 (\\N{DEVANAGARI LETTER SSA}) missing from current font.\n",
      "  plt.savefig(\"attention_heatmaps_grid.png\", dpi=300, bbox_inches=\"tight\")\n",
      "/tmp/ipykernel_35/1578309596.py:69: UserWarning: Glyph 2381 (\\N{DEVANAGARI SIGN VIRAMA}) missing from current font.\n",
      "  plt.savefig(\"attention_heatmaps_grid.png\", dpi=300, bbox_inches=\"tight\")\n",
      "/tmp/ipykernel_35/1578309596.py:69: UserWarning: Glyph 2335 (\\N{DEVANAGARI LETTER TTA}) missing from current font.\n",
      "  plt.savefig(\"attention_heatmaps_grid.png\", dpi=300, bbox_inches=\"tight\")\n",
      "/tmp/ipykernel_35/1578309596.py:69: UserWarning: Glyph 2366 (\\N{DEVANAGARI VOWEL SIGN AA}) missing from current font.\n",
      "  plt.savefig(\"attention_heatmaps_grid.png\", dpi=300, bbox_inches=\"tight\")\n",
      "/tmp/ipykernel_35/1578309596.py:69: UserWarning: Glyph 2330 (\\N{DEVANAGARI LETTER CA}) missing from current font.\n",
      "  plt.savefig(\"attention_heatmaps_grid.png\", dpi=300, bbox_inches=\"tight\")\n",
      "/tmp/ipykernel_35/1578309596.py:69: UserWarning: Glyph 2375 (\\N{DEVANAGARI VOWEL SIGN E}) missing from current font.\n",
      "  plt.savefig(\"attention_heatmaps_grid.png\", dpi=300, bbox_inches=\"tight\")\n",
      "/tmp/ipykernel_35/1578309596.py:69: UserWarning: Glyph 2309 (\\N{DEVANAGARI LETTER A}) missing from current font.\n",
      "  plt.savefig(\"attention_heatmaps_grid.png\", dpi=300, bbox_inches=\"tight\")\n",
      "/tmp/ipykernel_35/1578309596.py:69: UserWarning: Glyph 2337 (\\N{DEVANAGARI LETTER DDA}) missing from current font.\n",
      "  plt.savefig(\"attention_heatmaps_grid.png\", dpi=300, bbox_inches=\"tight\")\n",
      "/tmp/ipykernel_35/1578309596.py:69: UserWarning: Glyph 2339 (\\N{DEVANAGARI LETTER NNA}) missing from current font.\n",
      "  plt.savefig(\"attention_heatmaps_grid.png\", dpi=300, bbox_inches=\"tight\")\n",
      "/tmp/ipykernel_35/1578309596.py:69: UserWarning: Glyph 2352 (\\N{DEVANAGARI LETTER RA}) missing from current font.\n",
      "  plt.savefig(\"attention_heatmaps_grid.png\", dpi=300, bbox_inches=\"tight\")\n",
      "/tmp/ipykernel_35/1578309596.py:69: UserWarning: Glyph 2360 (\\N{DEVANAGARI LETTER SA}) missing from current font.\n",
      "  plt.savefig(\"attention_heatmaps_grid.png\", dpi=300, bbox_inches=\"tight\")\n",
      "/tmp/ipykernel_35/1578309596.py:69: UserWarning: Glyph 2368 (\\N{DEVANAGARI VOWEL SIGN II}) missing from current font.\n",
      "  plt.savefig(\"attention_heatmaps_grid.png\", dpi=300, bbox_inches=\"tight\")\n",
      "/tmp/ipykernel_35/1578309596.py:69: UserWarning: Glyph 2310 (\\N{DEVANAGARI LETTER AA}) missing from current font.\n",
      "  plt.savefig(\"attention_heatmaps_grid.png\", dpi=300, bbox_inches=\"tight\")\n",
      "/tmp/ipykernel_35/1578309596.py:69: UserWarning: Glyph 2332 (\\N{DEVANAGARI LETTER JA}) missing from current font.\n",
      "  plt.savefig(\"attention_heatmaps_grid.png\", dpi=300, bbox_inches=\"tight\")\n",
      "/tmp/ipykernel_35/1578309596.py:69: UserWarning: Glyph 2370 (\\N{DEVANAGARI VOWEL SIGN UU}) missing from current font.\n",
      "  plt.savefig(\"attention_heatmaps_grid.png\", dpi=300, bbox_inches=\"tight\")\n",
      "/tmp/ipykernel_35/1578309596.py:69: UserWarning: Glyph 2348 (\\N{DEVANAGARI LETTER BA}) missing from current font.\n",
      "  plt.savefig(\"attention_heatmaps_grid.png\", dpi=300, bbox_inches=\"tight\")\n",
      "/tmp/ipykernel_35/1578309596.py:69: UserWarning: Glyph 2354 (\\N{DEVANAGARI LETTER LA}) missing from current font.\n",
      "  plt.savefig(\"attention_heatmaps_grid.png\", dpi=300, bbox_inches=\"tight\")\n",
      "/tmp/ipykernel_35/1578309596.py:69: UserWarning: Glyph 2357 (\\N{DEVANAGARI LETTER VA}) missing from current font.\n",
      "  plt.savefig(\"attention_heatmaps_grid.png\", dpi=300, bbox_inches=\"tight\")\n",
      "/tmp/ipykernel_35/1578309596.py:69: UserWarning: Glyph 2351 (\\N{DEVANAGARI LETTER YA}) missing from current font.\n",
      "  plt.savefig(\"attention_heatmaps_grid.png\", dpi=300, bbox_inches=\"tight\")\n",
      "/tmp/ipykernel_35/1578309596.py:69: UserWarning: Glyph 2350 (\\N{DEVANAGARI LETTER MA}) missing from current font.\n",
      "  plt.savefig(\"attention_heatmaps_grid.png\", dpi=300, bbox_inches=\"tight\")\n",
      "/tmp/ipykernel_35/1578309596.py:69: UserWarning: Glyph 2379 (\\N{DEVANAGARI VOWEL SIGN O}) missing from current font.\n",
      "  plt.savefig(\"attention_heatmaps_grid.png\", dpi=300, bbox_inches=\"tight\")\n",
      "/tmp/ipykernel_35/1578309596.py:69: UserWarning: Glyph 2369 (\\N{DEVANAGARI VOWEL SIGN U}) missing from current font.\n",
      "  plt.savefig(\"attention_heatmaps_grid.png\", dpi=300, bbox_inches=\"tight\")\n",
      "/tmp/ipykernel_35/1578309596.py:69: UserWarning: Glyph 2313 (\\N{DEVANAGARI LETTER U}) missing from current font.\n",
      "  plt.savefig(\"attention_heatmaps_grid.png\", dpi=300, bbox_inches=\"tight\")\n",
      "/tmp/ipykernel_35/1578309596.py:69: UserWarning: Glyph 2344 (\\N{DEVANAGARI LETTER NA}) missing from current font.\n",
      "  plt.savefig(\"attention_heatmaps_grid.png\", dpi=300, bbox_inches=\"tight\")\n",
      "/tmp/ipykernel_35/1578309596.py:69: UserWarning: Glyph 2340 (\\N{DEVANAGARI LETTER TA}) missing from current font.\n",
      "  plt.savefig(\"attention_heatmaps_grid.png\", dpi=300, bbox_inches=\"tight\")\n",
      "/tmp/ipykernel_35/444362622.py:79: UserWarning: Glyph 2325 (\\N{DEVANAGARI LETTER KA}) missing from current font.\n",
      "  plt.tight_layout()\n",
      "/tmp/ipykernel_35/444362622.py:79: UserWarning: Matplotlib currently does not support Devanagari natively.\n",
      "  plt.tight_layout()\n",
      "/tmp/ipykernel_35/444362622.py:79: UserWarning: Glyph 2359 (\\N{DEVANAGARI LETTER SSA}) missing from current font.\n",
      "  plt.tight_layout()\n",
      "/tmp/ipykernel_35/444362622.py:79: UserWarning: Glyph 2381 (\\N{DEVANAGARI SIGN VIRAMA}) missing from current font.\n",
      "  plt.tight_layout()\n",
      "/tmp/ipykernel_35/444362622.py:79: UserWarning: Glyph 2335 (\\N{DEVANAGARI LETTER TTA}) missing from current font.\n",
      "  plt.tight_layout()\n",
      "/tmp/ipykernel_35/444362622.py:79: UserWarning: Glyph 2366 (\\N{DEVANAGARI VOWEL SIGN AA}) missing from current font.\n",
      "  plt.tight_layout()\n",
      "/tmp/ipykernel_35/444362622.py:79: UserWarning: Glyph 2330 (\\N{DEVANAGARI LETTER CA}) missing from current font.\n",
      "  plt.tight_layout()\n",
      "/tmp/ipykernel_35/444362622.py:79: UserWarning: Glyph 2375 (\\N{DEVANAGARI VOWEL SIGN E}) missing from current font.\n",
      "  plt.tight_layout()\n",
      "/tmp/ipykernel_35/444362622.py:79: UserWarning: Glyph 2309 (\\N{DEVANAGARI LETTER A}) missing from current font.\n",
      "  plt.tight_layout()\n",
      "/tmp/ipykernel_35/444362622.py:79: UserWarning: Glyph 2337 (\\N{DEVANAGARI LETTER DDA}) missing from current font.\n",
      "  plt.tight_layout()\n",
      "/tmp/ipykernel_35/444362622.py:79: UserWarning: Glyph 2339 (\\N{DEVANAGARI LETTER NNA}) missing from current font.\n",
      "  plt.tight_layout()\n",
      "/tmp/ipykernel_35/444362622.py:79: UserWarning: Glyph 2352 (\\N{DEVANAGARI LETTER RA}) missing from current font.\n",
      "  plt.tight_layout()\n",
      "/tmp/ipykernel_35/444362622.py:79: UserWarning: Glyph 2360 (\\N{DEVANAGARI LETTER SA}) missing from current font.\n",
      "  plt.tight_layout()\n",
      "/tmp/ipykernel_35/444362622.py:79: UserWarning: Glyph 2368 (\\N{DEVANAGARI VOWEL SIGN II}) missing from current font.\n",
      "  plt.tight_layout()\n",
      "/tmp/ipykernel_35/444362622.py:79: UserWarning: Glyph 2310 (\\N{DEVANAGARI LETTER AA}) missing from current font.\n",
      "  plt.tight_layout()\n",
      "/tmp/ipykernel_35/444362622.py:79: UserWarning: Glyph 2332 (\\N{DEVANAGARI LETTER JA}) missing from current font.\n",
      "  plt.tight_layout()\n",
      "/tmp/ipykernel_35/444362622.py:79: UserWarning: Glyph 2370 (\\N{DEVANAGARI VOWEL SIGN UU}) missing from current font.\n",
      "  plt.tight_layout()\n",
      "/tmp/ipykernel_35/444362622.py:79: UserWarning: Glyph 2348 (\\N{DEVANAGARI LETTER BA}) missing from current font.\n",
      "  plt.tight_layout()\n",
      "/tmp/ipykernel_35/444362622.py:79: UserWarning: Glyph 2354 (\\N{DEVANAGARI LETTER LA}) missing from current font.\n",
      "  plt.tight_layout()\n",
      "/tmp/ipykernel_35/444362622.py:79: UserWarning: Glyph 2357 (\\N{DEVANAGARI LETTER VA}) missing from current font.\n",
      "  plt.tight_layout()\n",
      "/tmp/ipykernel_35/444362622.py:79: UserWarning: Glyph 2351 (\\N{DEVANAGARI LETTER YA}) missing from current font.\n",
      "  plt.tight_layout()\n",
      "/tmp/ipykernel_35/444362622.py:79: UserWarning: Glyph 2350 (\\N{DEVANAGARI LETTER MA}) missing from current font.\n",
      "  plt.tight_layout()\n",
      "/tmp/ipykernel_35/444362622.py:79: UserWarning: Glyph 2379 (\\N{DEVANAGARI VOWEL SIGN O}) missing from current font.\n",
      "  plt.tight_layout()\n",
      "/tmp/ipykernel_35/444362622.py:79: UserWarning: Glyph 2369 (\\N{DEVANAGARI VOWEL SIGN U}) missing from current font.\n",
      "  plt.tight_layout()\n",
      "/tmp/ipykernel_35/444362622.py:79: UserWarning: Glyph 2313 (\\N{DEVANAGARI LETTER U}) missing from current font.\n",
      "  plt.tight_layout()\n",
      "/tmp/ipykernel_35/444362622.py:79: UserWarning: Glyph 2344 (\\N{DEVANAGARI LETTER NA}) missing from current font.\n",
      "  plt.tight_layout()\n",
      "/tmp/ipykernel_35/444362622.py:79: UserWarning: Glyph 2340 (\\N{DEVANAGARI LETTER TA}) missing from current font.\n",
      "  plt.tight_layout()\n",
      "/tmp/ipykernel_35/444362622.py:81: UserWarning: Glyph 2325 (\\N{DEVANAGARI LETTER KA}) missing from current font.\n",
      "  plt.savefig(\"connectivity_visualizations_grid.png\", dpi=300, bbox_inches=\"tight\")\n",
      "/tmp/ipykernel_35/444362622.py:81: UserWarning: Matplotlib currently does not support Devanagari natively.\n",
      "  plt.savefig(\"connectivity_visualizations_grid.png\", dpi=300, bbox_inches=\"tight\")\n",
      "/tmp/ipykernel_35/444362622.py:81: UserWarning: Glyph 2359 (\\N{DEVANAGARI LETTER SSA}) missing from current font.\n",
      "  plt.savefig(\"connectivity_visualizations_grid.png\", dpi=300, bbox_inches=\"tight\")\n",
      "/tmp/ipykernel_35/444362622.py:81: UserWarning: Glyph 2381 (\\N{DEVANAGARI SIGN VIRAMA}) missing from current font.\n",
      "  plt.savefig(\"connectivity_visualizations_grid.png\", dpi=300, bbox_inches=\"tight\")\n",
      "/tmp/ipykernel_35/444362622.py:81: UserWarning: Glyph 2335 (\\N{DEVANAGARI LETTER TTA}) missing from current font.\n",
      "  plt.savefig(\"connectivity_visualizations_grid.png\", dpi=300, bbox_inches=\"tight\")\n",
      "/tmp/ipykernel_35/444362622.py:81: UserWarning: Glyph 2366 (\\N{DEVANAGARI VOWEL SIGN AA}) missing from current font.\n",
      "  plt.savefig(\"connectivity_visualizations_grid.png\", dpi=300, bbox_inches=\"tight\")\n",
      "/tmp/ipykernel_35/444362622.py:81: UserWarning: Glyph 2330 (\\N{DEVANAGARI LETTER CA}) missing from current font.\n",
      "  plt.savefig(\"connectivity_visualizations_grid.png\", dpi=300, bbox_inches=\"tight\")\n",
      "/tmp/ipykernel_35/444362622.py:81: UserWarning: Glyph 2375 (\\N{DEVANAGARI VOWEL SIGN E}) missing from current font.\n",
      "  plt.savefig(\"connectivity_visualizations_grid.png\", dpi=300, bbox_inches=\"tight\")\n",
      "/tmp/ipykernel_35/444362622.py:81: UserWarning: Glyph 2309 (\\N{DEVANAGARI LETTER A}) missing from current font.\n",
      "  plt.savefig(\"connectivity_visualizations_grid.png\", dpi=300, bbox_inches=\"tight\")\n",
      "/tmp/ipykernel_35/444362622.py:81: UserWarning: Glyph 2337 (\\N{DEVANAGARI LETTER DDA}) missing from current font.\n",
      "  plt.savefig(\"connectivity_visualizations_grid.png\", dpi=300, bbox_inches=\"tight\")\n",
      "/tmp/ipykernel_35/444362622.py:81: UserWarning: Glyph 2339 (\\N{DEVANAGARI LETTER NNA}) missing from current font.\n",
      "  plt.savefig(\"connectivity_visualizations_grid.png\", dpi=300, bbox_inches=\"tight\")\n",
      "/tmp/ipykernel_35/444362622.py:81: UserWarning: Glyph 2352 (\\N{DEVANAGARI LETTER RA}) missing from current font.\n",
      "  plt.savefig(\"connectivity_visualizations_grid.png\", dpi=300, bbox_inches=\"tight\")\n",
      "/tmp/ipykernel_35/444362622.py:81: UserWarning: Glyph 2360 (\\N{DEVANAGARI LETTER SA}) missing from current font.\n",
      "  plt.savefig(\"connectivity_visualizations_grid.png\", dpi=300, bbox_inches=\"tight\")\n",
      "/tmp/ipykernel_35/444362622.py:81: UserWarning: Glyph 2368 (\\N{DEVANAGARI VOWEL SIGN II}) missing from current font.\n",
      "  plt.savefig(\"connectivity_visualizations_grid.png\", dpi=300, bbox_inches=\"tight\")\n",
      "/tmp/ipykernel_35/444362622.py:81: UserWarning: Glyph 2310 (\\N{DEVANAGARI LETTER AA}) missing from current font.\n",
      "  plt.savefig(\"connectivity_visualizations_grid.png\", dpi=300, bbox_inches=\"tight\")\n",
      "/tmp/ipykernel_35/444362622.py:81: UserWarning: Glyph 2332 (\\N{DEVANAGARI LETTER JA}) missing from current font.\n",
      "  plt.savefig(\"connectivity_visualizations_grid.png\", dpi=300, bbox_inches=\"tight\")\n",
      "/tmp/ipykernel_35/444362622.py:81: UserWarning: Glyph 2370 (\\N{DEVANAGARI VOWEL SIGN UU}) missing from current font.\n",
      "  plt.savefig(\"connectivity_visualizations_grid.png\", dpi=300, bbox_inches=\"tight\")\n",
      "/tmp/ipykernel_35/444362622.py:81: UserWarning: Glyph 2348 (\\N{DEVANAGARI LETTER BA}) missing from current font.\n",
      "  plt.savefig(\"connectivity_visualizations_grid.png\", dpi=300, bbox_inches=\"tight\")\n",
      "/tmp/ipykernel_35/444362622.py:81: UserWarning: Glyph 2354 (\\N{DEVANAGARI LETTER LA}) missing from current font.\n",
      "  plt.savefig(\"connectivity_visualizations_grid.png\", dpi=300, bbox_inches=\"tight\")\n",
      "/tmp/ipykernel_35/444362622.py:81: UserWarning: Glyph 2357 (\\N{DEVANAGARI LETTER VA}) missing from current font.\n",
      "  plt.savefig(\"connectivity_visualizations_grid.png\", dpi=300, bbox_inches=\"tight\")\n",
      "/tmp/ipykernel_35/444362622.py:81: UserWarning: Glyph 2351 (\\N{DEVANAGARI LETTER YA}) missing from current font.\n",
      "  plt.savefig(\"connectivity_visualizations_grid.png\", dpi=300, bbox_inches=\"tight\")\n",
      "/tmp/ipykernel_35/444362622.py:81: UserWarning: Glyph 2350 (\\N{DEVANAGARI LETTER MA}) missing from current font.\n",
      "  plt.savefig(\"connectivity_visualizations_grid.png\", dpi=300, bbox_inches=\"tight\")\n",
      "/tmp/ipykernel_35/444362622.py:81: UserWarning: Glyph 2379 (\\N{DEVANAGARI VOWEL SIGN O}) missing from current font.\n",
      "  plt.savefig(\"connectivity_visualizations_grid.png\", dpi=300, bbox_inches=\"tight\")\n",
      "/tmp/ipykernel_35/444362622.py:81: UserWarning: Glyph 2369 (\\N{DEVANAGARI VOWEL SIGN U}) missing from current font.\n",
      "  plt.savefig(\"connectivity_visualizations_grid.png\", dpi=300, bbox_inches=\"tight\")\n",
      "/tmp/ipykernel_35/444362622.py:81: UserWarning: Glyph 2313 (\\N{DEVANAGARI LETTER U}) missing from current font.\n",
      "  plt.savefig(\"connectivity_visualizations_grid.png\", dpi=300, bbox_inches=\"tight\")\n",
      "/tmp/ipykernel_35/444362622.py:81: UserWarning: Glyph 2344 (\\N{DEVANAGARI LETTER NA}) missing from current font.\n",
      "  plt.savefig(\"connectivity_visualizations_grid.png\", dpi=300, bbox_inches=\"tight\")\n",
      "/tmp/ipykernel_35/444362622.py:81: UserWarning: Glyph 2340 (\\N{DEVANAGARI LETTER TA}) missing from current font.\n",
      "  plt.savefig(\"connectivity_visualizations_grid.png\", dpi=300, bbox_inches=\"tight\")\n"
     ]
    },
    {
     "name": "stdout",
     "output_type": "stream",
     "text": [
      "Visualizations saved.\n"
     ]
    },
    {
     "data": {
      "text/html": [
       "<h2>Character-level Error Visualization</h2><p>Green: Correct characters, Red: Incorrect characters</p><h3>Sample 1</h3><p><b>Input:</b> harmoniyam</p><p><b>Prediction vs Target:</b> <span style=\"color:green\">ह</span><span style=\"color:red\">र</span><span style=\"color:red\">्</span><span style=\"color:red\">म</span><span style=\"color:red\">ो</span><span style=\"color:red\">न</span><span style=\"color:red\">ि</span><span style=\"color:red\">य</span><span style=\"color:red\">म</span><span style=\"color:red\"> </span></p><p><b>Target:</b> हार्मोनियम</p><hr><h3>Sample 2</h3><p><b>Input:</b> underson</p><p><b>Prediction vs Target:</b> <span style=\"color:red\">उ</span><span style=\"color:red\">ं</span><span style=\"color:red\">द</span><span style=\"color:green\">र</span><span style=\"color:red\">्</span><span style=\"color:red\">स</span><span style=\"color:red\">न</span></p><p><b>Target:</b> अँडरसन</p><hr><h3>Sample 3</h3><p><b>Input:</b> isk</p><p><b>Prediction vs Target:</b> <span style=\"color:red\">ए</span><span style=\"color:red\">क</span><span style=\"color:green\">्</span><span style=\"color:red\">स</span></p><p><b>Target:</b> इश्क</p><hr><h3>Sample 4</h3><p><b>Input:</b> prajakta</p><p><b>Prediction vs Target:</b> <span style=\"color:green\">प</span><span style=\"color:green\">्</span><span style=\"color:green\">र</span><span style=\"color:red\">ज</span><span style=\"color:red\">क</span><span style=\"color:red\">त</span><span style=\"color:red\">ा</span><span style=\"color:red\"> </span><span style=\"color:red\"> </span></p><p><b>Target:</b> प्राजक्ता</p><hr><h3>Sample 5</h3><p><b>Input:</b> shrikrushnane</p><p><b>Prediction vs Target:</b> <span style=\"color:green\">श</span><span style=\"color:green\">्</span><span style=\"color:green\">र</span><span style=\"color:green\">ी</span><span style=\"color:green\">क</span><span style=\"color:green\">ृ</span><span style=\"color:green\">ष</span><span style=\"color:green\">्</span><span style=\"color:green\">ण</span><span style=\"color:red\">न</span><span style=\"color:red\">े</span><span style=\"color:red\"> </span></p><p><b>Target:</b> श्रीकृष्णाने</p><hr><h3>Sample 6</h3><p><b>Input:</b> ovyaa</p><p><b>Prediction vs Target:</b> <span style=\"color:green\">ओ</span><span style=\"color:green\">व</span><span style=\"color:green\">्</span><span style=\"color:green\">य</span><span style=\"color:green\">ा</span></p><p><b>Target:</b> ओव्या</p><hr><h3>Sample 7</h3><p><b>Input:</b> detaana</p><p><b>Prediction vs Target:</b> <span style=\"color:green\">द</span><span style=\"color:green\">े</span><span style=\"color:green\">त</span><span style=\"color:green\">ा</span><span style=\"color:green\">न</span><span style=\"color:green\">ा</span></p><p><b>Target:</b> देताना</p><hr><h3>Sample 8</h3><p><b>Input:</b> janaavranchi</p><p><b>Prediction vs Target:</b> <span style=\"color:green\">ज</span><span style=\"color:green\">न</span><span style=\"color:green\">ा</span><span style=\"color:green\">व</span><span style=\"color:green\">र</span><span style=\"color:green\">ा</span><span style=\"color:green\">ं</span><span style=\"color:green\">च</span><span style=\"color:green\">ी</span></p><p><b>Target:</b> जनावरांची</p><hr><h3>Sample 9</h3><p><b>Input:</b> vakilanchya</p><p><b>Prediction vs Target:</b> <span style=\"color:green\">व</span><span style=\"color:green\">क</span><span style=\"color:green\">ि</span><span style=\"color:green\">ल</span><span style=\"color:green\">ा</span><span style=\"color:green\">ं</span><span style=\"color:green\">च</span><span style=\"color:green\">्</span><span style=\"color:green\">य</span><span style=\"color:green\">ा</span></p><p><b>Target:</b> वकिलांच्या</p><hr><h3>Sample 10</h3><p><b>Input:</b> kaydyane</p><p><b>Prediction vs Target:</b> <span style=\"color:green\">क</span><span style=\"color:green\">ा</span><span style=\"color:green\">य</span><span style=\"color:green\">द</span><span style=\"color:green\">्</span><span style=\"color:green\">य</span><span style=\"color:green\">ा</span><span style=\"color:green\">न</span><span style=\"color:green\">े</span></p><p><b>Target:</b> कायद्याने</p><hr>"
      ],
      "text/plain": [
       "<IPython.core.display.HTML object>"
      ]
     },
     "metadata": {},
     "output_type": "display_data"
    },
    {
     "name": "stderr",
     "output_type": "stream",
     "text": [
      "/usr/local/lib/python3.11/dist-packages/IPython/core/pylabtools.py:151: UserWarning: Glyph 2325 (\\N{DEVANAGARI LETTER KA}) missing from current font.\n",
      "  fig.canvas.print_figure(bytes_io, **kw)\n",
      "/usr/local/lib/python3.11/dist-packages/IPython/core/pylabtools.py:151: UserWarning: Matplotlib currently does not support Devanagari natively.\n",
      "  fig.canvas.print_figure(bytes_io, **kw)\n",
      "/usr/local/lib/python3.11/dist-packages/IPython/core/pylabtools.py:151: UserWarning: Glyph 2359 (\\N{DEVANAGARI LETTER SSA}) missing from current font.\n",
      "  fig.canvas.print_figure(bytes_io, **kw)\n",
      "/usr/local/lib/python3.11/dist-packages/IPython/core/pylabtools.py:151: UserWarning: Glyph 2381 (\\N{DEVANAGARI SIGN VIRAMA}) missing from current font.\n",
      "  fig.canvas.print_figure(bytes_io, **kw)\n",
      "/usr/local/lib/python3.11/dist-packages/IPython/core/pylabtools.py:151: UserWarning: Glyph 2335 (\\N{DEVANAGARI LETTER TTA}) missing from current font.\n",
      "  fig.canvas.print_figure(bytes_io, **kw)\n",
      "/usr/local/lib/python3.11/dist-packages/IPython/core/pylabtools.py:151: UserWarning: Glyph 2366 (\\N{DEVANAGARI VOWEL SIGN AA}) missing from current font.\n",
      "  fig.canvas.print_figure(bytes_io, **kw)\n",
      "/usr/local/lib/python3.11/dist-packages/IPython/core/pylabtools.py:151: UserWarning: Glyph 2330 (\\N{DEVANAGARI LETTER CA}) missing from current font.\n",
      "  fig.canvas.print_figure(bytes_io, **kw)\n",
      "/usr/local/lib/python3.11/dist-packages/IPython/core/pylabtools.py:151: UserWarning: Glyph 2375 (\\N{DEVANAGARI VOWEL SIGN E}) missing from current font.\n",
      "  fig.canvas.print_figure(bytes_io, **kw)\n",
      "/usr/local/lib/python3.11/dist-packages/IPython/core/pylabtools.py:151: UserWarning: Glyph 2309 (\\N{DEVANAGARI LETTER A}) missing from current font.\n",
      "  fig.canvas.print_figure(bytes_io, **kw)\n",
      "/usr/local/lib/python3.11/dist-packages/IPython/core/pylabtools.py:151: UserWarning: Glyph 2337 (\\N{DEVANAGARI LETTER DDA}) missing from current font.\n",
      "  fig.canvas.print_figure(bytes_io, **kw)\n",
      "/usr/local/lib/python3.11/dist-packages/IPython/core/pylabtools.py:151: UserWarning: Glyph 2339 (\\N{DEVANAGARI LETTER NNA}) missing from current font.\n",
      "  fig.canvas.print_figure(bytes_io, **kw)\n",
      "/usr/local/lib/python3.11/dist-packages/IPython/core/pylabtools.py:151: UserWarning: Glyph 2352 (\\N{DEVANAGARI LETTER RA}) missing from current font.\n",
      "  fig.canvas.print_figure(bytes_io, **kw)\n",
      "/usr/local/lib/python3.11/dist-packages/IPython/core/pylabtools.py:151: UserWarning: Glyph 2360 (\\N{DEVANAGARI LETTER SA}) missing from current font.\n",
      "  fig.canvas.print_figure(bytes_io, **kw)\n",
      "/usr/local/lib/python3.11/dist-packages/IPython/core/pylabtools.py:151: UserWarning: Glyph 2368 (\\N{DEVANAGARI VOWEL SIGN II}) missing from current font.\n",
      "  fig.canvas.print_figure(bytes_io, **kw)\n",
      "/usr/local/lib/python3.11/dist-packages/IPython/core/pylabtools.py:151: UserWarning: Glyph 2310 (\\N{DEVANAGARI LETTER AA}) missing from current font.\n",
      "  fig.canvas.print_figure(bytes_io, **kw)\n",
      "/usr/local/lib/python3.11/dist-packages/IPython/core/pylabtools.py:151: UserWarning: Glyph 2332 (\\N{DEVANAGARI LETTER JA}) missing from current font.\n",
      "  fig.canvas.print_figure(bytes_io, **kw)\n",
      "/usr/local/lib/python3.11/dist-packages/IPython/core/pylabtools.py:151: UserWarning: Glyph 2370 (\\N{DEVANAGARI VOWEL SIGN UU}) missing from current font.\n",
      "  fig.canvas.print_figure(bytes_io, **kw)\n",
      "/usr/local/lib/python3.11/dist-packages/IPython/core/pylabtools.py:151: UserWarning: Glyph 2348 (\\N{DEVANAGARI LETTER BA}) missing from current font.\n",
      "  fig.canvas.print_figure(bytes_io, **kw)\n",
      "/usr/local/lib/python3.11/dist-packages/IPython/core/pylabtools.py:151: UserWarning: Glyph 2354 (\\N{DEVANAGARI LETTER LA}) missing from current font.\n",
      "  fig.canvas.print_figure(bytes_io, **kw)\n",
      "/usr/local/lib/python3.11/dist-packages/IPython/core/pylabtools.py:151: UserWarning: Glyph 2357 (\\N{DEVANAGARI LETTER VA}) missing from current font.\n",
      "  fig.canvas.print_figure(bytes_io, **kw)\n",
      "/usr/local/lib/python3.11/dist-packages/IPython/core/pylabtools.py:151: UserWarning: Glyph 2351 (\\N{DEVANAGARI LETTER YA}) missing from current font.\n",
      "  fig.canvas.print_figure(bytes_io, **kw)\n",
      "/usr/local/lib/python3.11/dist-packages/IPython/core/pylabtools.py:151: UserWarning: Glyph 2350 (\\N{DEVANAGARI LETTER MA}) missing from current font.\n",
      "  fig.canvas.print_figure(bytes_io, **kw)\n",
      "/usr/local/lib/python3.11/dist-packages/IPython/core/pylabtools.py:151: UserWarning: Glyph 2379 (\\N{DEVANAGARI VOWEL SIGN O}) missing from current font.\n",
      "  fig.canvas.print_figure(bytes_io, **kw)\n",
      "/usr/local/lib/python3.11/dist-packages/IPython/core/pylabtools.py:151: UserWarning: Glyph 2369 (\\N{DEVANAGARI VOWEL SIGN U}) missing from current font.\n",
      "  fig.canvas.print_figure(bytes_io, **kw)\n",
      "/usr/local/lib/python3.11/dist-packages/IPython/core/pylabtools.py:151: UserWarning: Glyph 2313 (\\N{DEVANAGARI LETTER U}) missing from current font.\n",
      "  fig.canvas.print_figure(bytes_io, **kw)\n",
      "/usr/local/lib/python3.11/dist-packages/IPython/core/pylabtools.py:151: UserWarning: Glyph 2344 (\\N{DEVANAGARI LETTER NA}) missing from current font.\n",
      "  fig.canvas.print_figure(bytes_io, **kw)\n",
      "/usr/local/lib/python3.11/dist-packages/IPython/core/pylabtools.py:151: UserWarning: Glyph 2340 (\\N{DEVANAGARI LETTER TA}) missing from current font.\n",
      "  fig.canvas.print_figure(bytes_io, **kw)\n"
     ]
    },
    {
     "data": {
      "image/png": "[encoded data removed]",
      "text/plain": [
       "<Figure size 1500x1500 with 18 Axes>"
      ]
     },
     "metadata": {},
     "output_type": "display_data"
    },
    {
     "data": {
      "image/png": "[encoded data removed]",
      "text/plain": [
       "<Figure size 1500x1500 with 9 Axes>"
      ]
     },
     "metadata": {},
     "output_type": "display_data"
    }
   ],
   "source": [
    "test_seq2seq_model(best_run_config)"
   ]
  },
  {
   "cell_type": "code",
   "execution_count": null,
   "metadata": {
    "trusted": true
   },
   "outputs": [],
   "source": []
  }
 ],
 "metadata": {
  "kaggle": {
   "accelerator": "nvidiaTeslaT4",
   "dataSources": [
    {
     "datasetId": 7340302,
     "sourceId": 11694993,
     "sourceType": "datasetVersion"
    },
    {
     "datasetId": 7467751,
     "sourceId": 11882097,
     "sourceType": "datasetVersion"
    }
   ],
   "dockerImageVersionId": 31041,
   "isGpuEnabled": true,
   "isInternetEnabled": true,
   "language": "python",
   "sourceType": "notebook"
  },
  "kernelspec": {
   "display_name": "Python 3",
   "language": "python",
   "name": "python3"
  },
  "language_info": {
   "codemirror_mode": {
    "name": "ipython",
    "version": 3
   },
   "file_extension": ".py",
   "mimetype": "text/x-python",
   "name": "python",
   "nbconvert_exporter": "python",
   "pygments_lexer": "ipython3",
   "version": "3.11.11"
  }
 },
 "nbformat": 4,
 "nbformat_minor": 4
}
